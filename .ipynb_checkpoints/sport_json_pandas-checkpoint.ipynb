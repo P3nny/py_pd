{
 "cells": [
  {
   "cell_type": "markdown",
   "metadata": {},
   "source": [
    "# Sport: Json into Pandas \n",
    "[http://hayd.github.io/2013/pandas-json/]"
   ]
  },
  {
   "cell_type": "code",
   "execution_count": 1,
   "metadata": {
    "collapsed": true
   },
   "outputs": [],
   "source": [
    "import pandas as pd\n",
    "import numpy as np\n",
    "import re\n",
    "import json\n",
    "import requests"
   ]
  },
  {
   "cell_type": "code",
   "execution_count": 2,
   "metadata": {
    "collapsed": false
   },
   "outputs": [],
   "source": [
    "def get_json():\n",
    "    r = requests.get('http://m.moers.de/www/verzeichnis-09.nsf/apijson.xsp/view-list-category1')\n",
    "    data = r.json()\n",
    "    return data"
   ]
  },
  {
   "cell_type": "code",
   "execution_count": 3,
   "metadata": {
    "collapsed": false
   },
   "outputs": [],
   "source": [
    "data = get_json()"
   ]
  },
  {
   "cell_type": "code",
   "execution_count": 4,
   "metadata": {
    "collapsed": true
   },
   "outputs": [],
   "source": [
    "from pandas.io.json import json_normalize"
   ]
  },
  {
   "cell_type": "code",
   "execution_count": 5,
   "metadata": {
    "collapsed": true
   },
   "outputs": [],
   "source": [
    "result = json_normalize(data)"
   ]
  },
  {
   "cell_type": "code",
   "execution_count": 6,
   "metadata": {
    "collapsed": false
   },
   "outputs": [
    {
     "data": {
      "text/html": [
       "<div>\n",
       "<table border=\"1\" class=\"dataframe\">\n",
       "  <thead>\n",
       "    <tr style=\"text-align: right;\">\n",
       "      <th></th>\n",
       "      <th>@category</th>\n",
       "      <th>@children</th>\n",
       "      <th>@entryid</th>\n",
       "      <th>@position</th>\n",
       "      <th>@siblings</th>\n",
       "      <th>@unid</th>\n",
       "      <th>DocName</th>\n",
       "      <th>Kategorie1</th>\n",
       "      <th>Kategorie2</th>\n",
       "      <th>Kategorie3</th>\n",
       "      <th>Key</th>\n",
       "      <th>Kurztext</th>\n",
       "      <th>SLat</th>\n",
       "      <th>SLng</th>\n",
       "      <th>Thumb</th>\n",
       "      <th>URL</th>\n",
       "    </tr>\n",
       "  </thead>\n",
       "  <tbody>\n",
       "    <tr>\n",
       "      <th>0</th>\n",
       "      <td>True</td>\n",
       "      <td>6.0</td>\n",
       "      <td>1-</td>\n",
       "      <td>1</td>\n",
       "      <td>9</td>\n",
       "      <td></td>\n",
       "      <td>NaN</td>\n",
       "      <td>NaN</td>\n",
       "      <td>NaN</td>\n",
       "      <td>NaN</td>\n",
       "      <td>Allgemeinsporthallen</td>\n",
       "      <td>NaN</td>\n",
       "      <td>NaN</td>\n",
       "      <td>NaN</td>\n",
       "      <td>NaN</td>\n",
       "      <td>NaN</td>\n",
       "    </tr>\n",
       "    <tr>\n",
       "      <th>1</th>\n",
       "      <td>NaN</td>\n",
       "      <td>NaN</td>\n",
       "      <td>1.1-EB58EACE8472528CC1257249004FC8F5</td>\n",
       "      <td>1.1</td>\n",
       "      <td>6</td>\n",
       "      <td>EB58EACE8472528CC1257249004FC8F5</td>\n",
       "      <td>Sporthalle Bergberufsschule</td>\n",
       "      <td>Allgemeinsporthallen</td>\n",
       "      <td></td>\n",
       "      <td></td>\n",
       "      <td>Allgemeinsporthallen</td>\n",
       "      <td></td>\n",
       "      <td>51.4472200</td>\n",
       "      <td>6.6594200</td>\n",
       "      <td></td>\n",
       "      <td>/www/verzeichnis-09.nsf/apijson.xsp/doc/EB58EA...</td>\n",
       "    </tr>\n",
       "    <tr>\n",
       "      <th>2</th>\n",
       "      <td>NaN</td>\n",
       "      <td>NaN</td>\n",
       "      <td>1.2-C6353C111FB136E6C1257249004FC8F6</td>\n",
       "      <td>1.2</td>\n",
       "      <td>6</td>\n",
       "      <td>C6353C111FB136E6C1257249004FC8F6</td>\n",
       "      <td>Sporthalle Berufsbildungszentrum</td>\n",
       "      <td>Allgemeinsporthallen</td>\n",
       "      <td></td>\n",
       "      <td></td>\n",
       "      <td>Allgemeinsporthallen</td>\n",
       "      <td></td>\n",
       "      <td></td>\n",
       "      <td></td>\n",
       "      <td></td>\n",
       "      <td>/www/verzeichnis-09.nsf/apijson.xsp/doc/C6353C...</td>\n",
       "    </tr>\n",
       "    <tr>\n",
       "      <th>3</th>\n",
       "      <td>NaN</td>\n",
       "      <td>NaN</td>\n",
       "      <td>1.3-F529BE13E091929AC1257249004FC951</td>\n",
       "      <td>1.3</td>\n",
       "      <td>6</td>\n",
       "      <td>F529BE13E091929AC1257249004FC951</td>\n",
       "      <td>Sporthalle Heinrich-Pattberg-Realschule</td>\n",
       "      <td>Allgemeinsporthallen</td>\n",
       "      <td></td>\n",
       "      <td></td>\n",
       "      <td>Allgemeinsporthallen</td>\n",
       "      <td></td>\n",
       "      <td></td>\n",
       "      <td></td>\n",
       "      <td></td>\n",
       "      <td>/www/verzeichnis-09.nsf/apijson.xsp/doc/F529BE...</td>\n",
       "    </tr>\n",
       "    <tr>\n",
       "      <th>4</th>\n",
       "      <td>NaN</td>\n",
       "      <td>NaN</td>\n",
       "      <td>1.4-CB48749A464E2B86C1257249004FC8F7</td>\n",
       "      <td>1.4</td>\n",
       "      <td>6</td>\n",
       "      <td>CB48749A464E2B86C1257249004FC8F7</td>\n",
       "      <td>Sporthalle Henri-Guidet-Zentrum</td>\n",
       "      <td>Allgemeinsporthallen</td>\n",
       "      <td></td>\n",
       "      <td></td>\n",
       "      <td>Allgemeinsporthallen</td>\n",
       "      <td></td>\n",
       "      <td>51.4142100</td>\n",
       "      <td>6.5964900</td>\n",
       "      <td></td>\n",
       "      <td>/www/verzeichnis-09.nsf/apijson.xsp/doc/CB4874...</td>\n",
       "    </tr>\n",
       "  </tbody>\n",
       "</table>\n",
       "</div>"
      ],
      "text/plain": [
       "  @category  @children                              @entryid @position  \\\n",
       "0      True        6.0                                    1-         1   \n",
       "1       NaN        NaN  1.1-EB58EACE8472528CC1257249004FC8F5       1.1   \n",
       "2       NaN        NaN  1.2-C6353C111FB136E6C1257249004FC8F6       1.2   \n",
       "3       NaN        NaN  1.3-F529BE13E091929AC1257249004FC951       1.3   \n",
       "4       NaN        NaN  1.4-CB48749A464E2B86C1257249004FC8F7       1.4   \n",
       "\n",
       "   @siblings                             @unid  \\\n",
       "0          9                                     \n",
       "1          6  EB58EACE8472528CC1257249004FC8F5   \n",
       "2          6  C6353C111FB136E6C1257249004FC8F6   \n",
       "3          6  F529BE13E091929AC1257249004FC951   \n",
       "4          6  CB48749A464E2B86C1257249004FC8F7   \n",
       "\n",
       "                                   DocName            Kategorie1 Kategorie2  \\\n",
       "0                                      NaN                   NaN        NaN   \n",
       "1              Sporthalle Bergberufsschule  Allgemeinsporthallen              \n",
       "2         Sporthalle Berufsbildungszentrum  Allgemeinsporthallen              \n",
       "3  Sporthalle Heinrich-Pattberg-Realschule  Allgemeinsporthallen              \n",
       "4          Sporthalle Henri-Guidet-Zentrum  Allgemeinsporthallen              \n",
       "\n",
       "  Kategorie3                   Key Kurztext        SLat       SLng Thumb  \\\n",
       "0        NaN  Allgemeinsporthallen      NaN         NaN        NaN   NaN   \n",
       "1             Allgemeinsporthallen           51.4472200  6.6594200         \n",
       "2             Allgemeinsporthallen                                         \n",
       "3             Allgemeinsporthallen                                         \n",
       "4             Allgemeinsporthallen           51.4142100  6.5964900         \n",
       "\n",
       "                                                 URL  \n",
       "0                                                NaN  \n",
       "1  /www/verzeichnis-09.nsf/apijson.xsp/doc/EB58EA...  \n",
       "2  /www/verzeichnis-09.nsf/apijson.xsp/doc/C6353C...  \n",
       "3  /www/verzeichnis-09.nsf/apijson.xsp/doc/F529BE...  \n",
       "4  /www/verzeichnis-09.nsf/apijson.xsp/doc/CB4874...  "
      ]
     },
     "execution_count": 6,
     "metadata": {},
     "output_type": "execute_result"
    }
   ],
   "source": [
    "result.head()"
   ]
  },
  {
   "cell_type": "code",
   "execution_count": 7,
   "metadata": {
    "collapsed": false
   },
   "outputs": [],
   "source": [
    "df = result[['@position', 'DocName', 'Kategorie1', 'Kategorie2', 'SLat', 'SLng', 'URL']]"
   ]
  },
  {
   "cell_type": "code",
   "execution_count": 8,
   "metadata": {
    "collapsed": false
   },
   "outputs": [
    {
     "data": {
      "text/plain": [
       "97"
      ]
     },
     "execution_count": 8,
     "metadata": {},
     "output_type": "execute_result"
    }
   ],
   "source": [
    "len(df)"
   ]
  },
  {
   "cell_type": "code",
   "execution_count": 9,
   "metadata": {
    "collapsed": false
   },
   "outputs": [
    {
     "data": {
      "text/plain": [
       "pandas.core.frame.DataFrame"
      ]
     },
     "execution_count": 9,
     "metadata": {},
     "output_type": "execute_result"
    }
   ],
   "source": [
    "type(df)"
   ]
  },
  {
   "cell_type": "code",
   "execution_count": 10,
   "metadata": {
    "collapsed": false
   },
   "outputs": [
    {
     "data": {
      "text/plain": [
       "@position     object\n",
       "DocName       object\n",
       "Kategorie1    object\n",
       "Kategorie2    object\n",
       "SLat          object\n",
       "SLng          object\n",
       "URL           object\n",
       "dtype: object"
      ]
     },
     "execution_count": 10,
     "metadata": {},
     "output_type": "execute_result"
    }
   ],
   "source": [
    "df.dtypes"
   ]
  },
  {
   "cell_type": "code",
   "execution_count": 11,
   "metadata": {
    "collapsed": false
   },
   "outputs": [
    {
     "data": {
      "text/html": [
       "<div>\n",
       "<table border=\"1\" class=\"dataframe\">\n",
       "  <thead>\n",
       "    <tr style=\"text-align: right;\">\n",
       "      <th></th>\n",
       "      <th>@position</th>\n",
       "      <th>DocName</th>\n",
       "      <th>Kategorie1</th>\n",
       "      <th>Kategorie2</th>\n",
       "      <th>SLat</th>\n",
       "      <th>SLng</th>\n",
       "      <th>URL</th>\n",
       "    </tr>\n",
       "  </thead>\n",
       "  <tbody>\n",
       "    <tr>\n",
       "      <th>92</th>\n",
       "      <td>9.27</td>\n",
       "      <td>Repelen</td>\n",
       "      <td>Turn- und Sporthallen</td>\n",
       "      <td></td>\n",
       "      <td>51.4811600</td>\n",
       "      <td>6.6018100</td>\n",
       "      <td>/www/verzeichnis-09.nsf/apijson.xsp/doc/7C4720...</td>\n",
       "    </tr>\n",
       "    <tr>\n",
       "      <th>93</th>\n",
       "      <td>9.28</td>\n",
       "      <td>Rheim</td>\n",
       "      <td>Turn- und Sporthallen</td>\n",
       "      <td></td>\n",
       "      <td>51.4879900</td>\n",
       "      <td>6.5974500</td>\n",
       "      <td>/www/verzeichnis-09.nsf/apijson.xsp/doc/848EC2...</td>\n",
       "    </tr>\n",
       "    <tr>\n",
       "      <th>94</th>\n",
       "      <td>9.29</td>\n",
       "      <td>Römerstraße</td>\n",
       "      <td>Turn- und Sporthallen</td>\n",
       "      <td></td>\n",
       "      <td>51.4664400</td>\n",
       "      <td>6.6507300</td>\n",
       "      <td>/www/verzeichnis-09.nsf/apijson.xsp/doc/A0A308...</td>\n",
       "    </tr>\n",
       "    <tr>\n",
       "      <th>95</th>\n",
       "      <td>9.30</td>\n",
       "      <td>Turnhalle der Robinsonschule</td>\n",
       "      <td>Turn- und Sporthallen</td>\n",
       "      <td></td>\n",
       "      <td>51.4867200</td>\n",
       "      <td>6.6385500</td>\n",
       "      <td>/www/verzeichnis-09.nsf/apijson.xsp/doc/6BD3F5...</td>\n",
       "    </tr>\n",
       "    <tr>\n",
       "      <th>96</th>\n",
       "      <td>9.31</td>\n",
       "      <td>Turnhalle Waldschule Schwafheim</td>\n",
       "      <td>Turn- und Sporthallen</td>\n",
       "      <td></td>\n",
       "      <td>51.4232442</td>\n",
       "      <td>6.6518708</td>\n",
       "      <td>/www/verzeichnis-09.nsf/apijson.xsp/doc/A67BE5...</td>\n",
       "    </tr>\n",
       "  </tbody>\n",
       "</table>\n",
       "</div>"
      ],
      "text/plain": [
       "   @position                          DocName             Kategorie1  \\\n",
       "92      9.27                          Repelen  Turn- und Sporthallen   \n",
       "93      9.28                            Rheim  Turn- und Sporthallen   \n",
       "94      9.29                      Römerstraße  Turn- und Sporthallen   \n",
       "95      9.30     Turnhalle der Robinsonschule  Turn- und Sporthallen   \n",
       "96      9.31  Turnhalle Waldschule Schwafheim  Turn- und Sporthallen   \n",
       "\n",
       "   Kategorie2        SLat       SLng  \\\n",
       "92             51.4811600  6.6018100   \n",
       "93             51.4879900  6.5974500   \n",
       "94             51.4664400  6.6507300   \n",
       "95             51.4867200  6.6385500   \n",
       "96             51.4232442  6.6518708   \n",
       "\n",
       "                                                  URL  \n",
       "92  /www/verzeichnis-09.nsf/apijson.xsp/doc/7C4720...  \n",
       "93  /www/verzeichnis-09.nsf/apijson.xsp/doc/848EC2...  \n",
       "94  /www/verzeichnis-09.nsf/apijson.xsp/doc/A0A308...  \n",
       "95  /www/verzeichnis-09.nsf/apijson.xsp/doc/6BD3F5...  \n",
       "96  /www/verzeichnis-09.nsf/apijson.xsp/doc/A67BE5...  "
      ]
     },
     "execution_count": 11,
     "metadata": {},
     "output_type": "execute_result"
    }
   ],
   "source": [
    "df.tail()"
   ]
  },
  {
   "cell_type": "code",
   "execution_count": null,
   "metadata": {
    "collapsed": true
   },
   "outputs": [],
   "source": []
  },
  {
   "cell_type": "code",
   "execution_count": 12,
   "metadata": {
    "collapsed": true
   },
   "outputs": [],
   "source": [
    "df.columns = ['pos', 'name', 'cat1','cat2','x','y','url']"
   ]
  },
  {
   "cell_type": "code",
   "execution_count": 13,
   "metadata": {
    "collapsed": false
   },
   "outputs": [
    {
     "data": {
      "text/html": [
       "<div>\n",
       "<table border=\"1\" class=\"dataframe\">\n",
       "  <thead>\n",
       "    <tr style=\"text-align: right;\">\n",
       "      <th></th>\n",
       "      <th>pos</th>\n",
       "      <th>name</th>\n",
       "      <th>cat1</th>\n",
       "      <th>cat2</th>\n",
       "      <th>x</th>\n",
       "      <th>y</th>\n",
       "      <th>url</th>\n",
       "    </tr>\n",
       "  </thead>\n",
       "  <tbody>\n",
       "    <tr>\n",
       "      <th>0</th>\n",
       "      <td>1</td>\n",
       "      <td>NaN</td>\n",
       "      <td>NaN</td>\n",
       "      <td>NaN</td>\n",
       "      <td>NaN</td>\n",
       "      <td>NaN</td>\n",
       "      <td>NaN</td>\n",
       "    </tr>\n",
       "    <tr>\n",
       "      <th>1</th>\n",
       "      <td>1.1</td>\n",
       "      <td>Sporthalle Bergberufsschule</td>\n",
       "      <td>Allgemeinsporthallen</td>\n",
       "      <td></td>\n",
       "      <td>51.4472200</td>\n",
       "      <td>6.6594200</td>\n",
       "      <td>/www/verzeichnis-09.nsf/apijson.xsp/doc/EB58EA...</td>\n",
       "    </tr>\n",
       "    <tr>\n",
       "      <th>2</th>\n",
       "      <td>1.2</td>\n",
       "      <td>Sporthalle Berufsbildungszentrum</td>\n",
       "      <td>Allgemeinsporthallen</td>\n",
       "      <td></td>\n",
       "      <td></td>\n",
       "      <td></td>\n",
       "      <td>/www/verzeichnis-09.nsf/apijson.xsp/doc/C6353C...</td>\n",
       "    </tr>\n",
       "    <tr>\n",
       "      <th>3</th>\n",
       "      <td>1.3</td>\n",
       "      <td>Sporthalle Heinrich-Pattberg-Realschule</td>\n",
       "      <td>Allgemeinsporthallen</td>\n",
       "      <td></td>\n",
       "      <td></td>\n",
       "      <td></td>\n",
       "      <td>/www/verzeichnis-09.nsf/apijson.xsp/doc/F529BE...</td>\n",
       "    </tr>\n",
       "    <tr>\n",
       "      <th>4</th>\n",
       "      <td>1.4</td>\n",
       "      <td>Sporthalle Henri-Guidet-Zentrum</td>\n",
       "      <td>Allgemeinsporthallen</td>\n",
       "      <td></td>\n",
       "      <td>51.4142100</td>\n",
       "      <td>6.5964900</td>\n",
       "      <td>/www/verzeichnis-09.nsf/apijson.xsp/doc/CB4874...</td>\n",
       "    </tr>\n",
       "  </tbody>\n",
       "</table>\n",
       "</div>"
      ],
      "text/plain": [
       "   pos                                     name                  cat1 cat2  \\\n",
       "0    1                                      NaN                   NaN  NaN   \n",
       "1  1.1              Sporthalle Bergberufsschule  Allgemeinsporthallen        \n",
       "2  1.2         Sporthalle Berufsbildungszentrum  Allgemeinsporthallen        \n",
       "3  1.3  Sporthalle Heinrich-Pattberg-Realschule  Allgemeinsporthallen        \n",
       "4  1.4          Sporthalle Henri-Guidet-Zentrum  Allgemeinsporthallen        \n",
       "\n",
       "            x          y                                                url  \n",
       "0         NaN        NaN                                                NaN  \n",
       "1  51.4472200  6.6594200  /www/verzeichnis-09.nsf/apijson.xsp/doc/EB58EA...  \n",
       "2                         /www/verzeichnis-09.nsf/apijson.xsp/doc/C6353C...  \n",
       "3                         /www/verzeichnis-09.nsf/apijson.xsp/doc/F529BE...  \n",
       "4  51.4142100  6.5964900  /www/verzeichnis-09.nsf/apijson.xsp/doc/CB4874...  "
      ]
     },
     "execution_count": 13,
     "metadata": {},
     "output_type": "execute_result"
    }
   ],
   "source": [
    "df.head()"
   ]
  },
  {
   "cell_type": "code",
   "execution_count": 14,
   "metadata": {
    "collapsed": false
   },
   "outputs": [
    {
     "name": "stderr",
     "output_type": "stream",
     "text": [
      "/usr/local/lib/python3.4/dist-packages/ipykernel/__main__.py:1: SettingWithCopyWarning: \n",
      "A value is trying to be set on a copy of a slice from a DataFrame.\n",
      "Try using .loc[row_indexer,col_indexer] = value instead\n",
      "\n",
      "See the caveats in the documentation: http://pandas.pydata.org/pandas-docs/stable/indexing.html#indexing-view-versus-copy\n",
      "  if __name__ == '__main__':\n"
     ]
    }
   ],
   "source": [
    "df['id'] = df.index"
   ]
  },
  {
   "cell_type": "code",
   "execution_count": 15,
   "metadata": {
    "collapsed": false
   },
   "outputs": [
    {
     "data": {
      "text/html": [
       "<div>\n",
       "<table border=\"1\" class=\"dataframe\">\n",
       "  <thead>\n",
       "    <tr style=\"text-align: right;\">\n",
       "      <th></th>\n",
       "      <th>pos</th>\n",
       "      <th>name</th>\n",
       "      <th>cat1</th>\n",
       "      <th>cat2</th>\n",
       "      <th>x</th>\n",
       "      <th>y</th>\n",
       "      <th>url</th>\n",
       "      <th>id</th>\n",
       "    </tr>\n",
       "  </thead>\n",
       "  <tbody>\n",
       "    <tr>\n",
       "      <th>0</th>\n",
       "      <td>1</td>\n",
       "      <td>NaN</td>\n",
       "      <td>NaN</td>\n",
       "      <td>NaN</td>\n",
       "      <td>NaN</td>\n",
       "      <td>NaN</td>\n",
       "      <td>NaN</td>\n",
       "      <td>0</td>\n",
       "    </tr>\n",
       "    <tr>\n",
       "      <th>1</th>\n",
       "      <td>1.1</td>\n",
       "      <td>Sporthalle Bergberufsschule</td>\n",
       "      <td>Allgemeinsporthallen</td>\n",
       "      <td></td>\n",
       "      <td>51.4472200</td>\n",
       "      <td>6.6594200</td>\n",
       "      <td>/www/verzeichnis-09.nsf/apijson.xsp/doc/EB58EA...</td>\n",
       "      <td>1</td>\n",
       "    </tr>\n",
       "    <tr>\n",
       "      <th>2</th>\n",
       "      <td>1.2</td>\n",
       "      <td>Sporthalle Berufsbildungszentrum</td>\n",
       "      <td>Allgemeinsporthallen</td>\n",
       "      <td></td>\n",
       "      <td></td>\n",
       "      <td></td>\n",
       "      <td>/www/verzeichnis-09.nsf/apijson.xsp/doc/C6353C...</td>\n",
       "      <td>2</td>\n",
       "    </tr>\n",
       "    <tr>\n",
       "      <th>3</th>\n",
       "      <td>1.3</td>\n",
       "      <td>Sporthalle Heinrich-Pattberg-Realschule</td>\n",
       "      <td>Allgemeinsporthallen</td>\n",
       "      <td></td>\n",
       "      <td></td>\n",
       "      <td></td>\n",
       "      <td>/www/verzeichnis-09.nsf/apijson.xsp/doc/F529BE...</td>\n",
       "      <td>3</td>\n",
       "    </tr>\n",
       "    <tr>\n",
       "      <th>4</th>\n",
       "      <td>1.4</td>\n",
       "      <td>Sporthalle Henri-Guidet-Zentrum</td>\n",
       "      <td>Allgemeinsporthallen</td>\n",
       "      <td></td>\n",
       "      <td>51.4142100</td>\n",
       "      <td>6.5964900</td>\n",
       "      <td>/www/verzeichnis-09.nsf/apijson.xsp/doc/CB4874...</td>\n",
       "      <td>4</td>\n",
       "    </tr>\n",
       "  </tbody>\n",
       "</table>\n",
       "</div>"
      ],
      "text/plain": [
       "   pos                                     name                  cat1 cat2  \\\n",
       "0    1                                      NaN                   NaN  NaN   \n",
       "1  1.1              Sporthalle Bergberufsschule  Allgemeinsporthallen        \n",
       "2  1.2         Sporthalle Berufsbildungszentrum  Allgemeinsporthallen        \n",
       "3  1.3  Sporthalle Heinrich-Pattberg-Realschule  Allgemeinsporthallen        \n",
       "4  1.4          Sporthalle Henri-Guidet-Zentrum  Allgemeinsporthallen        \n",
       "\n",
       "            x          y                                                url  \\\n",
       "0         NaN        NaN                                                NaN   \n",
       "1  51.4472200  6.6594200  /www/verzeichnis-09.nsf/apijson.xsp/doc/EB58EA...   \n",
       "2                         /www/verzeichnis-09.nsf/apijson.xsp/doc/C6353C...   \n",
       "3                         /www/verzeichnis-09.nsf/apijson.xsp/doc/F529BE...   \n",
       "4  51.4142100  6.5964900  /www/verzeichnis-09.nsf/apijson.xsp/doc/CB4874...   \n",
       "\n",
       "   id  \n",
       "0   0  \n",
       "1   1  \n",
       "2   2  \n",
       "3   3  \n",
       "4   4  "
      ]
     },
     "execution_count": 15,
     "metadata": {},
     "output_type": "execute_result"
    }
   ],
   "source": [
    "df.head()"
   ]
  },
  {
   "cell_type": "code",
   "execution_count": null,
   "metadata": {
    "collapsed": false
   },
   "outputs": [],
   "source": []
  },
  {
   "cell_type": "code",
   "execution_count": 16,
   "metadata": {
    "collapsed": false
   },
   "outputs": [
    {
     "name": "stderr",
     "output_type": "stream",
     "text": [
      "/usr/local/lib/python3.4/dist-packages/ipykernel/__main__.py:4: SettingWithCopyWarning: \n",
      "A value is trying to be set on a copy of a slice from a DataFrame.\n",
      "Try using .loc[row_indexer,col_indexer] = value instead\n",
      "\n",
      "See the caveats in the documentation: http://pandas.pydata.org/pandas-docs/stable/indexing.html#indexing-view-versus-copy\n"
     ]
    }
   ],
   "source": [
    "# ??? Urls ersetzen \n",
    "# s3.str.replace('^.a|dog', 'XX-XX ', case=False)\n",
    "\n",
    "df['url'] = df['url'].str.replace('/www', 'http://m.moers.de/www', case=False)\n"
   ]
  },
  {
   "cell_type": "code",
   "execution_count": 17,
   "metadata": {
    "collapsed": false
   },
   "outputs": [
    {
     "data": {
      "text/plain": [
       "pos     object\n",
       "name    object\n",
       "cat1    object\n",
       "cat2    object\n",
       "x       object\n",
       "y       object\n",
       "url     object\n",
       "id       int64\n",
       "dtype: object"
      ]
     },
     "execution_count": 17,
     "metadata": {},
     "output_type": "execute_result"
    }
   ],
   "source": [
    "df.dtypes"
   ]
  },
  {
   "cell_type": "code",
   "execution_count": 18,
   "metadata": {
    "collapsed": false
   },
   "outputs": [
    {
     "name": "stderr",
     "output_type": "stream",
     "text": [
      "/usr/local/lib/python3.4/dist-packages/ipykernel/__main__.py:2: SettingWithCopyWarning: \n",
      "A value is trying to be set on a copy of a slice from a DataFrame.\n",
      "Try using .loc[row_indexer,col_indexer] = value instead\n",
      "\n",
      "See the caveats in the documentation: http://pandas.pydata.org/pandas-docs/stable/indexing.html#indexing-view-versus-copy\n",
      "  from ipykernel import kernelapp as app\n",
      "/usr/local/lib/python3.4/dist-packages/ipykernel/__main__.py:3: SettingWithCopyWarning: \n",
      "A value is trying to be set on a copy of a slice from a DataFrame.\n",
      "Try using .loc[row_indexer,col_indexer] = value instead\n",
      "\n",
      "See the caveats in the documentation: http://pandas.pydata.org/pandas-docs/stable/indexing.html#indexing-view-versus-copy\n",
      "  app.launch_new_instance()\n"
     ]
    }
   ],
   "source": [
    "# datentyp ändern \n",
    "df['x'] = pd.to_numeric(df['x'], errors='coerce')\n",
    "df['y'] = pd.to_numeric(df['y'], errors='coerce')"
   ]
  },
  {
   "cell_type": "code",
   "execution_count": 19,
   "metadata": {
    "collapsed": false
   },
   "outputs": [
    {
     "data": {
      "text/plain": [
       "pos      object\n",
       "name     object\n",
       "cat1     object\n",
       "cat2     object\n",
       "x       float64\n",
       "y       float64\n",
       "url      object\n",
       "id        int64\n",
       "dtype: object"
      ]
     },
     "execution_count": 19,
     "metadata": {},
     "output_type": "execute_result"
    }
   ],
   "source": [
    "df.dtypes"
   ]
  },
  {
   "cell_type": "code",
   "execution_count": 20,
   "metadata": {
    "collapsed": false
   },
   "outputs": [
    {
     "data": {
      "text/plain": [
       "87"
      ]
     },
     "execution_count": 20,
     "metadata": {},
     "output_type": "execute_result"
    }
   ],
   "source": [
    "df = df.drop_duplicates(['name'])\n",
    "len(df)"
   ]
  },
  {
   "cell_type": "code",
   "execution_count": 21,
   "metadata": {
    "collapsed": false
   },
   "outputs": [
    {
     "data": {
      "text/plain": [
       "True"
      ]
     },
     "execution_count": 21,
     "metadata": {},
     "output_type": "execute_result"
    }
   ],
   "source": [
    "df.isnull().values.any()"
   ]
  },
  {
   "cell_type": "code",
   "execution_count": 22,
   "metadata": {
    "collapsed": false
   },
   "outputs": [],
   "source": [
    "df = df[df.x.notnull()]"
   ]
  },
  {
   "cell_type": "code",
   "execution_count": 23,
   "metadata": {
    "collapsed": false
   },
   "outputs": [
    {
     "data": {
      "text/plain": [
       "79"
      ]
     },
     "execution_count": 23,
     "metadata": {},
     "output_type": "execute_result"
    }
   ],
   "source": [
    "len(df)"
   ]
  },
  {
   "cell_type": "code",
   "execution_count": 26,
   "metadata": {
    "collapsed": true
   },
   "outputs": [],
   "source": [
    "# Filtern "
   ]
  },
  {
   "cell_type": "code",
   "execution_count": 27,
   "metadata": {
    "collapsed": true
   },
   "outputs": [],
   "source": [
    "baeder = df[df.cat1 == 'Bäder']"
   ]
  },
  {
   "cell_type": "code",
   "execution_count": 28,
   "metadata": {
    "collapsed": false
   },
   "outputs": [
    {
     "data": {
      "text/html": [
       "<div>\n",
       "<table border=\"1\" class=\"dataframe\">\n",
       "  <thead>\n",
       "    <tr style=\"text-align: right;\">\n",
       "      <th></th>\n",
       "      <th>pos</th>\n",
       "      <th>name</th>\n",
       "      <th>cat1</th>\n",
       "      <th>cat2</th>\n",
       "      <th>x</th>\n",
       "      <th>y</th>\n",
       "      <th>url</th>\n",
       "      <th>id</th>\n",
       "    </tr>\n",
       "  </thead>\n",
       "  <tbody>\n",
       "    <tr>\n",
       "      <th>9</th>\n",
       "      <td>2.2</td>\n",
       "      <td>Freibad Bettenkamp - Naturfreibad</td>\n",
       "      <td>Bäder</td>\n",
       "      <td></td>\n",
       "      <td>51.438814</td>\n",
       "      <td>6.610323</td>\n",
       "      <td>http://m.moers.de/www/verzeichnis-09.nsf/apijs...</td>\n",
       "      <td>9</td>\n",
       "    </tr>\n",
       "    <tr>\n",
       "      <th>10</th>\n",
       "      <td>2.3</td>\n",
       "      <td>Lehrschwimmbecken Kapellen</td>\n",
       "      <td>Bäder</td>\n",
       "      <td></td>\n",
       "      <td>51.419770</td>\n",
       "      <td>6.589720</td>\n",
       "      <td>http://m.moers.de/www/verzeichnis-09.nsf/apijs...</td>\n",
       "      <td>10</td>\n",
       "    </tr>\n",
       "    <tr>\n",
       "      <th>11</th>\n",
       "      <td>2.4</td>\n",
       "      <td>Lehrschwimmbecken Kirschenallee</td>\n",
       "      <td>Bäder</td>\n",
       "      <td></td>\n",
       "      <td>51.455509</td>\n",
       "      <td>6.652829</td>\n",
       "      <td>http://m.moers.de/www/verzeichnis-09.nsf/apijs...</td>\n",
       "      <td>11</td>\n",
       "    </tr>\n",
       "  </tbody>\n",
       "</table>\n",
       "</div>"
      ],
      "text/plain": [
       "    pos                               name   cat1 cat2          x         y  \\\n",
       "9   2.2  Freibad Bettenkamp - Naturfreibad  Bäder       51.438814  6.610323   \n",
       "10  2.3         Lehrschwimmbecken Kapellen  Bäder       51.419770  6.589720   \n",
       "11  2.4    Lehrschwimmbecken Kirschenallee  Bäder       51.455509  6.652829   \n",
       "\n",
       "                                                  url  id  \n",
       "9   http://m.moers.de/www/verzeichnis-09.nsf/apijs...   9  \n",
       "10  http://m.moers.de/www/verzeichnis-09.nsf/apijs...  10  \n",
       "11  http://m.moers.de/www/verzeichnis-09.nsf/apijs...  11  "
      ]
     },
     "execution_count": 28,
     "metadata": {},
     "output_type": "execute_result"
    }
   ],
   "source": [
    "baeder"
   ]
  },
  {
   "cell_type": "code",
   "execution_count": 29,
   "metadata": {
    "collapsed": true
   },
   "outputs": [],
   "source": [
    "schiess = df[df.cat1 == 'Schießsportanlagen']"
   ]
  },
  {
   "cell_type": "code",
   "execution_count": 30,
   "metadata": {
    "collapsed": false
   },
   "outputs": [
    {
     "data": {
      "text/html": [
       "<div>\n",
       "<table border=\"1\" class=\"dataframe\">\n",
       "  <thead>\n",
       "    <tr style=\"text-align: right;\">\n",
       "      <th></th>\n",
       "      <th>pos</th>\n",
       "      <th>name</th>\n",
       "      <th>cat1</th>\n",
       "      <th>cat2</th>\n",
       "      <th>x</th>\n",
       "      <th>y</th>\n",
       "      <th>url</th>\n",
       "      <th>id</th>\n",
       "    </tr>\n",
       "  </thead>\n",
       "  <tbody>\n",
       "    <tr>\n",
       "      <th>26</th>\n",
       "      <td>6.1</td>\n",
       "      <td>BSV Scherpenberg e.V.</td>\n",
       "      <td>Schießsportanlagen</td>\n",
       "      <td></td>\n",
       "      <td>51.447998</td>\n",
       "      <td>6.669657</td>\n",
       "      <td>http://m.moers.de/www/verzeichnis-09.nsf/apijs...</td>\n",
       "      <td>26</td>\n",
       "    </tr>\n",
       "    <tr>\n",
       "      <th>27</th>\n",
       "      <td>6.2</td>\n",
       "      <td>Bürgerschützenverein Kapellen e.V.</td>\n",
       "      <td>Schießsportanlagen</td>\n",
       "      <td></td>\n",
       "      <td>51.407760</td>\n",
       "      <td>6.596500</td>\n",
       "      <td>http://m.moers.de/www/verzeichnis-09.nsf/apijs...</td>\n",
       "      <td>27</td>\n",
       "    </tr>\n",
       "    <tr>\n",
       "      <th>28</th>\n",
       "      <td>6.3</td>\n",
       "      <td>Bürgerschützenverein Vinn 03 e.V.</td>\n",
       "      <td>Schießsportanlagen</td>\n",
       "      <td></td>\n",
       "      <td>51.439805</td>\n",
       "      <td>6.632836</td>\n",
       "      <td>http://m.moers.de/www/verzeichnis-09.nsf/apijs...</td>\n",
       "      <td>28</td>\n",
       "    </tr>\n",
       "    <tr>\n",
       "      <th>29</th>\n",
       "      <td>6.4</td>\n",
       "      <td>Holderberger-Bettenkamper Bürgerschützenverein...</td>\n",
       "      <td>Schießsportanlagen</td>\n",
       "      <td></td>\n",
       "      <td>51.423845</td>\n",
       "      <td>6.616388</td>\n",
       "      <td>http://m.moers.de/www/verzeichnis-09.nsf/apijs...</td>\n",
       "      <td>29</td>\n",
       "    </tr>\n",
       "    <tr>\n",
       "      <th>30</th>\n",
       "      <td>6.5</td>\n",
       "      <td>Moerser Sportschützen 1952 e.V.</td>\n",
       "      <td>Schießsportanlagen</td>\n",
       "      <td></td>\n",
       "      <td>51.472340</td>\n",
       "      <td>6.635510</td>\n",
       "      <td>http://m.moers.de/www/verzeichnis-09.nsf/apijs...</td>\n",
       "      <td>30</td>\n",
       "    </tr>\n",
       "    <tr>\n",
       "      <th>31</th>\n",
       "      <td>6.6</td>\n",
       "      <td>SC Rheinkamp e.V.</td>\n",
       "      <td>Schießsportanlagen</td>\n",
       "      <td></td>\n",
       "      <td>51.480029</td>\n",
       "      <td>6.635604</td>\n",
       "      <td>http://m.moers.de/www/verzeichnis-09.nsf/apijs...</td>\n",
       "      <td>31</td>\n",
       "    </tr>\n",
       "    <tr>\n",
       "      <th>33</th>\n",
       "      <td>6.8</td>\n",
       "      <td>SV Asberg 01 / Polizeisportschützen e.V.</td>\n",
       "      <td>Schießsportanlagen</td>\n",
       "      <td></td>\n",
       "      <td>51.444680</td>\n",
       "      <td>6.665840</td>\n",
       "      <td>http://m.moers.de/www/verzeichnis-09.nsf/apijs...</td>\n",
       "      <td>33</td>\n",
       "    </tr>\n",
       "    <tr>\n",
       "      <th>34</th>\n",
       "      <td>6.9</td>\n",
       "      <td>Zentrale Schießsportanlage Kapellen</td>\n",
       "      <td>Schießsportanlagen</td>\n",
       "      <td></td>\n",
       "      <td>51.415097</td>\n",
       "      <td>6.597369</td>\n",
       "      <td>http://m.moers.de/www/verzeichnis-09.nsf/apijs...</td>\n",
       "      <td>34</td>\n",
       "    </tr>\n",
       "  </tbody>\n",
       "</table>\n",
       "</div>"
      ],
      "text/plain": [
       "    pos                                               name  \\\n",
       "26  6.1                              BSV Scherpenberg e.V.   \n",
       "27  6.2                 Bürgerschützenverein Kapellen e.V.   \n",
       "28  6.3                  Bürgerschützenverein Vinn 03 e.V.   \n",
       "29  6.4  Holderberger-Bettenkamper Bürgerschützenverein...   \n",
       "30  6.5                    Moerser Sportschützen 1952 e.V.   \n",
       "31  6.6                                  SC Rheinkamp e.V.   \n",
       "33  6.8           SV Asberg 01 / Polizeisportschützen e.V.   \n",
       "34  6.9                Zentrale Schießsportanlage Kapellen   \n",
       "\n",
       "                  cat1 cat2          x         y  \\\n",
       "26  Schießsportanlagen       51.447998  6.669657   \n",
       "27  Schießsportanlagen       51.407760  6.596500   \n",
       "28  Schießsportanlagen       51.439805  6.632836   \n",
       "29  Schießsportanlagen       51.423845  6.616388   \n",
       "30  Schießsportanlagen       51.472340  6.635510   \n",
       "31  Schießsportanlagen       51.480029  6.635604   \n",
       "33  Schießsportanlagen       51.444680  6.665840   \n",
       "34  Schießsportanlagen       51.415097  6.597369   \n",
       "\n",
       "                                                  url  id  \n",
       "26  http://m.moers.de/www/verzeichnis-09.nsf/apijs...  26  \n",
       "27  http://m.moers.de/www/verzeichnis-09.nsf/apijs...  27  \n",
       "28  http://m.moers.de/www/verzeichnis-09.nsf/apijs...  28  \n",
       "29  http://m.moers.de/www/verzeichnis-09.nsf/apijs...  29  \n",
       "30  http://m.moers.de/www/verzeichnis-09.nsf/apijs...  30  \n",
       "31  http://m.moers.de/www/verzeichnis-09.nsf/apijs...  31  \n",
       "33  http://m.moers.de/www/verzeichnis-09.nsf/apijs...  33  \n",
       "34  http://m.moers.de/www/verzeichnis-09.nsf/apijs...  34  "
      ]
     },
     "execution_count": 30,
     "metadata": {},
     "output_type": "execute_result"
    }
   ],
   "source": [
    "schiess"
   ]
  },
  {
   "cell_type": "code",
   "execution_count": 32,
   "metadata": {
    "collapsed": false
   },
   "outputs": [],
   "source": [
    "schiess.to_csv('static/schiess.csv')"
   ]
  },
  {
   "cell_type": "code",
   "execution_count": null,
   "metadata": {
    "collapsed": true
   },
   "outputs": [],
   "source": []
  }
 ],
 "metadata": {
  "kernelspec": {
   "display_name": "Python 3",
   "language": "python",
   "name": "python3"
  },
  "language_info": {
   "codemirror_mode": {
    "name": "ipython",
    "version": 3
   },
   "file_extension": ".py",
   "mimetype": "text/x-python",
   "name": "python",
   "nbconvert_exporter": "python",
   "pygments_lexer": "ipython3",
   "version": "3.4.2"
  }
 },
 "nbformat": 4,
 "nbformat_minor": 0
}
