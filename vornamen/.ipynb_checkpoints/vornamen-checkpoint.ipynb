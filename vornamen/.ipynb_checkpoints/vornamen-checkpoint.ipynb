{
 "cells": [
  {
   "cell_type": "code",
   "execution_count": null,
   "metadata": {
    "collapsed": false
   },
   "outputs": [],
   "source": [
    "import pandas as pd\n",
    "import re\n",
    "import matplotlib.pyplot as plt\n",
    "import matplotlib\n",
    "import numpy as np\n",
    "import pylab as pl\n",
    "%matplotlib inline\n",
    "from bokeh.plotting import figure, show\n",
    "from bokeh.io import output_notebook\n",
    "\n",
    "from ggplot import *"
   ]
  },
  {
   "cell_type": "markdown",
   "metadata": {},
   "source": [
    "# Moerser Daten: Vornamen "
   ]
  },
  {
   "cell_type": "markdown",
   "metadata": {},
   "source": [
    "* 2009: [https://www.offenesdatenportal.de/dataset/33cdd3f6-52bf-41c3-b03f-30e19631f66a/resource/9b0920c9-d593-4abc-88b2-5b1bb1a63ce2/download/vornamen2009.csv]\n",
    "* 2010: [https://www.offenesdatenportal.de/dataset/4e1cd32f-5788-40d1-834b-284fdf89371b/resource/f0c646ad-c4c8-4aff-9276-f12f0d6ad78c/download/vornamen2010.csv]\n",
    "* 2011: [https://www.offenesdatenportal.de/dataset/185165d7-a35a-484a-8401-9e4a1ab6033d/resource/888edbfd-605c-461f-961c-72be4d281a00/download/vornamen2011.csv]\n",
    "* 2012: [https://www.offenesdatenportal.de/dataset/e09b6922-8873-4930-851a-eb6634be50db/resource/00a00f02-3ede-4512-b4b2-d076f7a2cf67/download/vornamen2012.csv]\n",
    "* 2013: [https://www.offenesdatenportal.de/dataset/45c78ab3-fd45-4dbc-bda5-2dddc6b71ca3/resource/6e1aabc2-0490-4605-8667-0a8b8a28702a/download/vornamen2013.csv]\n",
    "* 2014: [https://www.offenesdatenportal.de/dataset/e5ff322f-a8b7-4dc7-b281-2d3d767983f9/resource/4da3d423-9aeb-4e6e-8dbc-926649089416/download/vornamen14.csv]\n",
    "* 2015: [https://www.offenesdatenportal.de/dataset/a7056a8a-ea10-41fd-afb2-62d022aec517/resource/561ba1f8-0575-4a50-957b-3a0f3a070284/download/vornamen2015.csv]\n"
   ]
  },
  {
   "cell_type": "markdown",
   "metadata": {},
   "source": [
    "Zu den Daten: \n",
    "* 2015 / 2014 = andere Sortierung: Nur vorname;anzahl;geschlecht\n",
    "* Vor 2014 im Kopf Zusatzinfo: Wie oft wurden 1,2, mehr als drei Namen vergeben: Wichtig, aber bitte nicht in Daten reinschreiben. \n",
    "* Daten davor: Rang;Mädchen;Anzahl;Knaben;Anzahl = verschachtelte Datenstruktur, 'schlauere Tabelle', als Pressemitteilung zum abdrucken besser, aber weniger gut für Maschinenlesbarkeit: Da gilt: Bitte alles und bitte möglichst 'dumm' = so einfach wie möglich \n",
    "* Enthatlten nur Top 30 Namen\n",
    "* Dazu Problem ä = Umlaut - Iso encodiert\n",
    "* 2010 dazu Problem, dass hinter jeder Zeile zusätzliche ; sind und außerdem Leerzeichen, die nix zu suchen haben (Vor allem im Kopf ärgerlich) \n"
   ]
  },
  {
   "cell_type": "code",
   "execution_count": null,
   "metadata": {
    "collapsed": false
   },
   "outputs": [],
   "source": [
    "f = 'vornamen2013.csv'\n",
    "df = pd.read_csv(f, sep=';', encoding='ISO-8859-1')\n",
    "df.head(10)"
   ]
  },
  {
   "cell_type": "markdown",
   "metadata": {},
   "source": [
    "# Daten zusammenführen "
   ]
  },
  {
   "cell_type": "markdown",
   "metadata": {},
   "source": [
    "## 2009 - 2013 "
   ]
  },
  {
   "cell_type": "code",
   "execution_count": null,
   "metadata": {
    "collapsed": false
   },
   "outputs": [],
   "source": [
    "years = range(2009,2014)\n",
    "\n",
    "pieces = []\n",
    "columns = ['rang', 'vorname', 'anzahl', 'knaben', 'k_anzahl']\n",
    "\n",
    "for year in years:\n",
    "    path = 'vornamen%d.csv' % year\n",
    "    frame = pd.read_csv(path, names=columns, sep=';', encoding='ISO-8859-1', skiprows=1)\n",
    "    frame['jahr'] = year\n",
    "    pieces.append(frame)\n",
    "    \n",
    "# Concatenate in one single DF\n",
    "names = pd.concat(pieces, ignore_index=True)"
   ]
  },
  {
   "cell_type": "code",
   "execution_count": null,
   "metadata": {
    "collapsed": false
   },
   "outputs": [],
   "source": [
    "names.shape"
   ]
  },
  {
   "cell_type": "code",
   "execution_count": null,
   "metadata": {
    "collapsed": false
   },
   "outputs": [],
   "source": [
    "names.tail()"
   ]
  },
  {
   "cell_type": "code",
   "execution_count": null,
   "metadata": {
    "collapsed": false
   },
   "outputs": [],
   "source": [
    "# Erstmal nur die Spalten für Mädchen\n",
    "maedchen = names[['rang', 'vorname', 'anzahl', 'jahr']]\n",
    "maedchen.tail()"
   ]
  },
  {
   "cell_type": "code",
   "execution_count": null,
   "metadata": {
    "collapsed": false
   },
   "outputs": [],
   "source": [
    "# Spalte 'geschlecht' hinzufügen\n",
    "maedchen['geschlecht'] = 'w'\n",
    "maedchen.tail()"
   ]
  },
  {
   "cell_type": "code",
   "execution_count": null,
   "metadata": {
    "collapsed": false
   },
   "outputs": [],
   "source": [
    "maedchen.shape"
   ]
  },
  {
   "cell_type": "code",
   "execution_count": null,
   "metadata": {
    "collapsed": false
   },
   "outputs": [],
   "source": [
    "maedchen.head(1)"
   ]
  },
  {
   "cell_type": "code",
   "execution_count": null,
   "metadata": {
    "collapsed": true
   },
   "outputs": [],
   "source": [
    "jungs = names[['rang', 'knaben', 'k_anzahl', 'jahr']]"
   ]
  },
  {
   "cell_type": "code",
   "execution_count": null,
   "metadata": {
    "collapsed": false
   },
   "outputs": [],
   "source": [
    "jungs.head(1)"
   ]
  },
  {
   "cell_type": "code",
   "execution_count": null,
   "metadata": {
    "collapsed": true
   },
   "outputs": [],
   "source": [
    "jungs.columns = ['rang', 'vorname', 'anzahl', 'jahr']"
   ]
  },
  {
   "cell_type": "code",
   "execution_count": null,
   "metadata": {
    "collapsed": false
   },
   "outputs": [],
   "source": [
    "jungs['geschlecht'] = 'm'"
   ]
  },
  {
   "cell_type": "code",
   "execution_count": null,
   "metadata": {
    "collapsed": false
   },
   "outputs": [],
   "source": [
    "jungs.head(1)"
   ]
  },
  {
   "cell_type": "code",
   "execution_count": null,
   "metadata": {
    "collapsed": false
   },
   "outputs": [],
   "source": [
    "maedchen.shape"
   ]
  },
  {
   "cell_type": "code",
   "execution_count": null,
   "metadata": {
    "collapsed": false
   },
   "outputs": [],
   "source": [
    "jungs.shape"
   ]
  },
  {
   "cell_type": "markdown",
   "metadata": {},
   "source": [
    "## 2014"
   ]
  },
  {
   "cell_type": "code",
   "execution_count": null,
   "metadata": {
    "collapsed": false
   },
   "outputs": [],
   "source": [
    "# 2014 einlesen\n",
    "g = 'https://www.offenesdatenportal.de/dataset/e5ff322f-a8b7-4dc7-b281-2d3d767983f9/resource/4da3d423-9aeb-4e6e-8dbc-926649089416/download/vornamen14.csv'\n",
    "df_14 = pd.read_csv(g, sep=';')\n",
    "df_14.head(2)"
   ]
  },
  {
   "cell_type": "code",
   "execution_count": null,
   "metadata": {
    "collapsed": false
   },
   "outputs": [],
   "source": [
    "# Spalte 2014 erzeugen \n",
    "df_14['jahr'] = 2014\n",
    "df_14.head()"
   ]
  },
  {
   "cell_type": "code",
   "execution_count": null,
   "metadata": {
    "collapsed": false
   },
   "outputs": [],
   "source": [
    "df_14.columns"
   ]
  },
  {
   "cell_type": "code",
   "execution_count": null,
   "metadata": {
    "collapsed": false
   },
   "outputs": [],
   "source": [
    "# Top 30 der weiblichen Vornamen\n",
    "w_top30_14 = df_14[(df_14['geschlecht'] == 'w')].head(30)\n",
    "w_top30_14.head(6)"
   ]
  },
  {
   "cell_type": "code",
   "execution_count": null,
   "metadata": {
    "collapsed": false
   },
   "outputs": [],
   "source": [
    "# Spalte Rang hinzufügen \n",
    "w_top30_14['rang'] = w_top30_14['anzahl'].rank(ascending=False, method='first')\n",
    "w_top30_14.head(2)"
   ]
  },
  {
   "cell_type": "code",
   "execution_count": null,
   "metadata": {
    "collapsed": false
   },
   "outputs": [],
   "source": [
    "# Top 30 der männlichen Vornamen\n",
    "m_top30_14 = df_14[(df_14['geschlecht'] == 'm')].head(30)\n",
    "m_top30_14.head(2)"
   ]
  },
  {
   "cell_type": "code",
   "execution_count": null,
   "metadata": {
    "collapsed": false
   },
   "outputs": [],
   "source": [
    "# Spalte 'Rang' hinzufügen \n",
    "m_top30_14['rang'] = m_top30_14['anzahl'].rank(ascending=False, method='first')\n",
    "m_top30_14.head(2)"
   ]
  },
  {
   "cell_type": "code",
   "execution_count": null,
   "metadata": {
    "collapsed": false
   },
   "outputs": [],
   "source": [
    "m_top30_14.dtypes"
   ]
  },
  {
   "cell_type": "code",
   "execution_count": null,
   "metadata": {
    "collapsed": false
   },
   "outputs": [],
   "source": [
    "# Datentyp von Rang auf int setzen - sieht schöner aus  \n",
    "m_top30_14['rang'] = m_top30_14['rang'].astype(int)"
   ]
  },
  {
   "cell_type": "code",
   "execution_count": null,
   "metadata": {
    "collapsed": false
   },
   "outputs": [],
   "source": [
    "m_top30_14.head(1)"
   ]
  },
  {
   "cell_type": "code",
   "execution_count": null,
   "metadata": {
    "collapsed": true
   },
   "outputs": [],
   "source": [
    "# Datentyp von Rang auf int setzen - sieht schöner aus \n",
    "w_top30_14['rang'] = w_top30_14['rang'].astype(int)"
   ]
  },
  {
   "cell_type": "code",
   "execution_count": null,
   "metadata": {
    "collapsed": false
   },
   "outputs": [],
   "source": [
    "w_top30_14.head(1)"
   ]
  },
  {
   "cell_type": "markdown",
   "metadata": {},
   "source": [
    "## 2015"
   ]
  },
  {
   "cell_type": "code",
   "execution_count": null,
   "metadata": {
    "collapsed": false
   },
   "outputs": [],
   "source": [
    "g = 'https://www.offenesdatenportal.de/dataset/e5ff322f-a8b7-4dc7-b281-2d3d767983f9/resource/4da3d423-9aeb-4e6e-8dbc-926649089416/download/vornamen15.csv'\n",
    "df_15 = pd.read_csv(g, sep=';')\n",
    "df_15.head(2)"
   ]
  },
  {
   "cell_type": "code",
   "execution_count": null,
   "metadata": {
    "collapsed": false
   },
   "outputs": [],
   "source": [
    "df_15['jahr'] = 2015\n",
    "# Top 30 der weiblichen Vornamen\n",
    "w_top30_15 = df_15[(df_15['geschlecht'] == 'w')].head(30)\n",
    "w_top30_15['rang'] = w_top30_15['anzahl'].rank(ascending=False, method='first')\n",
    "\n",
    "# Top 30 der männlichen Vornamen\n",
    "m_top30_15 = df_15[(df_15['geschlecht'] == 'm')].head(30)\n",
    "m_top30_15['rang'] = m_top30_15['anzahl'].rank(ascending=False, method='first')\n",
    "\n",
    "# Datentyp setzen \n",
    "m_top30_15['rang'] = m_top30_15['rang'].astype(int)\n",
    "w_top30_15['rang'] = w_top30_15['rang'].astype(int)"
   ]
  },
  {
   "cell_type": "markdown",
   "metadata": {},
   "source": [
    "## Alles zusammensetzen"
   ]
  },
  {
   "cell_type": "code",
   "execution_count": null,
   "metadata": {
    "collapsed": false
   },
   "outputs": [],
   "source": [
    "geschlechter = [maedchen, jungs, w_top30_14, m_top30_14, w_top30_15, m_top30_15]"
   ]
  },
  {
   "cell_type": "code",
   "execution_count": null,
   "metadata": {
    "collapsed": false
   },
   "outputs": [],
   "source": [
    "names = pd.concat(geschlechter, ignore_index=True)"
   ]
  },
  {
   "cell_type": "code",
   "execution_count": null,
   "metadata": {
    "collapsed": false
   },
   "outputs": [],
   "source": [
    "# stimmt die anzahl an zeilen?\n",
    "names.shape"
   ]
  },
  {
   "cell_type": "code",
   "execution_count": null,
   "metadata": {
    "collapsed": true
   },
   "outputs": [],
   "source": [
    "# Ergebnis in CSV speichern\n",
    "names.to_csv('names.csv')"
   ]
  },
  {
   "cell_type": "markdown",
   "metadata": {},
   "source": [
    "## YES! "
   ]
  },
  {
   "cell_type": "code",
   "execution_count": null,
   "metadata": {
    "collapsed": false
   },
   "outputs": [],
   "source": [
    "from IPython.display import Image\n",
    "from IPython.display import display\n",
    "display(Image(url='../static/anna.gif'))"
   ]
  },
  {
   "cell_type": "markdown",
   "metadata": {
    "collapsed": true
   },
   "source": [
    "## Noch mehr Spaß mit Vornamen! "
   ]
  },
  {
   "cell_type": "code",
   "execution_count": null,
   "metadata": {
    "collapsed": false
   },
   "outputs": [],
   "source": [
    "sophie = names[names['vorname'] == 'Sophie']\n",
    "marie = names[names['vorname'] == 'Marie']"
   ]
  },
  {
   "cell_type": "code",
   "execution_count": null,
   "metadata": {
    "collapsed": false
   },
   "outputs": [],
   "source": [
    "sophie"
   ]
  },
  {
   "cell_type": "code",
   "execution_count": null,
   "metadata": {
    "collapsed": false
   },
   "outputs": [],
   "source": [
    "output_notebook()"
   ]
  },
  {
   "cell_type": "code",
   "execution_count": null,
   "metadata": {
    "collapsed": false
   },
   "outputs": [],
   "source": [
    "from bokeh.plotting import figure, output_file, show\n",
    "\n",
    "# prepare some data\n",
    "y = sophie['anzahl']\n",
    "x = sophie['jahr']\n",
    "\n",
    "# output to static HTML file\n",
    "output_notebook()\n",
    "\n",
    "# create a new plot with a title and axis labels\n",
    "p = figure(title=\"simple line example\", x_axis_label='Jahr', y_axis_label='Anzahl')\n",
    "\n",
    "# add a line renderer with legend and line thickness\n",
    "p.line(x, y, legend=\"Anzahl Name Sophie\", line_width=2)\n",
    "\n",
    "# show the results\n",
    "show(p)"
   ]
  },
  {
   "cell_type": "code",
   "execution_count": null,
   "metadata": {
    "collapsed": false
   },
   "outputs": [],
   "source": [
    "sophie_marie = names[(names['vorname'] == 'Sophie') | (names['vorname'] == 'Marie')]\n",
    "sophie_marie.sort_values('vorname')"
   ]
  },
  {
   "cell_type": "code",
   "execution_count": null,
   "metadata": {
    "collapsed": false
   },
   "outputs": [],
   "source": [
    "name = input('Bitte gib deinen Namen ein: ')\n",
    "Mein_Name = names[(names['vorname'] == name)]\n",
    "Mein_Name"
   ]
  },
  {
   "cell_type": "code",
   "execution_count": null,
   "metadata": {
    "collapsed": true
   },
   "outputs": [],
   "source": []
  },
  {
   "cell_type": "code",
   "execution_count": null,
   "metadata": {
    "collapsed": false
   },
   "outputs": [],
   "source": [
    "sum_anzahl_top30 = names.pivot_table(values='anzahl', index='jahr', columns='geschlecht', aggfunc=sum)\n",
    "sum_anzahl_top30"
   ]
  },
  {
   "cell_type": "code",
   "execution_count": null,
   "metadata": {
    "collapsed": false
   },
   "outputs": [],
   "source": [
    "sum_anzahl_top30.plot(title='Anzahl der Geburten nach Geschlecht und Jahr in den Top 30 Namen aus Moers')"
   ]
  },
  {
   "cell_type": "code",
   "execution_count": null,
   "metadata": {
    "collapsed": false
   },
   "outputs": [],
   "source": [
    "namen1 = names.pivot_table(values='anzahl', index='jahr', columns='vorname', aggfunc=sum)\n",
    "namen1"
   ]
  },
  {
   "cell_type": "code",
   "execution_count": null,
   "metadata": {
    "collapsed": false
   },
   "outputs": [],
   "source": [
    "namen1.columns"
   ]
  },
  {
   "cell_type": "code",
   "execution_count": null,
   "metadata": {
    "collapsed": true
   },
   "outputs": [],
   "source": [
    "top_namen = namen1[['Marie', 'Alexander', 'Tom']]"
   ]
  },
  {
   "cell_type": "code",
   "execution_count": null,
   "metadata": {
    "collapsed": false
   },
   "outputs": [],
   "source": [
    "top_namen.plot(subplots=True, figsize=(12,10), grid=False, title='Anzahl Namensträger pro Jahr')"
   ]
  },
  {
   "cell_type": "code",
   "execution_count": null,
   "metadata": {
    "collapsed": true
   },
   "outputs": [],
   "source": []
  }
 ],
 "metadata": {
  "kernelspec": {
   "display_name": "Python 3",
   "language": "python",
   "name": "python3"
  },
  "language_info": {
   "codemirror_mode": {
    "name": "ipython",
    "version": 3
   },
   "file_extension": ".py",
   "mimetype": "text/x-python",
   "name": "python",
   "nbconvert_exporter": "python",
   "pygments_lexer": "ipython3",
   "version": "3.4.2"
  }
 },
 "nbformat": 4,
 "nbformat_minor": 0
}
