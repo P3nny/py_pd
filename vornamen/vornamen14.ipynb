{
 "cells": [
  {
   "cell_type": "markdown",
   "metadata": {},
   "source": [
    "# 2014 Vornamen "
   ]
  },
  {
   "cell_type": "markdown",
   "metadata": {},
   "source": [
    "#### Pakete installieren"
   ]
  },
  {
   "cell_type": "code",
   "execution_count": 1,
   "metadata": {
    "collapsed": false
   },
   "outputs": [],
   "source": [
    "import pandas as pd\n",
    "import re\n",
    "import matplotlib.pyplot as plt\n",
    "import numpy as np\n",
    "import pylab as pl\n",
    "%matplotlib inline"
   ]
  },
  {
   "cell_type": "markdown",
   "metadata": {},
   "source": [
    "CSV einlesen "
   ]
  },
  {
   "cell_type": "code",
   "execution_count": 2,
   "metadata": {
    "collapsed": false
   },
   "outputs": [
    {
     "data": {
      "text/html": [
       "<div>\n",
       "<table border=\"1\" class=\"dataframe\">\n",
       "  <thead>\n",
       "    <tr style=\"text-align: right;\">\n",
       "      <th></th>\n",
       "      <th>vorname</th>\n",
       "      <th>anzahl</th>\n",
       "      <th>geschlecht</th>\n",
       "    </tr>\n",
       "  </thead>\n",
       "  <tbody>\n",
       "    <tr>\n",
       "      <th>0</th>\n",
       "      <td>Marie</td>\n",
       "      <td>35</td>\n",
       "      <td>w</td>\n",
       "    </tr>\n",
       "    <tr>\n",
       "      <th>1</th>\n",
       "      <td>Alexander</td>\n",
       "      <td>32</td>\n",
       "      <td>m</td>\n",
       "    </tr>\n",
       "  </tbody>\n",
       "</table>\n",
       "</div>"
      ],
      "text/plain": [
       "     vorname  anzahl geschlecht\n",
       "0      Marie      35          w\n",
       "1  Alexander      32          m"
      ]
     },
     "execution_count": 2,
     "metadata": {},
     "output_type": "execute_result"
    }
   ],
   "source": [
    "g = 'https://www.offenesdatenportal.de/dataset/e5ff322f-a8b7-4dc7-b281-2d3d767983f9/resource/4da3d423-9aeb-4e6e-8dbc-926649089416/download/vornamen14.csv'\n",
    "df = pd.read_csv(g, sep=';')\n",
    "df.head(2)"
   ]
  },
  {
   "cell_type": "code",
   "execution_count": 6,
   "metadata": {
    "collapsed": false
   },
   "outputs": [
    {
     "data": {
      "text/plain": [
       "1312"
      ]
     },
     "execution_count": 6,
     "metadata": {},
     "output_type": "execute_result"
    }
   ],
   "source": [
    "len(df)"
   ]
  },
  {
   "cell_type": "code",
   "execution_count": 7,
   "metadata": {
    "collapsed": false
   },
   "outputs": [],
   "source": [
    "df['jahr'] = 2014 "
   ]
  },
  {
   "cell_type": "code",
   "execution_count": 8,
   "metadata": {
    "collapsed": false
   },
   "outputs": [
    {
     "data": {
      "text/html": [
       "<div>\n",
       "<table border=\"1\" class=\"dataframe\">\n",
       "  <thead>\n",
       "    <tr style=\"text-align: right;\">\n",
       "      <th></th>\n",
       "      <th>vorname</th>\n",
       "      <th>anzahl</th>\n",
       "      <th>geschlecht</th>\n",
       "      <th>jahr</th>\n",
       "    </tr>\n",
       "  </thead>\n",
       "  <tbody>\n",
       "    <tr>\n",
       "      <th>0</th>\n",
       "      <td>Marie</td>\n",
       "      <td>35</td>\n",
       "      <td>w</td>\n",
       "      <td>2014</td>\n",
       "    </tr>\n",
       "    <tr>\n",
       "      <th>1</th>\n",
       "      <td>Alexander</td>\n",
       "      <td>32</td>\n",
       "      <td>m</td>\n",
       "      <td>2014</td>\n",
       "    </tr>\n",
       "    <tr>\n",
       "      <th>2</th>\n",
       "      <td>Sophie</td>\n",
       "      <td>30</td>\n",
       "      <td>w</td>\n",
       "      <td>2014</td>\n",
       "    </tr>\n",
       "    <tr>\n",
       "      <th>3</th>\n",
       "      <td>Emilia</td>\n",
       "      <td>27</td>\n",
       "      <td>w</td>\n",
       "      <td>2014</td>\n",
       "    </tr>\n",
       "    <tr>\n",
       "      <th>4</th>\n",
       "      <td>Mia</td>\n",
       "      <td>25</td>\n",
       "      <td>w</td>\n",
       "      <td>2014</td>\n",
       "    </tr>\n",
       "  </tbody>\n",
       "</table>\n",
       "</div>"
      ],
      "text/plain": [
       "     vorname  anzahl geschlecht  jahr\n",
       "0      Marie      35          w  2014\n",
       "1  Alexander      32          m  2014\n",
       "2     Sophie      30          w  2014\n",
       "3     Emilia      27          w  2014\n",
       "4        Mia      25          w  2014"
      ]
     },
     "execution_count": 8,
     "metadata": {},
     "output_type": "execute_result"
    }
   ],
   "source": [
    "df.head()"
   ]
  },
  {
   "cell_type": "code",
   "execution_count": 18,
   "metadata": {
    "collapsed": false
   },
   "outputs": [
    {
     "data": {
      "text/html": [
       "<div>\n",
       "<table border=\"1\" class=\"dataframe\">\n",
       "  <thead>\n",
       "    <tr style=\"text-align: right;\">\n",
       "      <th></th>\n",
       "      <th>vorname</th>\n",
       "      <th>anzahl</th>\n",
       "      <th>geschlecht</th>\n",
       "      <th>jahr</th>\n",
       "    </tr>\n",
       "  </thead>\n",
       "  <tbody>\n",
       "    <tr>\n",
       "      <th>0</th>\n",
       "      <td>Marie</td>\n",
       "      <td>35</td>\n",
       "      <td>w</td>\n",
       "      <td>2014</td>\n",
       "    </tr>\n",
       "    <tr>\n",
       "      <th>1</th>\n",
       "      <td>Alexander</td>\n",
       "      <td>32</td>\n",
       "      <td>m</td>\n",
       "      <td>2014</td>\n",
       "    </tr>\n",
       "    <tr>\n",
       "      <th>2</th>\n",
       "      <td>Sophie</td>\n",
       "      <td>30</td>\n",
       "      <td>w</td>\n",
       "      <td>2014</td>\n",
       "    </tr>\n",
       "    <tr>\n",
       "      <th>3</th>\n",
       "      <td>Emilia</td>\n",
       "      <td>27</td>\n",
       "      <td>w</td>\n",
       "      <td>2014</td>\n",
       "    </tr>\n",
       "    <tr>\n",
       "      <th>4</th>\n",
       "      <td>Mia</td>\n",
       "      <td>25</td>\n",
       "      <td>w</td>\n",
       "      <td>2014</td>\n",
       "    </tr>\n",
       "    <tr>\n",
       "      <th>5</th>\n",
       "      <td>Elias</td>\n",
       "      <td>23</td>\n",
       "      <td>m</td>\n",
       "      <td>2014</td>\n",
       "    </tr>\n",
       "  </tbody>\n",
       "</table>\n",
       "</div>"
      ],
      "text/plain": [
       "     vorname  anzahl geschlecht  jahr\n",
       "0      Marie      35          w  2014\n",
       "1  Alexander      32          m  2014\n",
       "2     Sophie      30          w  2014\n",
       "3     Emilia      27          w  2014\n",
       "4        Mia      25          w  2014\n",
       "5      Elias      23          m  2014"
      ]
     },
     "execution_count": 18,
     "metadata": {},
     "output_type": "execute_result"
    }
   ],
   "source": [
    "# Welche Namen wurden 2014 am häufigsten vergeben? \n",
    "top = df.sort_values(by='anzahl', ascending=False)\n",
    "top.head(6)"
   ]
  },
  {
   "cell_type": "code",
   "execution_count": 16,
   "metadata": {
    "collapsed": false
   },
   "outputs": [
    {
     "data": {
      "text/html": [
       "<div>\n",
       "<table border=\"1\" class=\"dataframe\">\n",
       "  <thead>\n",
       "    <tr style=\"text-align: right;\">\n",
       "      <th></th>\n",
       "      <th>vorname</th>\n",
       "      <th>anzahl</th>\n",
       "      <th>geschlecht</th>\n",
       "      <th>jahr</th>\n",
       "    </tr>\n",
       "  </thead>\n",
       "  <tbody>\n",
       "    <tr>\n",
       "      <th>0</th>\n",
       "      <td>Marie</td>\n",
       "      <td>35</td>\n",
       "      <td>w</td>\n",
       "      <td>2014</td>\n",
       "    </tr>\n",
       "    <tr>\n",
       "      <th>2</th>\n",
       "      <td>Sophie</td>\n",
       "      <td>30</td>\n",
       "      <td>w</td>\n",
       "      <td>2014</td>\n",
       "    </tr>\n",
       "    <tr>\n",
       "      <th>3</th>\n",
       "      <td>Emilia</td>\n",
       "      <td>27</td>\n",
       "      <td>w</td>\n",
       "      <td>2014</td>\n",
       "    </tr>\n",
       "    <tr>\n",
       "      <th>4</th>\n",
       "      <td>Mia</td>\n",
       "      <td>25</td>\n",
       "      <td>w</td>\n",
       "      <td>2014</td>\n",
       "    </tr>\n",
       "    <tr>\n",
       "      <th>9</th>\n",
       "      <td>Emma</td>\n",
       "      <td>22</td>\n",
       "      <td>w</td>\n",
       "      <td>2014</td>\n",
       "    </tr>\n",
       "    <tr>\n",
       "      <th>11</th>\n",
       "      <td>Lena</td>\n",
       "      <td>18</td>\n",
       "      <td>w</td>\n",
       "      <td>2014</td>\n",
       "    </tr>\n",
       "  </tbody>\n",
       "</table>\n",
       "</div>"
      ],
      "text/plain": [
       "   vorname  anzahl geschlecht  jahr\n",
       "0    Marie      35          w  2014\n",
       "2   Sophie      30          w  2014\n",
       "3   Emilia      27          w  2014\n",
       "4      Mia      25          w  2014\n",
       "9     Emma      22          w  2014\n",
       "11    Lena      18          w  2014"
      ]
     },
     "execution_count": 16,
     "metadata": {},
     "output_type": "execute_result"
    }
   ],
   "source": [
    "# Top 30 der weiblichen Vornamen\n",
    "w_top30 = df[(df['geschlecht'] == 'w')].head(30)\n",
    "w_top30.head(6)"
   ]
  },
  {
   "cell_type": "code",
   "execution_count": 21,
   "metadata": {
    "collapsed": false
   },
   "outputs": [
    {
     "data": {
      "text/plain": [
       "5"
      ]
     },
     "execution_count": 21,
     "metadata": {},
     "output_type": "execute_result"
    }
   ],
   "source": [
    "# Länge des Namens an Position 5 im df\n",
    "len(df['vorname'][5])"
   ]
  },
  {
   "cell_type": "code",
   "execution_count": 49,
   "metadata": {
    "collapsed": false
   },
   "outputs": [
    {
     "name": "stdout",
     "output_type": "stream",
     "text": [
      "Wie viele Buchstaben soll der Name haben? 5\n"
     ]
    },
    {
     "data": {
      "text/plain": [
       "1312"
      ]
     },
     "execution_count": 49,
     "metadata": {},
     "output_type": "execute_result"
    }
   ],
   "source": [
    "# Not working\n",
    "eingabe_laenge = input('Wie viele Buchstaben soll der Name haben? ')\n",
    "laenge = int(len(df['vorname']))\n",
    "laenge\n",
    "#Meine_laenge = df[len(df['vorname'] == laenge)]\n",
    "#Meine_laenge"
   ]
  },
  {
   "cell_type": "code",
   "execution_count": 43,
   "metadata": {
    "collapsed": false
   },
   "outputs": [
    {
     "name": "stdout",
     "output_type": "stream",
     "text": [
      "Bitte gib deinen Namen ein: Lisa\n"
     ]
    },
    {
     "data": {
      "text/html": [
       "<div>\n",
       "<table border=\"1\" class=\"dataframe\">\n",
       "  <thead>\n",
       "    <tr style=\"text-align: right;\">\n",
       "      <th></th>\n",
       "      <th>vorname</th>\n",
       "      <th>anzahl</th>\n",
       "      <th>geschlecht</th>\n",
       "      <th>jahr</th>\n",
       "    </tr>\n",
       "  </thead>\n",
       "  <tbody>\n",
       "    <tr>\n",
       "      <th>279</th>\n",
       "      <td>Lisa</td>\n",
       "      <td>2</td>\n",
       "      <td>w</td>\n",
       "      <td>2014</td>\n",
       "    </tr>\n",
       "  </tbody>\n",
       "</table>\n",
       "</div>"
      ],
      "text/plain": [
       "    vorname  anzahl geschlecht  jahr\n",
       "279    Lisa       2          w  2014"
      ]
     },
     "execution_count": 43,
     "metadata": {},
     "output_type": "execute_result"
    }
   ],
   "source": [
    "# Den eigenen Namen suchen \n",
    "name = input('Bitte gib deinen Namen ein: ')\n",
    "Mein_Name = df[(df['vorname'] == name)]\n",
    "Mein_Name"
   ]
  },
  {
   "cell_type": "code",
   "execution_count": 9,
   "metadata": {
    "collapsed": false
   },
   "outputs": [
    {
     "data": {
      "text/html": [
       "<div>\n",
       "<table border=\"1\" class=\"dataframe\">\n",
       "  <thead>\n",
       "    <tr style=\"text-align: right;\">\n",
       "      <th></th>\n",
       "      <th>vorname</th>\n",
       "      <th>anzahl</th>\n",
       "      <th>geschlecht</th>\n",
       "      <th>jahr</th>\n",
       "      <th>rang</th>\n",
       "    </tr>\n",
       "  </thead>\n",
       "  <tbody>\n",
       "    <tr>\n",
       "      <th>0</th>\n",
       "      <td>Marie</td>\n",
       "      <td>35</td>\n",
       "      <td>w</td>\n",
       "      <td>2014</td>\n",
       "      <td>1</td>\n",
       "    </tr>\n",
       "    <tr>\n",
       "      <th>2</th>\n",
       "      <td>Sophie</td>\n",
       "      <td>30</td>\n",
       "      <td>w</td>\n",
       "      <td>2014</td>\n",
       "      <td>2</td>\n",
       "    </tr>\n",
       "  </tbody>\n",
       "</table>\n",
       "</div>"
      ],
      "text/plain": [
       "  vorname  anzahl geschlecht  jahr  rang\n",
       "0   Marie      35          w  2014     1\n",
       "2  Sophie      30          w  2014     2"
      ]
     },
     "execution_count": 9,
     "metadata": {},
     "output_type": "execute_result"
    }
   ],
   "source": [
    "w_top30['rang'] = w_top30['anzahl'].rank(ascending=False, method='first')\n",
    "w_top30.head(2)"
   ]
  },
  {
   "cell_type": "code",
   "execution_count": 10,
   "metadata": {
    "collapsed": false
   },
   "outputs": [
    {
     "data": {
      "text/html": [
       "<div>\n",
       "<table border=\"1\" class=\"dataframe\">\n",
       "  <thead>\n",
       "    <tr style=\"text-align: right;\">\n",
       "      <th></th>\n",
       "      <th>vorname</th>\n",
       "      <th>anzahl</th>\n",
       "      <th>geschlecht</th>\n",
       "      <th>jahr</th>\n",
       "    </tr>\n",
       "  </thead>\n",
       "  <tbody>\n",
       "    <tr>\n",
       "      <th>1</th>\n",
       "      <td>Alexander</td>\n",
       "      <td>32</td>\n",
       "      <td>m</td>\n",
       "      <td>2014</td>\n",
       "    </tr>\n",
       "    <tr>\n",
       "      <th>5</th>\n",
       "      <td>Elias</td>\n",
       "      <td>23</td>\n",
       "      <td>m</td>\n",
       "      <td>2014</td>\n",
       "    </tr>\n",
       "  </tbody>\n",
       "</table>\n",
       "</div>"
      ],
      "text/plain": [
       "     vorname  anzahl geschlecht  jahr\n",
       "1  Alexander      32          m  2014\n",
       "5      Elias      23          m  2014"
      ]
     },
     "execution_count": 10,
     "metadata": {},
     "output_type": "execute_result"
    }
   ],
   "source": [
    "# Top 30 der männlichen Vornamen\n",
    "m_top30 = df[(df['geschlecht'] == 'm')].head(30)\n",
    "m_top30.head(2)"
   ]
  },
  {
   "cell_type": "code",
   "execution_count": 11,
   "metadata": {
    "collapsed": false
   },
   "outputs": [
    {
     "data": {
      "text/html": [
       "<div>\n",
       "<table border=\"1\" class=\"dataframe\">\n",
       "  <thead>\n",
       "    <tr style=\"text-align: right;\">\n",
       "      <th></th>\n",
       "      <th>vorname</th>\n",
       "      <th>anzahl</th>\n",
       "      <th>geschlecht</th>\n",
       "      <th>jahr</th>\n",
       "      <th>rang</th>\n",
       "    </tr>\n",
       "  </thead>\n",
       "  <tbody>\n",
       "    <tr>\n",
       "      <th>1</th>\n",
       "      <td>Alexander</td>\n",
       "      <td>32</td>\n",
       "      <td>m</td>\n",
       "      <td>2014</td>\n",
       "      <td>1</td>\n",
       "    </tr>\n",
       "    <tr>\n",
       "      <th>5</th>\n",
       "      <td>Elias</td>\n",
       "      <td>23</td>\n",
       "      <td>m</td>\n",
       "      <td>2014</td>\n",
       "      <td>2</td>\n",
       "    </tr>\n",
       "  </tbody>\n",
       "</table>\n",
       "</div>"
      ],
      "text/plain": [
       "     vorname  anzahl geschlecht  jahr  rang\n",
       "1  Alexander      32          m  2014     1\n",
       "5      Elias      23          m  2014     2"
      ]
     },
     "execution_count": 11,
     "metadata": {},
     "output_type": "execute_result"
    }
   ],
   "source": [
    "m_top30['rang'] = m_top30['anzahl'].rank(ascending=False, method='first')\n",
    "m_top30.head(2)"
   ]
  },
  {
   "cell_type": "code",
   "execution_count": 12,
   "metadata": {
    "collapsed": false
   },
   "outputs": [],
   "source": [
    "# Weiblich und männlich zu einem zusammen setzen\n",
    "result = pd.merge(w_top30, m_top30, how='outer')"
   ]
  },
  {
   "cell_type": "code",
   "execution_count": 13,
   "metadata": {
    "collapsed": false
   },
   "outputs": [
    {
     "data": {
      "text/html": [
       "<div>\n",
       "<table border=\"1\" class=\"dataframe\">\n",
       "  <thead>\n",
       "    <tr style=\"text-align: right;\">\n",
       "      <th></th>\n",
       "      <th>vorname</th>\n",
       "      <th>anzahl</th>\n",
       "      <th>geschlecht</th>\n",
       "      <th>jahr</th>\n",
       "      <th>rang</th>\n",
       "      <th>stadt</th>\n",
       "    </tr>\n",
       "  </thead>\n",
       "  <tbody>\n",
       "    <tr>\n",
       "      <th>0</th>\n",
       "      <td>Marie</td>\n",
       "      <td>35</td>\n",
       "      <td>w</td>\n",
       "      <td>2014</td>\n",
       "      <td>1</td>\n",
       "      <td>Moers</td>\n",
       "    </tr>\n",
       "    <tr>\n",
       "      <th>30</th>\n",
       "      <td>Alexander</td>\n",
       "      <td>32</td>\n",
       "      <td>m</td>\n",
       "      <td>2014</td>\n",
       "      <td>1</td>\n",
       "      <td>Moers</td>\n",
       "    </tr>\n",
       "  </tbody>\n",
       "</table>\n",
       "</div>"
      ],
      "text/plain": [
       "      vorname  anzahl geschlecht  jahr  rang  stadt\n",
       "0       Marie      35          w  2014     1  Moers\n",
       "30  Alexander      32          m  2014     1  Moers"
      ]
     },
     "execution_count": 13,
     "metadata": {},
     "output_type": "execute_result"
    }
   ],
   "source": [
    "vn_2014_m = result.sort_values(by='anzahl', ascending=False)\n",
    "vn_2014_m['stadt'] = 'Moers' \n",
    "vn_2014_m.head(2)"
   ]
  },
  {
   "cell_type": "code",
   "execution_count": 14,
   "metadata": {
    "collapsed": false
   },
   "outputs": [
    {
     "data": {
      "text/html": [
       "<div>\n",
       "<table border=\"1\" class=\"dataframe\">\n",
       "  <thead>\n",
       "    <tr style=\"text-align: right;\">\n",
       "      <th></th>\n",
       "      <th>vorname</th>\n",
       "      <th>anzahl</th>\n",
       "      <th>geschlecht</th>\n",
       "    </tr>\n",
       "  </thead>\n",
       "  <tbody>\n",
       "    <tr>\n",
       "      <th>0</th>\n",
       "      <td>Marie</td>\n",
       "      <td>316</td>\n",
       "      <td>w</td>\n",
       "    </tr>\n",
       "    <tr>\n",
       "      <th>1</th>\n",
       "      <td>Sophie</td>\n",
       "      <td>249</td>\n",
       "      <td>w</td>\n",
       "    </tr>\n",
       "  </tbody>\n",
       "</table>\n",
       "</div>"
      ],
      "text/plain": [
       "  vorname  anzahl geschlecht\n",
       "0   Marie     316          w\n",
       "1  Sophie     249          w"
      ]
     },
     "execution_count": 14,
     "metadata": {},
     "output_type": "execute_result"
    }
   ],
   "source": [
    "h = 'Vornamensstatistik_2014_koeln.csv'\n",
    "koelle = pd.read_csv(h, sep=';')\n",
    "koelle.head(2)"
   ]
  },
  {
   "cell_type": "code",
   "execution_count": 15,
   "metadata": {
    "collapsed": true
   },
   "outputs": [],
   "source": [
    "koelle['jahr'] = '2014' "
   ]
  },
  {
   "cell_type": "code",
   "execution_count": 16,
   "metadata": {
    "collapsed": true
   },
   "outputs": [],
   "source": [
    "koelle['stadt'] = 'Köln' "
   ]
  },
  {
   "cell_type": "code",
   "execution_count": 17,
   "metadata": {
    "collapsed": false
   },
   "outputs": [
    {
     "data": {
      "text/html": [
       "<div>\n",
       "<table border=\"1\" class=\"dataframe\">\n",
       "  <thead>\n",
       "    <tr style=\"text-align: right;\">\n",
       "      <th></th>\n",
       "      <th>vorname</th>\n",
       "      <th>anzahl</th>\n",
       "      <th>geschlecht</th>\n",
       "      <th>jahr</th>\n",
       "      <th>stadt</th>\n",
       "    </tr>\n",
       "  </thead>\n",
       "  <tbody>\n",
       "    <tr>\n",
       "      <th>0</th>\n",
       "      <td>Marie</td>\n",
       "      <td>316</td>\n",
       "      <td>w</td>\n",
       "      <td>2014</td>\n",
       "      <td>Köln</td>\n",
       "    </tr>\n",
       "    <tr>\n",
       "      <th>1</th>\n",
       "      <td>Sophie</td>\n",
       "      <td>249</td>\n",
       "      <td>w</td>\n",
       "      <td>2014</td>\n",
       "      <td>Köln</td>\n",
       "    </tr>\n",
       "  </tbody>\n",
       "</table>\n",
       "</div>"
      ],
      "text/plain": [
       "  vorname  anzahl geschlecht  jahr stadt\n",
       "0   Marie     316          w  2014  Köln\n",
       "1  Sophie     249          w  2014  Köln"
      ]
     },
     "execution_count": 17,
     "metadata": {},
     "output_type": "execute_result"
    }
   ],
   "source": [
    "# Top 30 der weiblichen Vornamen\n",
    "k_w_top30 = koelle[(koelle['geschlecht'] == 'w')].head(30)\n",
    "k_w_top30.head(2)"
   ]
  },
  {
   "cell_type": "code",
   "execution_count": 18,
   "metadata": {
    "collapsed": false
   },
   "outputs": [
    {
     "data": {
      "text/html": [
       "<div>\n",
       "<table border=\"1\" class=\"dataframe\">\n",
       "  <thead>\n",
       "    <tr style=\"text-align: right;\">\n",
       "      <th></th>\n",
       "      <th>vorname</th>\n",
       "      <th>anzahl</th>\n",
       "      <th>geschlecht</th>\n",
       "      <th>jahr</th>\n",
       "      <th>stadt</th>\n",
       "      <th>rang</th>\n",
       "    </tr>\n",
       "  </thead>\n",
       "  <tbody>\n",
       "    <tr>\n",
       "      <th>0</th>\n",
       "      <td>Marie</td>\n",
       "      <td>316</td>\n",
       "      <td>w</td>\n",
       "      <td>2014</td>\n",
       "      <td>Köln</td>\n",
       "      <td>1</td>\n",
       "    </tr>\n",
       "    <tr>\n",
       "      <th>1</th>\n",
       "      <td>Sophie</td>\n",
       "      <td>249</td>\n",
       "      <td>w</td>\n",
       "      <td>2014</td>\n",
       "      <td>Köln</td>\n",
       "      <td>2</td>\n",
       "    </tr>\n",
       "  </tbody>\n",
       "</table>\n",
       "</div>"
      ],
      "text/plain": [
       "  vorname  anzahl geschlecht  jahr stadt  rang\n",
       "0   Marie     316          w  2014  Köln     1\n",
       "1  Sophie     249          w  2014  Köln     2"
      ]
     },
     "execution_count": 18,
     "metadata": {},
     "output_type": "execute_result"
    }
   ],
   "source": [
    "k_w_top30['rang'] = k_w_top30['anzahl'].rank(ascending=False, method='first')\n",
    "k_w_top30.head(2)"
   ]
  },
  {
   "cell_type": "code",
   "execution_count": 19,
   "metadata": {
    "collapsed": false
   },
   "outputs": [
    {
     "data": {
      "text/html": [
       "<div>\n",
       "<table border=\"1\" class=\"dataframe\">\n",
       "  <thead>\n",
       "    <tr style=\"text-align: right;\">\n",
       "      <th></th>\n",
       "      <th>vorname</th>\n",
       "      <th>anzahl</th>\n",
       "      <th>geschlecht</th>\n",
       "      <th>jahr</th>\n",
       "      <th>stadt</th>\n",
       "    </tr>\n",
       "  </thead>\n",
       "  <tbody>\n",
       "    <tr>\n",
       "      <th>3</th>\n",
       "      <td>Maximilian</td>\n",
       "      <td>158</td>\n",
       "      <td>m</td>\n",
       "      <td>2014</td>\n",
       "      <td>Köln</td>\n",
       "    </tr>\n",
       "    <tr>\n",
       "      <th>4</th>\n",
       "      <td>Alexander</td>\n",
       "      <td>153</td>\n",
       "      <td>m</td>\n",
       "      <td>2014</td>\n",
       "      <td>Köln</td>\n",
       "    </tr>\n",
       "  </tbody>\n",
       "</table>\n",
       "</div>"
      ],
      "text/plain": [
       "      vorname  anzahl geschlecht  jahr stadt\n",
       "3  Maximilian     158          m  2014  Köln\n",
       "4   Alexander     153          m  2014  Köln"
      ]
     },
     "execution_count": 19,
     "metadata": {},
     "output_type": "execute_result"
    }
   ],
   "source": [
    "# Top 30 der männlichen Vornamen\n",
    "k_m_top30 = koelle[(koelle['geschlecht'] == 'm')].head(30)\n",
    "k_m_top30.head(2)"
   ]
  },
  {
   "cell_type": "code",
   "execution_count": 20,
   "metadata": {
    "collapsed": false
   },
   "outputs": [
    {
     "data": {
      "text/html": [
       "<div>\n",
       "<table border=\"1\" class=\"dataframe\">\n",
       "  <thead>\n",
       "    <tr style=\"text-align: right;\">\n",
       "      <th></th>\n",
       "      <th>vorname</th>\n",
       "      <th>anzahl</th>\n",
       "      <th>geschlecht</th>\n",
       "      <th>jahr</th>\n",
       "      <th>stadt</th>\n",
       "      <th>rang</th>\n",
       "    </tr>\n",
       "  </thead>\n",
       "  <tbody>\n",
       "    <tr>\n",
       "      <th>3</th>\n",
       "      <td>Maximilian</td>\n",
       "      <td>158</td>\n",
       "      <td>m</td>\n",
       "      <td>2014</td>\n",
       "      <td>Köln</td>\n",
       "      <td>1</td>\n",
       "    </tr>\n",
       "    <tr>\n",
       "      <th>4</th>\n",
       "      <td>Alexander</td>\n",
       "      <td>153</td>\n",
       "      <td>m</td>\n",
       "      <td>2014</td>\n",
       "      <td>Köln</td>\n",
       "      <td>2</td>\n",
       "    </tr>\n",
       "  </tbody>\n",
       "</table>\n",
       "</div>"
      ],
      "text/plain": [
       "      vorname  anzahl geschlecht  jahr stadt  rang\n",
       "3  Maximilian     158          m  2014  Köln     1\n",
       "4   Alexander     153          m  2014  Köln     2"
      ]
     },
     "execution_count": 20,
     "metadata": {},
     "output_type": "execute_result"
    }
   ],
   "source": [
    "k_m_top30['rang'] = k_m_top30['anzahl'].rank(ascending=False, method='first')\n",
    "k_m_top30.head(2)"
   ]
  },
  {
   "cell_type": "code",
   "execution_count": 26,
   "metadata": {
    "collapsed": false
   },
   "outputs": [
    {
     "data": {
      "text/html": [
       "<div>\n",
       "<table border=\"1\" class=\"dataframe\">\n",
       "  <thead>\n",
       "    <tr style=\"text-align: right;\">\n",
       "      <th></th>\n",
       "      <th>vorname</th>\n",
       "      <th>anzahl</th>\n",
       "      <th>geschlecht</th>\n",
       "      <th>jahr</th>\n",
       "      <th>stadt</th>\n",
       "      <th>rang</th>\n",
       "    </tr>\n",
       "  </thead>\n",
       "  <tbody>\n",
       "    <tr>\n",
       "      <th>0</th>\n",
       "      <td>Marie</td>\n",
       "      <td>316</td>\n",
       "      <td>w</td>\n",
       "      <td>2014</td>\n",
       "      <td>Köln</td>\n",
       "      <td>1</td>\n",
       "    </tr>\n",
       "    <tr>\n",
       "      <th>1</th>\n",
       "      <td>Sophie</td>\n",
       "      <td>249</td>\n",
       "      <td>w</td>\n",
       "      <td>2014</td>\n",
       "      <td>Köln</td>\n",
       "      <td>2</td>\n",
       "    </tr>\n",
       "  </tbody>\n",
       "</table>\n",
       "</div>"
      ],
      "text/plain": [
       "  vorname  anzahl geschlecht  jahr stadt  rang\n",
       "0   Marie     316          w  2014  Köln     1\n",
       "1  Sophie     249          w  2014  Köln     2"
      ]
     },
     "execution_count": 26,
     "metadata": {},
     "output_type": "execute_result"
    }
   ],
   "source": [
    "# Köln zu einem zusammen setzen\n",
    "koelle = pd.merge(k_w_top30, k_m_top30, how='outer')\n",
    "koelle.head(2)"
   ]
  },
  {
   "cell_type": "code",
   "execution_count": 27,
   "metadata": {
    "collapsed": false
   },
   "outputs": [
    {
     "data": {
      "text/html": [
       "<div>\n",
       "<table border=\"1\" class=\"dataframe\">\n",
       "  <thead>\n",
       "    <tr style=\"text-align: right;\">\n",
       "      <th></th>\n",
       "      <th>vorname</th>\n",
       "      <th>anzahl</th>\n",
       "      <th>geschlecht</th>\n",
       "      <th>jahr</th>\n",
       "      <th>stadt</th>\n",
       "      <th>rang</th>\n",
       "    </tr>\n",
       "  </thead>\n",
       "  <tbody>\n",
       "    <tr>\n",
       "      <th>0</th>\n",
       "      <td>Marie</td>\n",
       "      <td>316</td>\n",
       "      <td>w</td>\n",
       "      <td>2014</td>\n",
       "      <td>Köln</td>\n",
       "      <td>1</td>\n",
       "    </tr>\n",
       "    <tr>\n",
       "      <th>1</th>\n",
       "      <td>Sophie</td>\n",
       "      <td>249</td>\n",
       "      <td>w</td>\n",
       "      <td>2014</td>\n",
       "      <td>Köln</td>\n",
       "      <td>2</td>\n",
       "    </tr>\n",
       "  </tbody>\n",
       "</table>\n",
       "</div>"
      ],
      "text/plain": [
       "  vorname  anzahl geschlecht  jahr stadt  rang\n",
       "0   Marie     316          w  2014  Köln     1\n",
       "1  Sophie     249          w  2014  Köln     2"
      ]
     },
     "execution_count": 27,
     "metadata": {},
     "output_type": "execute_result"
    }
   ],
   "source": [
    "koelle = koelle.sort_values(by='anzahl', ascending=False)\n",
    "koelle.head(2)"
   ]
  },
  {
   "cell_type": "code",
   "execution_count": null,
   "metadata": {
    "collapsed": true
   },
   "outputs": [],
   "source": []
  },
  {
   "cell_type": "code",
   "execution_count": 79,
   "metadata": {
    "collapsed": false
   },
   "outputs": [
    {
     "data": {
      "text/html": [
       "<div>\n",
       "<table border=\"1\" class=\"dataframe\">\n",
       "  <thead>\n",
       "    <tr style=\"text-align: right;\">\n",
       "      <th></th>\n",
       "      <th>vorname</th>\n",
       "      <th>anzahl</th>\n",
       "      <th>geschlecht</th>\n",
       "      <th>jahr</th>\n",
       "      <th>stadt</th>\n",
       "      <th>rang</th>\n",
       "    </tr>\n",
       "  </thead>\n",
       "  <tbody>\n",
       "    <tr>\n",
       "      <th>0</th>\n",
       "      <td>Marie</td>\n",
       "      <td>316</td>\n",
       "      <td>w</td>\n",
       "      <td>2014</td>\n",
       "      <td>Köln</td>\n",
       "      <td>1</td>\n",
       "    </tr>\n",
       "    <tr>\n",
       "      <th>1</th>\n",
       "      <td>Sophie</td>\n",
       "      <td>249</td>\n",
       "      <td>w</td>\n",
       "      <td>2014</td>\n",
       "      <td>Köln</td>\n",
       "      <td>2</td>\n",
       "    </tr>\n",
       "    <tr>\n",
       "      <th>2</th>\n",
       "      <td>Maria</td>\n",
       "      <td>179</td>\n",
       "      <td>w</td>\n",
       "      <td>2014</td>\n",
       "      <td>Köln</td>\n",
       "      <td>3</td>\n",
       "    </tr>\n",
       "    <tr>\n",
       "      <th>3</th>\n",
       "      <td>Maximilian</td>\n",
       "      <td>158</td>\n",
       "      <td>m</td>\n",
       "      <td>2014</td>\n",
       "      <td>Köln</td>\n",
       "      <td>1</td>\n",
       "    </tr>\n",
       "    <tr>\n",
       "      <th>4</th>\n",
       "      <td>Alexander</td>\n",
       "      <td>153</td>\n",
       "      <td>m</td>\n",
       "      <td>2014</td>\n",
       "      <td>Köln</td>\n",
       "      <td>2</td>\n",
       "    </tr>\n",
       "  </tbody>\n",
       "</table>\n",
       "</div>"
      ],
      "text/plain": [
       "      vorname  anzahl geschlecht  jahr stadt  rang\n",
       "0       Marie     316          w  2014  Köln     1\n",
       "1      Sophie     249          w  2014  Köln     2\n",
       "2       Maria     179          w  2014  Köln     3\n",
       "3  Maximilian     158          m  2014  Köln     1\n",
       "4   Alexander     153          m  2014  Köln     2"
      ]
     },
     "execution_count": 79,
     "metadata": {},
     "output_type": "execute_result"
    }
   ],
   "source": [
    "# Köln und Moers zusammen setzen\n",
    "staedte = pd.merge(koelle, vn_2014_m, how='outer')\n",
    "staedte.head()"
   ]
  },
  {
   "cell_type": "code",
   "execution_count": 71,
   "metadata": {
    "collapsed": false
   },
   "outputs": [
    {
     "data": {
      "text/plain": [
       "2660"
      ]
     },
     "execution_count": 71,
     "metadata": {},
     "output_type": "execute_result"
    }
   ],
   "source": [
    "summe_moers = df['anzahl'].sum()\n",
    "summe_moers"
   ]
  },
  {
   "cell_type": "code",
   "execution_count": 72,
   "metadata": {
    "collapsed": false
   },
   "outputs": [
    {
     "data": {
      "text/plain": [
       "5142.0"
      ]
     },
     "execution_count": 72,
     "metadata": {},
     "output_type": "execute_result"
    }
   ],
   "source": [
    "summe_koeln = koelle['anzahl'].sum()\n",
    "summe_koeln"
   ]
  },
  {
   "cell_type": "code",
   "execution_count": 73,
   "metadata": {
    "collapsed": false
   },
   "outputs": [
    {
     "data": {
      "image/png": "[encoded data removed]",
      "text/plain": [
       "<matplotlib.figure.Figure at 0x7f96bc29e7b8>"
      ]
     },
     "metadata": {},
     "output_type": "display_data"
    }
   ],
   "source": [
    "my_plot = k_w_top30['anzahl'].plot(kind='bar')"
   ]
  },
  {
   "cell_type": "code",
   "execution_count": 74,
   "metadata": {
    "collapsed": true
   },
   "outputs": [],
   "source": [
    "k_w_top30.index = k_w_top30['vorname']"
   ]
  },
  {
   "cell_type": "code",
   "execution_count": 75,
   "metadata": {
    "collapsed": false
   },
   "outputs": [
    {
     "data": {
      "text/html": [
       "<div>\n",
       "<table border=\"1\" class=\"dataframe\">\n",
       "  <thead>\n",
       "    <tr style=\"text-align: right;\">\n",
       "      <th></th>\n",
       "      <th>vorname</th>\n",
       "      <th>anzahl</th>\n",
       "      <th>geschlecht</th>\n",
       "      <th>jahr</th>\n",
       "      <th>stadt</th>\n",
       "      <th>rang</th>\n",
       "    </tr>\n",
       "    <tr>\n",
       "      <th>vorname</th>\n",
       "      <th></th>\n",
       "      <th></th>\n",
       "      <th></th>\n",
       "      <th></th>\n",
       "      <th></th>\n",
       "      <th></th>\n",
       "    </tr>\n",
       "  </thead>\n",
       "  <tbody>\n",
       "    <tr>\n",
       "      <th>Marie</th>\n",
       "      <td>Marie</td>\n",
       "      <td>316</td>\n",
       "      <td>w</td>\n",
       "      <td>2014</td>\n",
       "      <td>Köln</td>\n",
       "      <td>1</td>\n",
       "    </tr>\n",
       "    <tr>\n",
       "      <th>Sophie</th>\n",
       "      <td>Sophie</td>\n",
       "      <td>249</td>\n",
       "      <td>w</td>\n",
       "      <td>2014</td>\n",
       "      <td>Köln</td>\n",
       "      <td>2</td>\n",
       "    </tr>\n",
       "    <tr>\n",
       "      <th>Maria</th>\n",
       "      <td>Maria</td>\n",
       "      <td>179</td>\n",
       "      <td>w</td>\n",
       "      <td>2014</td>\n",
       "      <td>Köln</td>\n",
       "      <td>3</td>\n",
       "    </tr>\n",
       "    <tr>\n",
       "      <th>Anna</th>\n",
       "      <td>Anna</td>\n",
       "      <td>135</td>\n",
       "      <td>w</td>\n",
       "      <td>2014</td>\n",
       "      <td>Köln</td>\n",
       "      <td>4</td>\n",
       "    </tr>\n",
       "    <tr>\n",
       "      <th>Emilia</th>\n",
       "      <td>Emilia</td>\n",
       "      <td>128</td>\n",
       "      <td>w</td>\n",
       "      <td>2014</td>\n",
       "      <td>Köln</td>\n",
       "      <td>5</td>\n",
       "    </tr>\n",
       "    <tr>\n",
       "      <th>Mia</th>\n",
       "      <td>Mia</td>\n",
       "      <td>106</td>\n",
       "      <td>w</td>\n",
       "      <td>2014</td>\n",
       "      <td>Köln</td>\n",
       "      <td>6</td>\n",
       "    </tr>\n",
       "    <tr>\n",
       "      <th>Sophia</th>\n",
       "      <td>Sophia</td>\n",
       "      <td>102</td>\n",
       "      <td>w</td>\n",
       "      <td>2014</td>\n",
       "      <td>Köln</td>\n",
       "      <td>7</td>\n",
       "    </tr>\n",
       "    <tr>\n",
       "      <th>Emma</th>\n",
       "      <td>Emma</td>\n",
       "      <td>99</td>\n",
       "      <td>w</td>\n",
       "      <td>2014</td>\n",
       "      <td>Köln</td>\n",
       "      <td>8</td>\n",
       "    </tr>\n",
       "    <tr>\n",
       "      <th>Charlotte</th>\n",
       "      <td>Charlotte</td>\n",
       "      <td>92</td>\n",
       "      <td>w</td>\n",
       "      <td>2014</td>\n",
       "      <td>Köln</td>\n",
       "      <td>9</td>\n",
       "    </tr>\n",
       "    <tr>\n",
       "      <th>Johanna</th>\n",
       "      <td>Johanna</td>\n",
       "      <td>91</td>\n",
       "      <td>w</td>\n",
       "      <td>2014</td>\n",
       "      <td>Köln</td>\n",
       "      <td>10</td>\n",
       "    </tr>\n",
       "    <tr>\n",
       "      <th>Katharina</th>\n",
       "      <td>Katharina</td>\n",
       "      <td>80</td>\n",
       "      <td>w</td>\n",
       "      <td>2014</td>\n",
       "      <td>Köln</td>\n",
       "      <td>11</td>\n",
       "    </tr>\n",
       "    <tr>\n",
       "      <th>Lina</th>\n",
       "      <td>Lina</td>\n",
       "      <td>80</td>\n",
       "      <td>w</td>\n",
       "      <td>2014</td>\n",
       "      <td>Köln</td>\n",
       "      <td>12</td>\n",
       "    </tr>\n",
       "    <tr>\n",
       "      <th>Lea</th>\n",
       "      <td>Lea</td>\n",
       "      <td>74</td>\n",
       "      <td>w</td>\n",
       "      <td>2014</td>\n",
       "      <td>Köln</td>\n",
       "      <td>13</td>\n",
       "    </tr>\n",
       "    <tr>\n",
       "      <th>Hanna</th>\n",
       "      <td>Hanna</td>\n",
       "      <td>70</td>\n",
       "      <td>w</td>\n",
       "      <td>2014</td>\n",
       "      <td>Köln</td>\n",
       "      <td>14</td>\n",
       "    </tr>\n",
       "    <tr>\n",
       "      <th>Lena</th>\n",
       "      <td>Lena</td>\n",
       "      <td>64</td>\n",
       "      <td>w</td>\n",
       "      <td>2014</td>\n",
       "      <td>Köln</td>\n",
       "      <td>15</td>\n",
       "    </tr>\n",
       "    <tr>\n",
       "      <th>Luisa</th>\n",
       "      <td>Luisa</td>\n",
       "      <td>63</td>\n",
       "      <td>w</td>\n",
       "      <td>2014</td>\n",
       "      <td>Köln</td>\n",
       "      <td>16</td>\n",
       "    </tr>\n",
       "    <tr>\n",
       "      <th>Lara</th>\n",
       "      <td>Lara</td>\n",
       "      <td>62</td>\n",
       "      <td>w</td>\n",
       "      <td>2014</td>\n",
       "      <td>Köln</td>\n",
       "      <td>17</td>\n",
       "    </tr>\n",
       "    <tr>\n",
       "      <th>Greta</th>\n",
       "      <td>Greta</td>\n",
       "      <td>61</td>\n",
       "      <td>w</td>\n",
       "      <td>2014</td>\n",
       "      <td>Köln</td>\n",
       "      <td>18</td>\n",
       "    </tr>\n",
       "    <tr>\n",
       "      <th>Leonie</th>\n",
       "      <td>Leonie</td>\n",
       "      <td>59</td>\n",
       "      <td>w</td>\n",
       "      <td>2014</td>\n",
       "      <td>Köln</td>\n",
       "      <td>19</td>\n",
       "    </tr>\n",
       "    <tr>\n",
       "      <th>Amelie</th>\n",
       "      <td>Amelie</td>\n",
       "      <td>57</td>\n",
       "      <td>w</td>\n",
       "      <td>2014</td>\n",
       "      <td>Köln</td>\n",
       "      <td>20</td>\n",
       "    </tr>\n",
       "    <tr>\n",
       "      <th>Julia</th>\n",
       "      <td>Julia</td>\n",
       "      <td>55</td>\n",
       "      <td>w</td>\n",
       "      <td>2014</td>\n",
       "      <td>Köln</td>\n",
       "      <td>21</td>\n",
       "    </tr>\n",
       "    <tr>\n",
       "      <th>Luise</th>\n",
       "      <td>Luise</td>\n",
       "      <td>55</td>\n",
       "      <td>w</td>\n",
       "      <td>2014</td>\n",
       "      <td>Köln</td>\n",
       "      <td>22</td>\n",
       "    </tr>\n",
       "    <tr>\n",
       "      <th>Mila</th>\n",
       "      <td>Mila</td>\n",
       "      <td>55</td>\n",
       "      <td>w</td>\n",
       "      <td>2014</td>\n",
       "      <td>Köln</td>\n",
       "      <td>23</td>\n",
       "    </tr>\n",
       "    <tr>\n",
       "      <th>Laura</th>\n",
       "      <td>Laura</td>\n",
       "      <td>54</td>\n",
       "      <td>w</td>\n",
       "      <td>2014</td>\n",
       "      <td>Köln</td>\n",
       "      <td>24</td>\n",
       "    </tr>\n",
       "    <tr>\n",
       "      <th>Sofia</th>\n",
       "      <td>Sofia</td>\n",
       "      <td>54</td>\n",
       "      <td>w</td>\n",
       "      <td>2014</td>\n",
       "      <td>Köln</td>\n",
       "      <td>25</td>\n",
       "    </tr>\n",
       "    <tr>\n",
       "      <th>Elisa</th>\n",
       "      <td>Elisa</td>\n",
       "      <td>53</td>\n",
       "      <td>w</td>\n",
       "      <td>2014</td>\n",
       "      <td>Köln</td>\n",
       "      <td>26</td>\n",
       "    </tr>\n",
       "    <tr>\n",
       "      <th>Marlene</th>\n",
       "      <td>Marlene</td>\n",
       "      <td>53</td>\n",
       "      <td>w</td>\n",
       "      <td>2014</td>\n",
       "      <td>Köln</td>\n",
       "      <td>27</td>\n",
       "    </tr>\n",
       "    <tr>\n",
       "      <th>Elisabeth</th>\n",
       "      <td>Elisabeth</td>\n",
       "      <td>52</td>\n",
       "      <td>w</td>\n",
       "      <td>2014</td>\n",
       "      <td>Köln</td>\n",
       "      <td>28</td>\n",
       "    </tr>\n",
       "    <tr>\n",
       "      <th>Clara</th>\n",
       "      <td>Clara</td>\n",
       "      <td>50</td>\n",
       "      <td>w</td>\n",
       "      <td>2014</td>\n",
       "      <td>Köln</td>\n",
       "      <td>29</td>\n",
       "    </tr>\n",
       "    <tr>\n",
       "      <th>Ella</th>\n",
       "      <td>Ella</td>\n",
       "      <td>49</td>\n",
       "      <td>w</td>\n",
       "      <td>2014</td>\n",
       "      <td>Köln</td>\n",
       "      <td>30</td>\n",
       "    </tr>\n",
       "  </tbody>\n",
       "</table>\n",
       "</div>"
      ],
      "text/plain": [
       "             vorname  anzahl geschlecht  jahr stadt  rang\n",
       "vorname                                                  \n",
       "Marie          Marie     316          w  2014  Köln     1\n",
       "Sophie        Sophie     249          w  2014  Köln     2\n",
       "Maria          Maria     179          w  2014  Köln     3\n",
       "Anna            Anna     135          w  2014  Köln     4\n",
       "Emilia        Emilia     128          w  2014  Köln     5\n",
       "Mia              Mia     106          w  2014  Köln     6\n",
       "Sophia        Sophia     102          w  2014  Köln     7\n",
       "Emma            Emma      99          w  2014  Köln     8\n",
       "Charlotte  Charlotte      92          w  2014  Köln     9\n",
       "Johanna      Johanna      91          w  2014  Köln    10\n",
       "Katharina  Katharina      80          w  2014  Köln    11\n",
       "Lina            Lina      80          w  2014  Köln    12\n",
       "Lea              Lea      74          w  2014  Köln    13\n",
       "Hanna          Hanna      70          w  2014  Köln    14\n",
       "Lena            Lena      64          w  2014  Köln    15\n",
       "Luisa          Luisa      63          w  2014  Köln    16\n",
       "Lara            Lara      62          w  2014  Köln    17\n",
       "Greta          Greta      61          w  2014  Köln    18\n",
       "Leonie        Leonie      59          w  2014  Köln    19\n",
       "Amelie        Amelie      57          w  2014  Köln    20\n",
       "Julia          Julia      55          w  2014  Köln    21\n",
       "Luise          Luise      55          w  2014  Köln    22\n",
       "Mila            Mila      55          w  2014  Köln    23\n",
       "Laura          Laura      54          w  2014  Köln    24\n",
       "Sofia          Sofia      54          w  2014  Köln    25\n",
       "Elisa          Elisa      53          w  2014  Köln    26\n",
       "Marlene      Marlene      53          w  2014  Köln    27\n",
       "Elisabeth  Elisabeth      52          w  2014  Köln    28\n",
       "Clara          Clara      50          w  2014  Köln    29\n",
       "Ella            Ella      49          w  2014  Köln    30"
      ]
     },
     "execution_count": 75,
     "metadata": {},
     "output_type": "execute_result"
    }
   ],
   "source": [
    "k_w_top30"
   ]
  },
  {
   "cell_type": "code",
   "execution_count": 76,
   "metadata": {
    "collapsed": false
   },
   "outputs": [
    {
     "data": {
      "image/png": "[encoded data removed]",
      "text/plain": [
       "<matplotlib.figure.Figure at 0x7f96becf56a0>"
      ]
     },
     "metadata": {},
     "output_type": "display_data"
    }
   ],
   "source": [
    "my_plot = k_w_top30['anzahl'].plot(kind='bar')"
   ]
  },
  {
   "cell_type": "code",
   "execution_count": 77,
   "metadata": {
    "collapsed": false
   },
   "outputs": [
    {
     "data": {
      "image/png": "[encoded data removed]",
      "text/plain": [
       "<matplotlib.figure.Figure at 0x7f96bbeed128>"
      ]
     },
     "metadata": {},
     "output_type": "display_data"
    }
   ],
   "source": [
    "plot = staedte[staedte['geschlecht'] == 'w']\n",
    "\n",
    "plot.index = plot['vorname']\n",
    "my_plot = plot['anzahl'].plot(kind='bar')"
   ]
  },
  {
   "cell_type": "code",
   "execution_count": 85,
   "metadata": {
    "collapsed": false
   },
   "outputs": [
    {
     "data": {
      "text/html": [
       "<div>\n",
       "<table border=\"1\" class=\"dataframe\">\n",
       "  <thead>\n",
       "    <tr style=\"text-align: right;\">\n",
       "      <th></th>\n",
       "      <th>vorname</th>\n",
       "      <th>anzahl</th>\n",
       "      <th>geschlecht</th>\n",
       "      <th>jahr</th>\n",
       "      <th>stadt</th>\n",
       "      <th>rang</th>\n",
       "    </tr>\n",
       "    <tr>\n",
       "      <th>vorname</th>\n",
       "      <th></th>\n",
       "      <th></th>\n",
       "      <th></th>\n",
       "      <th></th>\n",
       "      <th></th>\n",
       "      <th></th>\n",
       "    </tr>\n",
       "  </thead>\n",
       "  <tbody>\n",
       "    <tr>\n",
       "      <th>Marie</th>\n",
       "      <td>Marie</td>\n",
       "      <td>316</td>\n",
       "      <td>w</td>\n",
       "      <td>2014</td>\n",
       "      <td>Köln</td>\n",
       "      <td>1</td>\n",
       "    </tr>\n",
       "    <tr>\n",
       "      <th>Sophie</th>\n",
       "      <td>Sophie</td>\n",
       "      <td>249</td>\n",
       "      <td>w</td>\n",
       "      <td>2014</td>\n",
       "      <td>Köln</td>\n",
       "      <td>2</td>\n",
       "    </tr>\n",
       "    <tr>\n",
       "      <th>Maria</th>\n",
       "      <td>Maria</td>\n",
       "      <td>179</td>\n",
       "      <td>w</td>\n",
       "      <td>2014</td>\n",
       "      <td>Köln</td>\n",
       "      <td>3</td>\n",
       "    </tr>\n",
       "    <tr>\n",
       "      <th>Anna</th>\n",
       "      <td>Anna</td>\n",
       "      <td>135</td>\n",
       "      <td>w</td>\n",
       "      <td>2014</td>\n",
       "      <td>Köln</td>\n",
       "      <td>4</td>\n",
       "    </tr>\n",
       "    <tr>\n",
       "      <th>Emilia</th>\n",
       "      <td>Emilia</td>\n",
       "      <td>128</td>\n",
       "      <td>w</td>\n",
       "      <td>2014</td>\n",
       "      <td>Köln</td>\n",
       "      <td>5</td>\n",
       "    </tr>\n",
       "    <tr>\n",
       "      <th>Mia</th>\n",
       "      <td>Mia</td>\n",
       "      <td>106</td>\n",
       "      <td>w</td>\n",
       "      <td>2014</td>\n",
       "      <td>Köln</td>\n",
       "      <td>6</td>\n",
       "    </tr>\n",
       "    <tr>\n",
       "      <th>Sophia</th>\n",
       "      <td>Sophia</td>\n",
       "      <td>102</td>\n",
       "      <td>w</td>\n",
       "      <td>2014</td>\n",
       "      <td>Köln</td>\n",
       "      <td>7</td>\n",
       "    </tr>\n",
       "    <tr>\n",
       "      <th>Emma</th>\n",
       "      <td>Emma</td>\n",
       "      <td>99</td>\n",
       "      <td>w</td>\n",
       "      <td>2014</td>\n",
       "      <td>Köln</td>\n",
       "      <td>8</td>\n",
       "    </tr>\n",
       "    <tr>\n",
       "      <th>Charlotte</th>\n",
       "      <td>Charlotte</td>\n",
       "      <td>92</td>\n",
       "      <td>w</td>\n",
       "      <td>2014</td>\n",
       "      <td>Köln</td>\n",
       "      <td>9</td>\n",
       "    </tr>\n",
       "    <tr>\n",
       "      <th>Johanna</th>\n",
       "      <td>Johanna</td>\n",
       "      <td>91</td>\n",
       "      <td>w</td>\n",
       "      <td>2014</td>\n",
       "      <td>Köln</td>\n",
       "      <td>10</td>\n",
       "    </tr>\n",
       "    <tr>\n",
       "      <th>Katharina</th>\n",
       "      <td>Katharina</td>\n",
       "      <td>80</td>\n",
       "      <td>w</td>\n",
       "      <td>2014</td>\n",
       "      <td>Köln</td>\n",
       "      <td>11</td>\n",
       "    </tr>\n",
       "    <tr>\n",
       "      <th>Lina</th>\n",
       "      <td>Lina</td>\n",
       "      <td>80</td>\n",
       "      <td>w</td>\n",
       "      <td>2014</td>\n",
       "      <td>Köln</td>\n",
       "      <td>12</td>\n",
       "    </tr>\n",
       "    <tr>\n",
       "      <th>Lea</th>\n",
       "      <td>Lea</td>\n",
       "      <td>74</td>\n",
       "      <td>w</td>\n",
       "      <td>2014</td>\n",
       "      <td>Köln</td>\n",
       "      <td>13</td>\n",
       "    </tr>\n",
       "    <tr>\n",
       "      <th>Hanna</th>\n",
       "      <td>Hanna</td>\n",
       "      <td>70</td>\n",
       "      <td>w</td>\n",
       "      <td>2014</td>\n",
       "      <td>Köln</td>\n",
       "      <td>14</td>\n",
       "    </tr>\n",
       "    <tr>\n",
       "      <th>Lena</th>\n",
       "      <td>Lena</td>\n",
       "      <td>64</td>\n",
       "      <td>w</td>\n",
       "      <td>2014</td>\n",
       "      <td>Köln</td>\n",
       "      <td>15</td>\n",
       "    </tr>\n",
       "    <tr>\n",
       "      <th>Luisa</th>\n",
       "      <td>Luisa</td>\n",
       "      <td>63</td>\n",
       "      <td>w</td>\n",
       "      <td>2014</td>\n",
       "      <td>Köln</td>\n",
       "      <td>16</td>\n",
       "    </tr>\n",
       "    <tr>\n",
       "      <th>Lara</th>\n",
       "      <td>Lara</td>\n",
       "      <td>62</td>\n",
       "      <td>w</td>\n",
       "      <td>2014</td>\n",
       "      <td>Köln</td>\n",
       "      <td>17</td>\n",
       "    </tr>\n",
       "    <tr>\n",
       "      <th>Greta</th>\n",
       "      <td>Greta</td>\n",
       "      <td>61</td>\n",
       "      <td>w</td>\n",
       "      <td>2014</td>\n",
       "      <td>Köln</td>\n",
       "      <td>18</td>\n",
       "    </tr>\n",
       "    <tr>\n",
       "      <th>Leonie</th>\n",
       "      <td>Leonie</td>\n",
       "      <td>59</td>\n",
       "      <td>w</td>\n",
       "      <td>2014</td>\n",
       "      <td>Köln</td>\n",
       "      <td>19</td>\n",
       "    </tr>\n",
       "    <tr>\n",
       "      <th>Amelie</th>\n",
       "      <td>Amelie</td>\n",
       "      <td>57</td>\n",
       "      <td>w</td>\n",
       "      <td>2014</td>\n",
       "      <td>Köln</td>\n",
       "      <td>20</td>\n",
       "    </tr>\n",
       "    <tr>\n",
       "      <th>Mila</th>\n",
       "      <td>Mila</td>\n",
       "      <td>55</td>\n",
       "      <td>w</td>\n",
       "      <td>2014</td>\n",
       "      <td>Köln</td>\n",
       "      <td>23</td>\n",
       "    </tr>\n",
       "    <tr>\n",
       "      <th>Julia</th>\n",
       "      <td>Julia</td>\n",
       "      <td>55</td>\n",
       "      <td>w</td>\n",
       "      <td>2014</td>\n",
       "      <td>Köln</td>\n",
       "      <td>21</td>\n",
       "    </tr>\n",
       "    <tr>\n",
       "      <th>Luise</th>\n",
       "      <td>Luise</td>\n",
       "      <td>55</td>\n",
       "      <td>w</td>\n",
       "      <td>2014</td>\n",
       "      <td>Köln</td>\n",
       "      <td>22</td>\n",
       "    </tr>\n",
       "    <tr>\n",
       "      <th>Laura</th>\n",
       "      <td>Laura</td>\n",
       "      <td>54</td>\n",
       "      <td>w</td>\n",
       "      <td>2014</td>\n",
       "      <td>Köln</td>\n",
       "      <td>24</td>\n",
       "    </tr>\n",
       "    <tr>\n",
       "      <th>Sofia</th>\n",
       "      <td>Sofia</td>\n",
       "      <td>54</td>\n",
       "      <td>w</td>\n",
       "      <td>2014</td>\n",
       "      <td>Köln</td>\n",
       "      <td>25</td>\n",
       "    </tr>\n",
       "    <tr>\n",
       "      <th>Elisa</th>\n",
       "      <td>Elisa</td>\n",
       "      <td>53</td>\n",
       "      <td>w</td>\n",
       "      <td>2014</td>\n",
       "      <td>Köln</td>\n",
       "      <td>26</td>\n",
       "    </tr>\n",
       "    <tr>\n",
       "      <th>Marlene</th>\n",
       "      <td>Marlene</td>\n",
       "      <td>53</td>\n",
       "      <td>w</td>\n",
       "      <td>2014</td>\n",
       "      <td>Köln</td>\n",
       "      <td>27</td>\n",
       "    </tr>\n",
       "    <tr>\n",
       "      <th>Elisabeth</th>\n",
       "      <td>Elisabeth</td>\n",
       "      <td>52</td>\n",
       "      <td>w</td>\n",
       "      <td>2014</td>\n",
       "      <td>Köln</td>\n",
       "      <td>28</td>\n",
       "    </tr>\n",
       "    <tr>\n",
       "      <th>Clara</th>\n",
       "      <td>Clara</td>\n",
       "      <td>50</td>\n",
       "      <td>w</td>\n",
       "      <td>2014</td>\n",
       "      <td>Köln</td>\n",
       "      <td>29</td>\n",
       "    </tr>\n",
       "    <tr>\n",
       "      <th>Ella</th>\n",
       "      <td>Ella</td>\n",
       "      <td>49</td>\n",
       "      <td>w</td>\n",
       "      <td>2014</td>\n",
       "      <td>Köln</td>\n",
       "      <td>30</td>\n",
       "    </tr>\n",
       "  </tbody>\n",
       "</table>\n",
       "</div>"
      ],
      "text/plain": [
       "             vorname  anzahl geschlecht  jahr stadt  rang\n",
       "vorname                                                  \n",
       "Marie          Marie     316          w  2014  Köln     1\n",
       "Sophie        Sophie     249          w  2014  Köln     2\n",
       "Maria          Maria     179          w  2014  Köln     3\n",
       "Anna            Anna     135          w  2014  Köln     4\n",
       "Emilia        Emilia     128          w  2014  Köln     5\n",
       "Mia              Mia     106          w  2014  Köln     6\n",
       "Sophia        Sophia     102          w  2014  Köln     7\n",
       "Emma            Emma      99          w  2014  Köln     8\n",
       "Charlotte  Charlotte      92          w  2014  Köln     9\n",
       "Johanna      Johanna      91          w  2014  Köln    10\n",
       "Katharina  Katharina      80          w  2014  Köln    11\n",
       "Lina            Lina      80          w  2014  Köln    12\n",
       "Lea              Lea      74          w  2014  Köln    13\n",
       "Hanna          Hanna      70          w  2014  Köln    14\n",
       "Lena            Lena      64          w  2014  Köln    15\n",
       "Luisa          Luisa      63          w  2014  Köln    16\n",
       "Lara            Lara      62          w  2014  Köln    17\n",
       "Greta          Greta      61          w  2014  Köln    18\n",
       "Leonie        Leonie      59          w  2014  Köln    19\n",
       "Amelie        Amelie      57          w  2014  Köln    20\n",
       "Mila            Mila      55          w  2014  Köln    23\n",
       "Julia          Julia      55          w  2014  Köln    21\n",
       "Luise          Luise      55          w  2014  Köln    22\n",
       "Laura          Laura      54          w  2014  Köln    24\n",
       "Sofia          Sofia      54          w  2014  Köln    25\n",
       "Elisa          Elisa      53          w  2014  Köln    26\n",
       "Marlene      Marlene      53          w  2014  Köln    27\n",
       "Elisabeth  Elisabeth      52          w  2014  Köln    28\n",
       "Clara          Clara      50          w  2014  Köln    29\n",
       "Ella            Ella      49          w  2014  Köln    30"
      ]
     },
     "execution_count": 85,
     "metadata": {},
     "output_type": "execute_result"
    }
   ],
   "source": [
    "plot1 = staedte[staedte['geschlecht'] == 'w'].head(30)\n",
    "plot1.index = plot1['vorname']\n",
    "plot1\n",
    "\n"
   ]
  },
  {
   "cell_type": "code",
   "execution_count": 90,
   "metadata": {
    "collapsed": false
   },
   "outputs": [
    {
     "data": {
      "text/plain": [
       "vorname\n",
       "Marie        316\n",
       "Sophie       249\n",
       "Maria        179\n",
       "Anna         135\n",
       "Emilia       128\n",
       "Mia          106\n",
       "Sophia       102\n",
       "Emma          99\n",
       "Charlotte     92\n",
       "Johanna       91\n",
       "Katharina     80\n",
       "Lina          80\n",
       "Lea           74\n",
       "Hanna         70\n",
       "Lena          64\n",
       "Luisa         63\n",
       "Lara          62\n",
       "Greta         61\n",
       "Leonie        59\n",
       "Amelie        57\n",
       "Mila          55\n",
       "Julia         55\n",
       "Luise         55\n",
       "Laura         54\n",
       "Sofia         54\n",
       "Elisa         53\n",
       "Marlene       53\n",
       "Elisabeth     52\n",
       "Clara         50\n",
       "Ella          49\n",
       "Name: anzahl, dtype: float64"
      ]
     },
     "execution_count": 90,
     "metadata": {},
     "output_type": "execute_result"
    }
   ],
   "source": [
    "my_plot1 = plot1['anzahl']\n",
    "my_plot1"
   ]
  },
  {
   "cell_type": "code",
   "execution_count": 91,
   "metadata": {
    "collapsed": false
   },
   "outputs": [
    {
     "data": {
      "image/png": "[encoded data removed]",
      "text/plain": [
       "<matplotlib.figure.Figure at 0x7f96bc1a9278>"
      ]
     },
     "metadata": {},
     "output_type": "display_data"
    }
   ],
   "source": [
    "my_plot1 = plot1['anzahl'].hist(bins=50)"
   ]
  },
  {
   "cell_type": "code",
   "execution_count": null,
   "metadata": {
    "collapsed": true
   },
   "outputs": [],
   "source": []
  }
 ],
 "metadata": {
  "kernelspec": {
   "display_name": "Python 3",
   "language": "python",
   "name": "python3"
  },
  "language_info": {
   "codemirror_mode": {
    "name": "ipython",
    "version": 3
   },
   "file_extension": ".py",
   "mimetype": "text/x-python",
   "name": "python",
   "nbconvert_exporter": "python",
   "pygments_lexer": "ipython3",
   "version": "3.4.2"
  }
 },
 "nbformat": 4,
 "nbformat_minor": 0
}
