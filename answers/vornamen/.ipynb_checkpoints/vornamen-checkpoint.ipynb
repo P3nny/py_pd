{
 "cells": [
  {
   "cell_type": "code",
   "execution_count": 1,
   "metadata": {
    "collapsed": false
   },
   "outputs": [],
   "source": [
    "import pandas as pd\n",
    "import re\n",
    "import matplotlib.pyplot as plt\n",
    "import matplotlib\n",
    "import numpy as np\n",
    "import pylab as pl\n",
    "%matplotlib inline\n",
    "from bokeh.plotting import figure, show\n",
    "from bokeh.io import output_notebook\n",
    "\n",
    "from ggplot import *"
   ]
  },
  {
   "cell_type": "markdown",
   "metadata": {},
   "source": [
    "# Moerser Daten: Vornamen "
   ]
  },
  {
   "cell_type": "markdown",
   "metadata": {},
   "source": [
    "* 2009: [https://www.offenesdatenportal.de/dataset/33cdd3f6-52bf-41c3-b03f-30e19631f66a/resource/9b0920c9-d593-4abc-88b2-5b1bb1a63ce2/download/vornamen2009.csv]\n",
    "* 2010: [https://www.offenesdatenportal.de/dataset/4e1cd32f-5788-40d1-834b-284fdf89371b/resource/f0c646ad-c4c8-4aff-9276-f12f0d6ad78c/download/vornamen2010.csv]\n",
    "* 2011: [https://www.offenesdatenportal.de/dataset/185165d7-a35a-484a-8401-9e4a1ab6033d/resource/888edbfd-605c-461f-961c-72be4d281a00/download/vornamen2011.csv]\n",
    "* 2012: [https://www.offenesdatenportal.de/dataset/e09b6922-8873-4930-851a-eb6634be50db/resource/00a00f02-3ede-4512-b4b2-d076f7a2cf67/download/vornamen2012.csv]\n",
    "* 2013: [https://www.offenesdatenportal.de/dataset/45c78ab3-fd45-4dbc-bda5-2dddc6b71ca3/resource/6e1aabc2-0490-4605-8667-0a8b8a28702a/download/vornamen2013.csv]\n",
    "* 2014: [https://www.offenesdatenportal.de/dataset/e5ff322f-a8b7-4dc7-b281-2d3d767983f9/resource/4da3d423-9aeb-4e6e-8dbc-926649089416/download/vornamen14.csv]\n",
    "* 2015: [https://www.offenesdatenportal.de/dataset/a7056a8a-ea10-41fd-afb2-62d022aec517/resource/561ba1f8-0575-4a50-957b-3a0f3a070284/download/vornamen2015.csv]\n"
   ]
  },
  {
   "cell_type": "markdown",
   "metadata": {},
   "source": [
    "Zu den Daten: \n",
    "* 2015 / 2014 = andere Sortierung: Nur vorname;anzahl;geschlecht\n",
    "* Vor 2014 im Kopf Zusatzinfo: Wie oft wurden 1,2, mehr als drei Namen vergeben: Wichtig, aber bitte nicht in Daten reinschreiben. \n",
    "* Daten davor: Rang;Mädchen;Anzahl;Knaben;Anzahl = verschachtelte Datenstruktur, 'schlauere Tabelle', als Pressemitteilung zum abdrucken besser, aber weniger gut für Maschinenlesbarkeit: Da gilt: Bitte alles und bitte möglichst 'dumm' = so einfach wie möglich \n",
    "* Enthatlten nur Top 30 Namen\n",
    "* Dazu Problem ä = Umlaut - Iso encodiert\n",
    "* 2010 dazu Problem, dass hinter jeder Zeile zusätzliche ; sind und außerdem Leerzeichen, die nix zu suchen haben (Vor allem im Kopf ärgerlich) \n"
   ]
  },
  {
   "cell_type": "code",
   "execution_count": 2,
   "metadata": {
    "collapsed": false
   },
   "outputs": [
    {
     "data": {
      "text/html": [
       "<div>\n",
       "<table border=\"1\" class=\"dataframe\">\n",
       "  <thead>\n",
       "    <tr style=\"text-align: right;\">\n",
       "      <th></th>\n",
       "      <th>Rang</th>\n",
       "      <th>Mädchen</th>\n",
       "      <th>Anzahl</th>\n",
       "      <th>Knaben</th>\n",
       "      <th>Anzahl.1</th>\n",
       "    </tr>\n",
       "  </thead>\n",
       "  <tbody>\n",
       "    <tr>\n",
       "      <th>0</th>\n",
       "      <td>1</td>\n",
       "      <td>Sophie</td>\n",
       "      <td>43</td>\n",
       "      <td>Noah</td>\n",
       "      <td>21</td>\n",
       "    </tr>\n",
       "    <tr>\n",
       "      <th>1</th>\n",
       "      <td>2</td>\n",
       "      <td>Marie</td>\n",
       "      <td>40</td>\n",
       "      <td>Ben</td>\n",
       "      <td>19</td>\n",
       "    </tr>\n",
       "    <tr>\n",
       "      <th>2</th>\n",
       "      <td>3</td>\n",
       "      <td>Mia</td>\n",
       "      <td>23</td>\n",
       "      <td>Jonas</td>\n",
       "      <td>18</td>\n",
       "    </tr>\n",
       "    <tr>\n",
       "      <th>3</th>\n",
       "      <td>4</td>\n",
       "      <td>Maria</td>\n",
       "      <td>19</td>\n",
       "      <td>Leon</td>\n",
       "      <td>18</td>\n",
       "    </tr>\n",
       "    <tr>\n",
       "      <th>4</th>\n",
       "      <td>5</td>\n",
       "      <td>Lina</td>\n",
       "      <td>18</td>\n",
       "      <td>Maximilian</td>\n",
       "      <td>16</td>\n",
       "    </tr>\n",
       "    <tr>\n",
       "      <th>5</th>\n",
       "      <td>6</td>\n",
       "      <td>Anna</td>\n",
       "      <td>14</td>\n",
       "      <td>Paul</td>\n",
       "      <td>15</td>\n",
       "    </tr>\n",
       "    <tr>\n",
       "      <th>6</th>\n",
       "      <td>7</td>\n",
       "      <td>Emily</td>\n",
       "      <td>13</td>\n",
       "      <td>Elias</td>\n",
       "      <td>14</td>\n",
       "    </tr>\n",
       "    <tr>\n",
       "      <th>7</th>\n",
       "      <td>8</td>\n",
       "      <td>Emma</td>\n",
       "      <td>13</td>\n",
       "      <td>Finn</td>\n",
       "      <td>13</td>\n",
       "    </tr>\n",
       "    <tr>\n",
       "      <th>8</th>\n",
       "      <td>9</td>\n",
       "      <td>Luisa</td>\n",
       "      <td>13</td>\n",
       "      <td>Jan</td>\n",
       "      <td>13</td>\n",
       "    </tr>\n",
       "    <tr>\n",
       "      <th>9</th>\n",
       "      <td>10</td>\n",
       "      <td>Sophia</td>\n",
       "      <td>13</td>\n",
       "      <td>Lukas</td>\n",
       "      <td>13</td>\n",
       "    </tr>\n",
       "  </tbody>\n",
       "</table>\n",
       "</div>"
      ],
      "text/plain": [
       "   Rang Mädchen  Anzahl      Knaben  Anzahl.1\n",
       "0     1  Sophie      43        Noah        21\n",
       "1     2   Marie      40         Ben        19\n",
       "2     3     Mia      23       Jonas        18\n",
       "3     4   Maria      19        Leon        18\n",
       "4     5    Lina      18  Maximilian        16\n",
       "5     6    Anna      14        Paul        15\n",
       "6     7   Emily      13       Elias        14\n",
       "7     8    Emma      13        Finn        13\n",
       "8     9   Luisa      13         Jan        13\n",
       "9    10  Sophia      13       Lukas        13"
      ]
     },
     "execution_count": 2,
     "metadata": {},
     "output_type": "execute_result"
    }
   ],
   "source": [
    "f = 'vornamen2013.csv'\n",
    "df = pd.read_csv(f, sep=';', encoding='ISO-8859-1')\n",
    "df.head(10)"
   ]
  },
  {
   "cell_type": "markdown",
   "metadata": {},
   "source": [
    "# Daten zusammenführen "
   ]
  },
  {
   "cell_type": "markdown",
   "metadata": {},
   "source": [
    "## 2009 - 2013 "
   ]
  },
  {
   "cell_type": "code",
   "execution_count": 3,
   "metadata": {
    "collapsed": false
   },
   "outputs": [],
   "source": [
    "years = range(2009,2014)\n",
    "\n",
    "pieces = []\n",
    "columns = ['rang', 'vorname', 'anzahl', 'knaben', 'k_anzahl']\n",
    "\n",
    "for year in years:\n",
    "    path = 'vornamen%d.csv' % year\n",
    "    frame = pd.read_csv(path, names=columns, sep=';', encoding='ISO-8859-1', skiprows=1)\n",
    "    frame['jahr'] = year\n",
    "    pieces.append(frame)\n",
    "    \n",
    "# Concatenate in one single DF\n",
    "names = pd.concat(pieces, ignore_index=True)"
   ]
  },
  {
   "cell_type": "code",
   "execution_count": 4,
   "metadata": {
    "collapsed": false
   },
   "outputs": [
    {
     "data": {
      "text/plain": [
       "(150, 6)"
      ]
     },
     "execution_count": 4,
     "metadata": {},
     "output_type": "execute_result"
    }
   ],
   "source": [
    "names.shape"
   ]
  },
  {
   "cell_type": "code",
   "execution_count": 5,
   "metadata": {
    "collapsed": false
   },
   "outputs": [
    {
     "data": {
      "text/html": [
       "<div>\n",
       "<table border=\"1\" class=\"dataframe\">\n",
       "  <thead>\n",
       "    <tr style=\"text-align: right;\">\n",
       "      <th></th>\n",
       "      <th>rang</th>\n",
       "      <th>vorname</th>\n",
       "      <th>anzahl</th>\n",
       "      <th>knaben</th>\n",
       "      <th>k_anzahl</th>\n",
       "      <th>jahr</th>\n",
       "    </tr>\n",
       "  </thead>\n",
       "  <tbody>\n",
       "    <tr>\n",
       "      <th>145</th>\n",
       "      <td>26</td>\n",
       "      <td>Elif</td>\n",
       "      <td>6</td>\n",
       "      <td>Liam</td>\n",
       "      <td>8</td>\n",
       "      <td>2013</td>\n",
       "    </tr>\n",
       "    <tr>\n",
       "      <th>146</th>\n",
       "      <td>27</td>\n",
       "      <td>Fabienne</td>\n",
       "      <td>6</td>\n",
       "      <td>Luis</td>\n",
       "      <td>8</td>\n",
       "      <td>2013</td>\n",
       "    </tr>\n",
       "    <tr>\n",
       "      <th>147</th>\n",
       "      <td>28</td>\n",
       "      <td>Lotta</td>\n",
       "      <td>6</td>\n",
       "      <td>Nico</td>\n",
       "      <td>8</td>\n",
       "      <td>2013</td>\n",
       "    </tr>\n",
       "    <tr>\n",
       "      <th>148</th>\n",
       "      <td>29</td>\n",
       "      <td>Olivia</td>\n",
       "      <td>6</td>\n",
       "      <td>Tim</td>\n",
       "      <td>8</td>\n",
       "      <td>2013</td>\n",
       "    </tr>\n",
       "    <tr>\n",
       "      <th>149</th>\n",
       "      <td>30</td>\n",
       "      <td>Sara</td>\n",
       "      <td>6</td>\n",
       "      <td>Ali</td>\n",
       "      <td>7</td>\n",
       "      <td>2013</td>\n",
       "    </tr>\n",
       "  </tbody>\n",
       "</table>\n",
       "</div>"
      ],
      "text/plain": [
       "     rang   vorname  anzahl knaben  k_anzahl  jahr\n",
       "145    26      Elif       6   Liam         8  2013\n",
       "146    27  Fabienne       6   Luis         8  2013\n",
       "147    28     Lotta       6   Nico         8  2013\n",
       "148    29    Olivia       6    Tim         8  2013\n",
       "149    30      Sara       6    Ali         7  2013"
      ]
     },
     "execution_count": 5,
     "metadata": {},
     "output_type": "execute_result"
    }
   ],
   "source": [
    "names.tail()"
   ]
  },
  {
   "cell_type": "code",
   "execution_count": 6,
   "metadata": {
    "collapsed": false
   },
   "outputs": [
    {
     "data": {
      "text/html": [
       "<div>\n",
       "<table border=\"1\" class=\"dataframe\">\n",
       "  <thead>\n",
       "    <tr style=\"text-align: right;\">\n",
       "      <th></th>\n",
       "      <th>rang</th>\n",
       "      <th>vorname</th>\n",
       "      <th>anzahl</th>\n",
       "      <th>jahr</th>\n",
       "    </tr>\n",
       "  </thead>\n",
       "  <tbody>\n",
       "    <tr>\n",
       "      <th>145</th>\n",
       "      <td>26</td>\n",
       "      <td>Elif</td>\n",
       "      <td>6</td>\n",
       "      <td>2013</td>\n",
       "    </tr>\n",
       "    <tr>\n",
       "      <th>146</th>\n",
       "      <td>27</td>\n",
       "      <td>Fabienne</td>\n",
       "      <td>6</td>\n",
       "      <td>2013</td>\n",
       "    </tr>\n",
       "    <tr>\n",
       "      <th>147</th>\n",
       "      <td>28</td>\n",
       "      <td>Lotta</td>\n",
       "      <td>6</td>\n",
       "      <td>2013</td>\n",
       "    </tr>\n",
       "    <tr>\n",
       "      <th>148</th>\n",
       "      <td>29</td>\n",
       "      <td>Olivia</td>\n",
       "      <td>6</td>\n",
       "      <td>2013</td>\n",
       "    </tr>\n",
       "    <tr>\n",
       "      <th>149</th>\n",
       "      <td>30</td>\n",
       "      <td>Sara</td>\n",
       "      <td>6</td>\n",
       "      <td>2013</td>\n",
       "    </tr>\n",
       "  </tbody>\n",
       "</table>\n",
       "</div>"
      ],
      "text/plain": [
       "     rang   vorname  anzahl  jahr\n",
       "145    26      Elif       6  2013\n",
       "146    27  Fabienne       6  2013\n",
       "147    28     Lotta       6  2013\n",
       "148    29    Olivia       6  2013\n",
       "149    30      Sara       6  2013"
      ]
     },
     "execution_count": 6,
     "metadata": {},
     "output_type": "execute_result"
    }
   ],
   "source": [
    "# Erstmal nur die Spalten für Mädchen\n",
    "maedchen = names[['rang', 'vorname', 'anzahl', 'jahr']]\n",
    "maedchen.tail()"
   ]
  },
  {
   "cell_type": "code",
   "execution_count": 7,
   "metadata": {
    "collapsed": false
   },
   "outputs": [
    {
     "name": "stderr",
     "output_type": "stream",
     "text": [
      "/usr/local/lib/python3.4/dist-packages/ipykernel/__main__.py:2: SettingWithCopyWarning: \n",
      "A value is trying to be set on a copy of a slice from a DataFrame.\n",
      "Try using .loc[row_indexer,col_indexer] = value instead\n",
      "\n",
      "See the caveats in the documentation: http://pandas.pydata.org/pandas-docs/stable/indexing.html#indexing-view-versus-copy\n",
      "  from ipykernel import kernelapp as app\n"
     ]
    },
    {
     "data": {
      "text/html": [
       "<div>\n",
       "<table border=\"1\" class=\"dataframe\">\n",
       "  <thead>\n",
       "    <tr style=\"text-align: right;\">\n",
       "      <th></th>\n",
       "      <th>rang</th>\n",
       "      <th>vorname</th>\n",
       "      <th>anzahl</th>\n",
       "      <th>jahr</th>\n",
       "      <th>geschlecht</th>\n",
       "    </tr>\n",
       "  </thead>\n",
       "  <tbody>\n",
       "    <tr>\n",
       "      <th>145</th>\n",
       "      <td>26</td>\n",
       "      <td>Elif</td>\n",
       "      <td>6</td>\n",
       "      <td>2013</td>\n",
       "      <td>w</td>\n",
       "    </tr>\n",
       "    <tr>\n",
       "      <th>146</th>\n",
       "      <td>27</td>\n",
       "      <td>Fabienne</td>\n",
       "      <td>6</td>\n",
       "      <td>2013</td>\n",
       "      <td>w</td>\n",
       "    </tr>\n",
       "    <tr>\n",
       "      <th>147</th>\n",
       "      <td>28</td>\n",
       "      <td>Lotta</td>\n",
       "      <td>6</td>\n",
       "      <td>2013</td>\n",
       "      <td>w</td>\n",
       "    </tr>\n",
       "    <tr>\n",
       "      <th>148</th>\n",
       "      <td>29</td>\n",
       "      <td>Olivia</td>\n",
       "      <td>6</td>\n",
       "      <td>2013</td>\n",
       "      <td>w</td>\n",
       "    </tr>\n",
       "    <tr>\n",
       "      <th>149</th>\n",
       "      <td>30</td>\n",
       "      <td>Sara</td>\n",
       "      <td>6</td>\n",
       "      <td>2013</td>\n",
       "      <td>w</td>\n",
       "    </tr>\n",
       "  </tbody>\n",
       "</table>\n",
       "</div>"
      ],
      "text/plain": [
       "     rang   vorname  anzahl  jahr geschlecht\n",
       "145    26      Elif       6  2013          w\n",
       "146    27  Fabienne       6  2013          w\n",
       "147    28     Lotta       6  2013          w\n",
       "148    29    Olivia       6  2013          w\n",
       "149    30      Sara       6  2013          w"
      ]
     },
     "execution_count": 7,
     "metadata": {},
     "output_type": "execute_result"
    }
   ],
   "source": [
    "# Spalte 'geschlecht' hinzufügen\n",
    "maedchen['geschlecht'] = 'w'\n",
    "maedchen.tail()"
   ]
  },
  {
   "cell_type": "code",
   "execution_count": 8,
   "metadata": {
    "collapsed": false
   },
   "outputs": [
    {
     "data": {
      "text/plain": [
       "(150, 5)"
      ]
     },
     "execution_count": 8,
     "metadata": {},
     "output_type": "execute_result"
    }
   ],
   "source": [
    "maedchen.shape"
   ]
  },
  {
   "cell_type": "code",
   "execution_count": 9,
   "metadata": {
    "collapsed": false
   },
   "outputs": [
    {
     "data": {
      "text/html": [
       "<div>\n",
       "<table border=\"1\" class=\"dataframe\">\n",
       "  <thead>\n",
       "    <tr style=\"text-align: right;\">\n",
       "      <th></th>\n",
       "      <th>rang</th>\n",
       "      <th>vorname</th>\n",
       "      <th>anzahl</th>\n",
       "      <th>jahr</th>\n",
       "      <th>geschlecht</th>\n",
       "    </tr>\n",
       "  </thead>\n",
       "  <tbody>\n",
       "    <tr>\n",
       "      <th>0</th>\n",
       "      <td>1</td>\n",
       "      <td>Sophie</td>\n",
       "      <td>37</td>\n",
       "      <td>2009</td>\n",
       "      <td>w</td>\n",
       "    </tr>\n",
       "  </tbody>\n",
       "</table>\n",
       "</div>"
      ],
      "text/plain": [
       "   rang vorname  anzahl  jahr geschlecht\n",
       "0     1  Sophie      37  2009          w"
      ]
     },
     "execution_count": 9,
     "metadata": {},
     "output_type": "execute_result"
    }
   ],
   "source": [
    "maedchen.head(1)"
   ]
  },
  {
   "cell_type": "code",
   "execution_count": 10,
   "metadata": {
    "collapsed": true
   },
   "outputs": [],
   "source": [
    "jungs = names[['rang', 'knaben', 'k_anzahl', 'jahr']]"
   ]
  },
  {
   "cell_type": "code",
   "execution_count": 11,
   "metadata": {
    "collapsed": false
   },
   "outputs": [
    {
     "data": {
      "text/html": [
       "<div>\n",
       "<table border=\"1\" class=\"dataframe\">\n",
       "  <thead>\n",
       "    <tr style=\"text-align: right;\">\n",
       "      <th></th>\n",
       "      <th>rang</th>\n",
       "      <th>knaben</th>\n",
       "      <th>k_anzahl</th>\n",
       "      <th>jahr</th>\n",
       "    </tr>\n",
       "  </thead>\n",
       "  <tbody>\n",
       "    <tr>\n",
       "      <th>0</th>\n",
       "      <td>1</td>\n",
       "      <td>Maximilian</td>\n",
       "      <td>21</td>\n",
       "      <td>2009</td>\n",
       "    </tr>\n",
       "  </tbody>\n",
       "</table>\n",
       "</div>"
      ],
      "text/plain": [
       "   rang         knaben  k_anzahl  jahr\n",
       "0     1  Maximilian           21  2009"
      ]
     },
     "execution_count": 11,
     "metadata": {},
     "output_type": "execute_result"
    }
   ],
   "source": [
    "jungs.head(1)"
   ]
  },
  {
   "cell_type": "code",
   "execution_count": 12,
   "metadata": {
    "collapsed": true
   },
   "outputs": [],
   "source": [
    "jungs.columns = ['rang', 'vorname', 'anzahl', 'jahr']"
   ]
  },
  {
   "cell_type": "code",
   "execution_count": 13,
   "metadata": {
    "collapsed": false
   },
   "outputs": [
    {
     "name": "stderr",
     "output_type": "stream",
     "text": [
      "/usr/local/lib/python3.4/dist-packages/ipykernel/__main__.py:1: SettingWithCopyWarning: \n",
      "A value is trying to be set on a copy of a slice from a DataFrame.\n",
      "Try using .loc[row_indexer,col_indexer] = value instead\n",
      "\n",
      "See the caveats in the documentation: http://pandas.pydata.org/pandas-docs/stable/indexing.html#indexing-view-versus-copy\n",
      "  if __name__ == '__main__':\n"
     ]
    }
   ],
   "source": [
    "jungs['geschlecht'] = 'm'"
   ]
  },
  {
   "cell_type": "code",
   "execution_count": 14,
   "metadata": {
    "collapsed": false
   },
   "outputs": [
    {
     "data": {
      "text/html": [
       "<div>\n",
       "<table border=\"1\" class=\"dataframe\">\n",
       "  <thead>\n",
       "    <tr style=\"text-align: right;\">\n",
       "      <th></th>\n",
       "      <th>rang</th>\n",
       "      <th>vorname</th>\n",
       "      <th>anzahl</th>\n",
       "      <th>jahr</th>\n",
       "      <th>geschlecht</th>\n",
       "    </tr>\n",
       "  </thead>\n",
       "  <tbody>\n",
       "    <tr>\n",
       "      <th>0</th>\n",
       "      <td>1</td>\n",
       "      <td>Maximilian</td>\n",
       "      <td>21</td>\n",
       "      <td>2009</td>\n",
       "      <td>m</td>\n",
       "    </tr>\n",
       "  </tbody>\n",
       "</table>\n",
       "</div>"
      ],
      "text/plain": [
       "   rang        vorname  anzahl  jahr geschlecht\n",
       "0     1  Maximilian         21  2009          m"
      ]
     },
     "execution_count": 14,
     "metadata": {},
     "output_type": "execute_result"
    }
   ],
   "source": [
    "jungs.head(1)"
   ]
  },
  {
   "cell_type": "code",
   "execution_count": 15,
   "metadata": {
    "collapsed": false
   },
   "outputs": [
    {
     "data": {
      "text/plain": [
       "(150, 5)"
      ]
     },
     "execution_count": 15,
     "metadata": {},
     "output_type": "execute_result"
    }
   ],
   "source": [
    "maedchen.shape"
   ]
  },
  {
   "cell_type": "code",
   "execution_count": 16,
   "metadata": {
    "collapsed": false
   },
   "outputs": [
    {
     "data": {
      "text/plain": [
       "(150, 5)"
      ]
     },
     "execution_count": 16,
     "metadata": {},
     "output_type": "execute_result"
    }
   ],
   "source": [
    "jungs.shape"
   ]
  },
  {
   "cell_type": "markdown",
   "metadata": {},
   "source": [
    "## 2014"
   ]
  },
  {
   "cell_type": "code",
   "execution_count": 17,
   "metadata": {
    "collapsed": false
   },
   "outputs": [
    {
     "data": {
      "text/html": [
       "<div>\n",
       "<table border=\"1\" class=\"dataframe\">\n",
       "  <thead>\n",
       "    <tr style=\"text-align: right;\">\n",
       "      <th></th>\n",
       "      <th>vorname</th>\n",
       "      <th>anzahl</th>\n",
       "      <th>geschlecht</th>\n",
       "    </tr>\n",
       "  </thead>\n",
       "  <tbody>\n",
       "    <tr>\n",
       "      <th>0</th>\n",
       "      <td>Marie</td>\n",
       "      <td>35</td>\n",
       "      <td>w</td>\n",
       "    </tr>\n",
       "    <tr>\n",
       "      <th>1</th>\n",
       "      <td>Alexander</td>\n",
       "      <td>32</td>\n",
       "      <td>m</td>\n",
       "    </tr>\n",
       "  </tbody>\n",
       "</table>\n",
       "</div>"
      ],
      "text/plain": [
       "     vorname  anzahl geschlecht\n",
       "0      Marie      35          w\n",
       "1  Alexander      32          m"
      ]
     },
     "execution_count": 17,
     "metadata": {},
     "output_type": "execute_result"
    }
   ],
   "source": [
    "# 2014 einlesen\n",
    "g = 'https://www.offenesdatenportal.de/dataset/e5ff322f-a8b7-4dc7-b281-2d3d767983f9/resource/4da3d423-9aeb-4e6e-8dbc-926649089416/download/vornamen14.csv'\n",
    "df_14 = pd.read_csv(g, sep=';')\n",
    "df_14.head(2)"
   ]
  },
  {
   "cell_type": "code",
   "execution_count": 18,
   "metadata": {
    "collapsed": false
   },
   "outputs": [
    {
     "data": {
      "text/html": [
       "<div>\n",
       "<table border=\"1\" class=\"dataframe\">\n",
       "  <thead>\n",
       "    <tr style=\"text-align: right;\">\n",
       "      <th></th>\n",
       "      <th>vorname</th>\n",
       "      <th>anzahl</th>\n",
       "      <th>geschlecht</th>\n",
       "      <th>jahr</th>\n",
       "    </tr>\n",
       "  </thead>\n",
       "  <tbody>\n",
       "    <tr>\n",
       "      <th>0</th>\n",
       "      <td>Marie</td>\n",
       "      <td>35</td>\n",
       "      <td>w</td>\n",
       "      <td>2014</td>\n",
       "    </tr>\n",
       "    <tr>\n",
       "      <th>1</th>\n",
       "      <td>Alexander</td>\n",
       "      <td>32</td>\n",
       "      <td>m</td>\n",
       "      <td>2014</td>\n",
       "    </tr>\n",
       "    <tr>\n",
       "      <th>2</th>\n",
       "      <td>Sophie</td>\n",
       "      <td>30</td>\n",
       "      <td>w</td>\n",
       "      <td>2014</td>\n",
       "    </tr>\n",
       "    <tr>\n",
       "      <th>3</th>\n",
       "      <td>Emilia</td>\n",
       "      <td>27</td>\n",
       "      <td>w</td>\n",
       "      <td>2014</td>\n",
       "    </tr>\n",
       "    <tr>\n",
       "      <th>4</th>\n",
       "      <td>Mia</td>\n",
       "      <td>25</td>\n",
       "      <td>w</td>\n",
       "      <td>2014</td>\n",
       "    </tr>\n",
       "  </tbody>\n",
       "</table>\n",
       "</div>"
      ],
      "text/plain": [
       "     vorname  anzahl geschlecht  jahr\n",
       "0      Marie      35          w  2014\n",
       "1  Alexander      32          m  2014\n",
       "2     Sophie      30          w  2014\n",
       "3     Emilia      27          w  2014\n",
       "4        Mia      25          w  2014"
      ]
     },
     "execution_count": 18,
     "metadata": {},
     "output_type": "execute_result"
    }
   ],
   "source": [
    "# Spalte 2014 erzeugen \n",
    "df_14['jahr'] = 2014\n",
    "df_14.head()"
   ]
  },
  {
   "cell_type": "code",
   "execution_count": 19,
   "metadata": {
    "collapsed": false
   },
   "outputs": [
    {
     "data": {
      "text/plain": [
       "Index(['vorname', 'anzahl', 'geschlecht', 'jahr'], dtype='object')"
      ]
     },
     "execution_count": 19,
     "metadata": {},
     "output_type": "execute_result"
    }
   ],
   "source": [
    "df_14.columns"
   ]
  },
  {
   "cell_type": "code",
   "execution_count": 20,
   "metadata": {
    "collapsed": false
   },
   "outputs": [
    {
     "data": {
      "text/html": [
       "<div>\n",
       "<table border=\"1\" class=\"dataframe\">\n",
       "  <thead>\n",
       "    <tr style=\"text-align: right;\">\n",
       "      <th></th>\n",
       "      <th>vorname</th>\n",
       "      <th>anzahl</th>\n",
       "      <th>geschlecht</th>\n",
       "      <th>jahr</th>\n",
       "    </tr>\n",
       "  </thead>\n",
       "  <tbody>\n",
       "    <tr>\n",
       "      <th>0</th>\n",
       "      <td>Marie</td>\n",
       "      <td>35</td>\n",
       "      <td>w</td>\n",
       "      <td>2014</td>\n",
       "    </tr>\n",
       "    <tr>\n",
       "      <th>2</th>\n",
       "      <td>Sophie</td>\n",
       "      <td>30</td>\n",
       "      <td>w</td>\n",
       "      <td>2014</td>\n",
       "    </tr>\n",
       "    <tr>\n",
       "      <th>3</th>\n",
       "      <td>Emilia</td>\n",
       "      <td>27</td>\n",
       "      <td>w</td>\n",
       "      <td>2014</td>\n",
       "    </tr>\n",
       "    <tr>\n",
       "      <th>4</th>\n",
       "      <td>Mia</td>\n",
       "      <td>25</td>\n",
       "      <td>w</td>\n",
       "      <td>2014</td>\n",
       "    </tr>\n",
       "    <tr>\n",
       "      <th>9</th>\n",
       "      <td>Emma</td>\n",
       "      <td>22</td>\n",
       "      <td>w</td>\n",
       "      <td>2014</td>\n",
       "    </tr>\n",
       "    <tr>\n",
       "      <th>11</th>\n",
       "      <td>Lena</td>\n",
       "      <td>18</td>\n",
       "      <td>w</td>\n",
       "      <td>2014</td>\n",
       "    </tr>\n",
       "  </tbody>\n",
       "</table>\n",
       "</div>"
      ],
      "text/plain": [
       "   vorname  anzahl geschlecht  jahr\n",
       "0    Marie      35          w  2014\n",
       "2   Sophie      30          w  2014\n",
       "3   Emilia      27          w  2014\n",
       "4      Mia      25          w  2014\n",
       "9     Emma      22          w  2014\n",
       "11    Lena      18          w  2014"
      ]
     },
     "execution_count": 20,
     "metadata": {},
     "output_type": "execute_result"
    }
   ],
   "source": [
    "# Top 30 der weiblichen Vornamen\n",
    "w_top30_14 = df_14[(df_14['geschlecht'] == 'w')].head(30)\n",
    "w_top30_14.head(6)"
   ]
  },
  {
   "cell_type": "code",
   "execution_count": 21,
   "metadata": {
    "collapsed": false
   },
   "outputs": [
    {
     "data": {
      "text/html": [
       "<div>\n",
       "<table border=\"1\" class=\"dataframe\">\n",
       "  <thead>\n",
       "    <tr style=\"text-align: right;\">\n",
       "      <th></th>\n",
       "      <th>vorname</th>\n",
       "      <th>anzahl</th>\n",
       "      <th>geschlecht</th>\n",
       "      <th>jahr</th>\n",
       "      <th>rang</th>\n",
       "    </tr>\n",
       "  </thead>\n",
       "  <tbody>\n",
       "    <tr>\n",
       "      <th>0</th>\n",
       "      <td>Marie</td>\n",
       "      <td>35</td>\n",
       "      <td>w</td>\n",
       "      <td>2014</td>\n",
       "      <td>1.0</td>\n",
       "    </tr>\n",
       "    <tr>\n",
       "      <th>2</th>\n",
       "      <td>Sophie</td>\n",
       "      <td>30</td>\n",
       "      <td>w</td>\n",
       "      <td>2014</td>\n",
       "      <td>2.0</td>\n",
       "    </tr>\n",
       "  </tbody>\n",
       "</table>\n",
       "</div>"
      ],
      "text/plain": [
       "  vorname  anzahl geschlecht  jahr  rang\n",
       "0   Marie      35          w  2014   1.0\n",
       "2  Sophie      30          w  2014   2.0"
      ]
     },
     "execution_count": 21,
     "metadata": {},
     "output_type": "execute_result"
    }
   ],
   "source": [
    "# Spalte Rang hinzufügen \n",
    "w_top30_14['rang'] = w_top30_14['anzahl'].rank(ascending=False, method='first')\n",
    "w_top30_14.head(2)"
   ]
  },
  {
   "cell_type": "code",
   "execution_count": 22,
   "metadata": {
    "collapsed": false
   },
   "outputs": [
    {
     "data": {
      "text/html": [
       "<div>\n",
       "<table border=\"1\" class=\"dataframe\">\n",
       "  <thead>\n",
       "    <tr style=\"text-align: right;\">\n",
       "      <th></th>\n",
       "      <th>vorname</th>\n",
       "      <th>anzahl</th>\n",
       "      <th>geschlecht</th>\n",
       "      <th>jahr</th>\n",
       "    </tr>\n",
       "  </thead>\n",
       "  <tbody>\n",
       "    <tr>\n",
       "      <th>1</th>\n",
       "      <td>Alexander</td>\n",
       "      <td>32</td>\n",
       "      <td>m</td>\n",
       "      <td>2014</td>\n",
       "    </tr>\n",
       "    <tr>\n",
       "      <th>5</th>\n",
       "      <td>Elias</td>\n",
       "      <td>23</td>\n",
       "      <td>m</td>\n",
       "      <td>2014</td>\n",
       "    </tr>\n",
       "  </tbody>\n",
       "</table>\n",
       "</div>"
      ],
      "text/plain": [
       "     vorname  anzahl geschlecht  jahr\n",
       "1  Alexander      32          m  2014\n",
       "5      Elias      23          m  2014"
      ]
     },
     "execution_count": 22,
     "metadata": {},
     "output_type": "execute_result"
    }
   ],
   "source": [
    "# Top 30 der männlichen Vornamen\n",
    "m_top30_14 = df_14[(df_14['geschlecht'] == 'm')].head(30)\n",
    "m_top30_14.head(2)"
   ]
  },
  {
   "cell_type": "code",
   "execution_count": 23,
   "metadata": {
    "collapsed": false
   },
   "outputs": [
    {
     "data": {
      "text/html": [
       "<div>\n",
       "<table border=\"1\" class=\"dataframe\">\n",
       "  <thead>\n",
       "    <tr style=\"text-align: right;\">\n",
       "      <th></th>\n",
       "      <th>vorname</th>\n",
       "      <th>anzahl</th>\n",
       "      <th>geschlecht</th>\n",
       "      <th>jahr</th>\n",
       "      <th>rang</th>\n",
       "    </tr>\n",
       "  </thead>\n",
       "  <tbody>\n",
       "    <tr>\n",
       "      <th>1</th>\n",
       "      <td>Alexander</td>\n",
       "      <td>32</td>\n",
       "      <td>m</td>\n",
       "      <td>2014</td>\n",
       "      <td>1.0</td>\n",
       "    </tr>\n",
       "    <tr>\n",
       "      <th>5</th>\n",
       "      <td>Elias</td>\n",
       "      <td>23</td>\n",
       "      <td>m</td>\n",
       "      <td>2014</td>\n",
       "      <td>2.0</td>\n",
       "    </tr>\n",
       "  </tbody>\n",
       "</table>\n",
       "</div>"
      ],
      "text/plain": [
       "     vorname  anzahl geschlecht  jahr  rang\n",
       "1  Alexander      32          m  2014   1.0\n",
       "5      Elias      23          m  2014   2.0"
      ]
     },
     "execution_count": 23,
     "metadata": {},
     "output_type": "execute_result"
    }
   ],
   "source": [
    "# Spalte 'Rang' hinzufügen \n",
    "m_top30_14['rang'] = m_top30_14['anzahl'].rank(ascending=False, method='first')\n",
    "m_top30_14.head(2)"
   ]
  },
  {
   "cell_type": "code",
   "execution_count": 24,
   "metadata": {
    "collapsed": false
   },
   "outputs": [
    {
     "data": {
      "text/plain": [
       "vorname        object\n",
       "anzahl          int64\n",
       "geschlecht     object\n",
       "jahr            int64\n",
       "rang          float64\n",
       "dtype: object"
      ]
     },
     "execution_count": 24,
     "metadata": {},
     "output_type": "execute_result"
    }
   ],
   "source": [
    "m_top30_14.dtypes"
   ]
  },
  {
   "cell_type": "code",
   "execution_count": 25,
   "metadata": {
    "collapsed": false
   },
   "outputs": [],
   "source": [
    "# Datentyp von Rang auf int setzen - sieht schöner aus  \n",
    "m_top30_14['rang'] = m_top30_14['rang'].astype(int)"
   ]
  },
  {
   "cell_type": "code",
   "execution_count": 26,
   "metadata": {
    "collapsed": false
   },
   "outputs": [
    {
     "data": {
      "text/html": [
       "<div>\n",
       "<table border=\"1\" class=\"dataframe\">\n",
       "  <thead>\n",
       "    <tr style=\"text-align: right;\">\n",
       "      <th></th>\n",
       "      <th>vorname</th>\n",
       "      <th>anzahl</th>\n",
       "      <th>geschlecht</th>\n",
       "      <th>jahr</th>\n",
       "      <th>rang</th>\n",
       "    </tr>\n",
       "  </thead>\n",
       "  <tbody>\n",
       "    <tr>\n",
       "      <th>1</th>\n",
       "      <td>Alexander</td>\n",
       "      <td>32</td>\n",
       "      <td>m</td>\n",
       "      <td>2014</td>\n",
       "      <td>1</td>\n",
       "    </tr>\n",
       "  </tbody>\n",
       "</table>\n",
       "</div>"
      ],
      "text/plain": [
       "     vorname  anzahl geschlecht  jahr  rang\n",
       "1  Alexander      32          m  2014     1"
      ]
     },
     "execution_count": 26,
     "metadata": {},
     "output_type": "execute_result"
    }
   ],
   "source": [
    "m_top30_14.head(1)"
   ]
  },
  {
   "cell_type": "code",
   "execution_count": 27,
   "metadata": {
    "collapsed": true
   },
   "outputs": [],
   "source": [
    "# Datentyp von Rang auf int setzen - sieht schöner aus \n",
    "w_top30_14['rang'] = w_top30_14['rang'].astype(int)"
   ]
  },
  {
   "cell_type": "code",
   "execution_count": 28,
   "metadata": {
    "collapsed": false
   },
   "outputs": [
    {
     "data": {
      "text/html": [
       "<div>\n",
       "<table border=\"1\" class=\"dataframe\">\n",
       "  <thead>\n",
       "    <tr style=\"text-align: right;\">\n",
       "      <th></th>\n",
       "      <th>vorname</th>\n",
       "      <th>anzahl</th>\n",
       "      <th>geschlecht</th>\n",
       "      <th>jahr</th>\n",
       "      <th>rang</th>\n",
       "    </tr>\n",
       "  </thead>\n",
       "  <tbody>\n",
       "    <tr>\n",
       "      <th>0</th>\n",
       "      <td>Marie</td>\n",
       "      <td>35</td>\n",
       "      <td>w</td>\n",
       "      <td>2014</td>\n",
       "      <td>1</td>\n",
       "    </tr>\n",
       "  </tbody>\n",
       "</table>\n",
       "</div>"
      ],
      "text/plain": [
       "  vorname  anzahl geschlecht  jahr  rang\n",
       "0   Marie      35          w  2014     1"
      ]
     },
     "execution_count": 28,
     "metadata": {},
     "output_type": "execute_result"
    }
   ],
   "source": [
    "w_top30_14.head(1)"
   ]
  },
  {
   "cell_type": "markdown",
   "metadata": {},
   "source": [
    "## 2015"
   ]
  },
  {
   "cell_type": "code",
   "execution_count": 29,
   "metadata": {
    "collapsed": false
   },
   "outputs": [
    {
     "data": {
      "text/html": [
       "<div>\n",
       "<table border=\"1\" class=\"dataframe\">\n",
       "  <thead>\n",
       "    <tr style=\"text-align: right;\">\n",
       "      <th></th>\n",
       "      <th>vorname</th>\n",
       "      <th>anzahl</th>\n",
       "      <th>geschlecht</th>\n",
       "    </tr>\n",
       "  </thead>\n",
       "  <tbody>\n",
       "    <tr>\n",
       "      <th>0</th>\n",
       "      <td>Marie</td>\n",
       "      <td>35</td>\n",
       "      <td>w</td>\n",
       "    </tr>\n",
       "    <tr>\n",
       "      <th>1</th>\n",
       "      <td>Alexander</td>\n",
       "      <td>32</td>\n",
       "      <td>m</td>\n",
       "    </tr>\n",
       "  </tbody>\n",
       "</table>\n",
       "</div>"
      ],
      "text/plain": [
       "     vorname  anzahl geschlecht\n",
       "0      Marie      35          w\n",
       "1  Alexander      32          m"
      ]
     },
     "execution_count": 29,
     "metadata": {},
     "output_type": "execute_result"
    }
   ],
   "source": [
    "g = 'https://www.offenesdatenportal.de/dataset/e5ff322f-a8b7-4dc7-b281-2d3d767983f9/resource/4da3d423-9aeb-4e6e-8dbc-926649089416/download/vornamen15.csv'\n",
    "df_15 = pd.read_csv(g, sep=';')\n",
    "df_15.head(2)"
   ]
  },
  {
   "cell_type": "code",
   "execution_count": 30,
   "metadata": {
    "collapsed": false
   },
   "outputs": [],
   "source": [
    "df_15['jahr'] = 2015\n",
    "# Top 30 der weiblichen Vornamen\n",
    "w_top30_15 = df_15[(df_15['geschlecht'] == 'w')].head(30)\n",
    "w_top30_15['rang'] = w_top30_15['anzahl'].rank(ascending=False, method='first')\n",
    "\n",
    "# Top 30 der männlichen Vornamen\n",
    "m_top30_15 = df_15[(df_15['geschlecht'] == 'm')].head(30)\n",
    "m_top30_15['rang'] = m_top30_15['anzahl'].rank(ascending=False, method='first')\n",
    "\n",
    "# Datentyp setzen \n",
    "m_top30_15['rang'] = m_top30_15['rang'].astype(int)\n",
    "w_top30_15['rang'] = w_top30_15['rang'].astype(int)"
   ]
  },
  {
   "cell_type": "markdown",
   "metadata": {},
   "source": [
    "## Alles zusammensetzen"
   ]
  },
  {
   "cell_type": "code",
   "execution_count": 31,
   "metadata": {
    "collapsed": false
   },
   "outputs": [],
   "source": [
    "geschlechter = [maedchen, jungs, w_top30_14, m_top30_14, w_top30_15, m_top30_15]"
   ]
  },
  {
   "cell_type": "code",
   "execution_count": 32,
   "metadata": {
    "collapsed": false
   },
   "outputs": [],
   "source": [
    "names = pd.concat(geschlechter, ignore_index=True)"
   ]
  },
  {
   "cell_type": "code",
   "execution_count": 33,
   "metadata": {
    "collapsed": false
   },
   "outputs": [
    {
     "data": {
      "text/plain": [
       "(420, 5)"
      ]
     },
     "execution_count": 33,
     "metadata": {},
     "output_type": "execute_result"
    }
   ],
   "source": [
    "# stimmt die anzahl an zeilen?\n",
    "names.shape"
   ]
  },
  {
   "cell_type": "code",
   "execution_count": 34,
   "metadata": {
    "collapsed": true
   },
   "outputs": [],
   "source": [
    "# Ergebnis in CSV speichern\n",
    "names.to_csv('names.csv')"
   ]
  },
  {
   "cell_type": "markdown",
   "metadata": {},
   "source": [
    "## YES! "
   ]
  },
  {
   "cell_type": "code",
   "execution_count": 39,
   "metadata": {
    "collapsed": false
   },
   "outputs": [
    {
     "data": {
      "text/html": [
       "<img src=\"../../static/anna.gif\"/>"
      ],
      "text/plain": [
       "<IPython.core.display.Image object>"
      ]
     },
     "metadata": {},
     "output_type": "display_data"
    }
   ],
   "source": [
    "from IPython.display import Image\n",
    "from IPython.display import display\n",
    "display(Image(url='../../static/anna.gif'))"
   ]
  },
  {
   "cell_type": "markdown",
   "metadata": {
    "collapsed": true
   },
   "source": [
    "## Noch mehr Spaß mit Vornamen! "
   ]
  },
  {
   "cell_type": "code",
   "execution_count": 40,
   "metadata": {
    "collapsed": false
   },
   "outputs": [],
   "source": [
    "sophie = names[names['vorname'] == 'Sophie']\n",
    "marie = names[names['vorname'] == 'Marie']"
   ]
  },
  {
   "cell_type": "code",
   "execution_count": 41,
   "metadata": {
    "collapsed": false
   },
   "outputs": [
    {
     "data": {
      "text/html": [
       "<div>\n",
       "<table border=\"1\" class=\"dataframe\">\n",
       "  <thead>\n",
       "    <tr style=\"text-align: right;\">\n",
       "      <th></th>\n",
       "      <th>anzahl</th>\n",
       "      <th>geschlecht</th>\n",
       "      <th>jahr</th>\n",
       "      <th>rang</th>\n",
       "      <th>vorname</th>\n",
       "    </tr>\n",
       "  </thead>\n",
       "  <tbody>\n",
       "    <tr>\n",
       "      <th>0</th>\n",
       "      <td>37</td>\n",
       "      <td>w</td>\n",
       "      <td>2009</td>\n",
       "      <td>1</td>\n",
       "      <td>Sophie</td>\n",
       "    </tr>\n",
       "    <tr>\n",
       "      <th>31</th>\n",
       "      <td>35</td>\n",
       "      <td>w</td>\n",
       "      <td>2010</td>\n",
       "      <td>2</td>\n",
       "      <td>Sophie</td>\n",
       "    </tr>\n",
       "    <tr>\n",
       "      <th>60</th>\n",
       "      <td>49</td>\n",
       "      <td>w</td>\n",
       "      <td>2011</td>\n",
       "      <td>1</td>\n",
       "      <td>Sophie</td>\n",
       "    </tr>\n",
       "    <tr>\n",
       "      <th>91</th>\n",
       "      <td>30</td>\n",
       "      <td>w</td>\n",
       "      <td>2012</td>\n",
       "      <td>2</td>\n",
       "      <td>Sophie</td>\n",
       "    </tr>\n",
       "    <tr>\n",
       "      <th>120</th>\n",
       "      <td>43</td>\n",
       "      <td>w</td>\n",
       "      <td>2013</td>\n",
       "      <td>1</td>\n",
       "      <td>Sophie</td>\n",
       "    </tr>\n",
       "    <tr>\n",
       "      <th>301</th>\n",
       "      <td>30</td>\n",
       "      <td>w</td>\n",
       "      <td>2014</td>\n",
       "      <td>2</td>\n",
       "      <td>Sophie</td>\n",
       "    </tr>\n",
       "    <tr>\n",
       "      <th>361</th>\n",
       "      <td>30</td>\n",
       "      <td>w</td>\n",
       "      <td>2015</td>\n",
       "      <td>2</td>\n",
       "      <td>Sophie</td>\n",
       "    </tr>\n",
       "  </tbody>\n",
       "</table>\n",
       "</div>"
      ],
      "text/plain": [
       "     anzahl geschlecht  jahr  rang vorname\n",
       "0        37          w  2009     1  Sophie\n",
       "31       35          w  2010     2  Sophie\n",
       "60       49          w  2011     1  Sophie\n",
       "91       30          w  2012     2  Sophie\n",
       "120      43          w  2013     1  Sophie\n",
       "301      30          w  2014     2  Sophie\n",
       "361      30          w  2015     2  Sophie"
      ]
     },
     "execution_count": 41,
     "metadata": {},
     "output_type": "execute_result"
    }
   ],
   "source": [
    "sophie"
   ]
  },
  {
   "cell_type": "code",
   "execution_count": 42,
   "metadata": {
    "collapsed": false
   },
   "outputs": [
    {
     "data": {
      "text/html": [
       "\n",
       "    <div class=\"bk-banner\">\n",
       "        <a href=\"http://bokeh.pydata.org\" target=\"_blank\" class=\"bk-logo bk-logo-small bk-logo-notebook\"></a>\n",
       "        <span id=\"7ae23140-00e0-430c-93ec-8440c618b1cb\">Loading BokehJS ...</span>\n",
       "    </div>"
      ]
     },
     "metadata": {},
     "output_type": "display_data"
    },
    {
     "data": {
      "application/javascript": [
       "\n",
       "(function(global) {\n",
       "  function now() {\n",
       "    return new Date();\n",
       "  }\n",
       "\n",
       "  if (typeof (window._bokeh_onload_callbacks) === \"undefined\") {\n",
       "    window._bokeh_onload_callbacks = [];\n",
       "  }\n",
       "\n",
       "  function run_callbacks() {\n",
       "    window._bokeh_onload_callbacks.forEach(function(callback) { callback() });\n",
       "    delete window._bokeh_onload_callbacks\n",
       "    console.info(\"Bokeh: all callbacks have finished\");\n",
       "  }\n",
       "\n",
       "  function load_libs(js_urls, callback) {\n",
       "    window._bokeh_onload_callbacks.push(callback);\n",
       "    if (window._bokeh_is_loading > 0) {\n",
       "      console.log(\"Bokeh: BokehJS is being loaded, scheduling callback at\", now());\n",
       "      return null;\n",
       "    }\n",
       "    if (js_urls == null || js_urls.length === 0) {\n",
       "      run_callbacks();\n",
       "      return null;\n",
       "    }\n",
       "    console.log(\"Bokeh: BokehJS not loaded, scheduling load and callback at\", now());\n",
       "    window._bokeh_is_loading = js_urls.length;\n",
       "    for (var i = 0; i < js_urls.length; i++) {\n",
       "      var url = js_urls[i];\n",
       "      var s = document.createElement('script');\n",
       "      s.src = url;\n",
       "      s.async = false;\n",
       "      s.onreadystatechange = s.onload = function() {\n",
       "        window._bokeh_is_loading--;\n",
       "        if (window._bokeh_is_loading === 0) {\n",
       "          console.log(\"Bokeh: all BokehJS libraries loaded\");\n",
       "          run_callbacks()\n",
       "        }\n",
       "      };\n",
       "      s.onerror = function() {\n",
       "        console.warn(\"failed to load library \" + url);\n",
       "      };\n",
       "      console.log(\"Bokeh: injecting script tag for BokehJS library: \", url);\n",
       "      document.getElementsByTagName(\"head\")[0].appendChild(s);\n",
       "    }\n",
       "  };\n",
       "\n",
       "  var js_urls = ['https://cdn.pydata.org/bokeh/release/bokeh-0.11.1.min.js', 'https://cdn.pydata.org/bokeh/release/bokeh-widgets-0.11.1.min.js', 'https://cdn.pydata.org/bokeh/release/bokeh-compiler-0.11.1.min.js'];\n",
       "\n",
       "  var inline_js = [\n",
       "    function(Bokeh) {\n",
       "      Bokeh.set_log_level(\"info\");\n",
       "    },\n",
       "    \n",
       "    function(Bokeh) {\n",
       "      Bokeh.$(\"#7ae23140-00e0-430c-93ec-8440c618b1cb\").text(\"BokehJS successfully loaded\");\n",
       "    },\n",
       "    function(Bokeh) {\n",
       "      console.log(\"Bokeh: injecting CSS: https://cdn.pydata.org/bokeh/release/bokeh-0.11.1.min.css\");\n",
       "      Bokeh.embed.inject_css(\"https://cdn.pydata.org/bokeh/release/bokeh-0.11.1.min.css\");\n",
       "      console.log(\"Bokeh: injecting CSS: https://cdn.pydata.org/bokeh/release/bokeh-widgets-0.11.1.min.css\");\n",
       "      Bokeh.embed.inject_css(\"https://cdn.pydata.org/bokeh/release/bokeh-widgets-0.11.1.min.css\");\n",
       "    }\n",
       "  ];\n",
       "\n",
       "  function run_inline_js() {\n",
       "    for (var i = 0; i < inline_js.length; i++) {\n",
       "      inline_js[i](window.Bokeh);\n",
       "    }\n",
       "  }\n",
       "\n",
       "  if (window._bokeh_is_loading === 0) {\n",
       "    console.log(\"Bokeh: BokehJS loaded, going straight to plotting\");\n",
       "    run_inline_js();\n",
       "  } else {\n",
       "    load_libs(js_urls, function() {\n",
       "      console.log(\"Bokeh: BokehJS plotting callback run at\", now());\n",
       "      run_inline_js();\n",
       "    });\n",
       "  }\n",
       "}(this));"
      ]
     },
     "metadata": {},
     "output_type": "display_data"
    }
   ],
   "source": [
    "output_notebook()"
   ]
  },
  {
   "cell_type": "code",
   "execution_count": 43,
   "metadata": {
    "collapsed": false
   },
   "outputs": [
    {
     "data": {
      "text/html": [
       "\n",
       "    <div class=\"bk-banner\">\n",
       "        <a href=\"http://bokeh.pydata.org\" target=\"_blank\" class=\"bk-logo bk-logo-small bk-logo-notebook\"></a>\n",
       "        <span id=\"d17ff424-5d5a-4fea-a657-1fa5d52f1f37\">Loading BokehJS ...</span>\n",
       "    </div>"
      ]
     },
     "metadata": {},
     "output_type": "display_data"
    },
    {
     "data": {
      "application/javascript": [
       "\n",
       "(function(global) {\n",
       "  function now() {\n",
       "    return new Date();\n",
       "  }\n",
       "\n",
       "  if (typeof (window._bokeh_onload_callbacks) === \"undefined\") {\n",
       "    window._bokeh_onload_callbacks = [];\n",
       "  }\n",
       "\n",
       "  function run_callbacks() {\n",
       "    window._bokeh_onload_callbacks.forEach(function(callback) { callback() });\n",
       "    delete window._bokeh_onload_callbacks\n",
       "    console.info(\"Bokeh: all callbacks have finished\");\n",
       "  }\n",
       "\n",
       "  function load_libs(js_urls, callback) {\n",
       "    window._bokeh_onload_callbacks.push(callback);\n",
       "    if (window._bokeh_is_loading > 0) {\n",
       "      console.log(\"Bokeh: BokehJS is being loaded, scheduling callback at\", now());\n",
       "      return null;\n",
       "    }\n",
       "    if (js_urls == null || js_urls.length === 0) {\n",
       "      run_callbacks();\n",
       "      return null;\n",
       "    }\n",
       "    console.log(\"Bokeh: BokehJS not loaded, scheduling load and callback at\", now());\n",
       "    window._bokeh_is_loading = js_urls.length;\n",
       "    for (var i = 0; i < js_urls.length; i++) {\n",
       "      var url = js_urls[i];\n",
       "      var s = document.createElement('script');\n",
       "      s.src = url;\n",
       "      s.async = false;\n",
       "      s.onreadystatechange = s.onload = function() {\n",
       "        window._bokeh_is_loading--;\n",
       "        if (window._bokeh_is_loading === 0) {\n",
       "          console.log(\"Bokeh: all BokehJS libraries loaded\");\n",
       "          run_callbacks()\n",
       "        }\n",
       "      };\n",
       "      s.onerror = function() {\n",
       "        console.warn(\"failed to load library \" + url);\n",
       "      };\n",
       "      console.log(\"Bokeh: injecting script tag for BokehJS library: \", url);\n",
       "      document.getElementsByTagName(\"head\")[0].appendChild(s);\n",
       "    }\n",
       "  };\n",
       "\n",
       "  var js_urls = ['https://cdn.pydata.org/bokeh/release/bokeh-0.11.1.min.js', 'https://cdn.pydata.org/bokeh/release/bokeh-widgets-0.11.1.min.js', 'https://cdn.pydata.org/bokeh/release/bokeh-compiler-0.11.1.min.js'];\n",
       "\n",
       "  var inline_js = [\n",
       "    function(Bokeh) {\n",
       "      Bokeh.set_log_level(\"info\");\n",
       "    },\n",
       "    \n",
       "    function(Bokeh) {\n",
       "      Bokeh.$(\"#d17ff424-5d5a-4fea-a657-1fa5d52f1f37\").text(\"BokehJS successfully loaded\");\n",
       "    },\n",
       "    function(Bokeh) {\n",
       "      console.log(\"Bokeh: injecting CSS: https://cdn.pydata.org/bokeh/release/bokeh-0.11.1.min.css\");\n",
       "      Bokeh.embed.inject_css(\"https://cdn.pydata.org/bokeh/release/bokeh-0.11.1.min.css\");\n",
       "      console.log(\"Bokeh: injecting CSS: https://cdn.pydata.org/bokeh/release/bokeh-widgets-0.11.1.min.css\");\n",
       "      Bokeh.embed.inject_css(\"https://cdn.pydata.org/bokeh/release/bokeh-widgets-0.11.1.min.css\");\n",
       "    }\n",
       "  ];\n",
       "\n",
       "  function run_inline_js() {\n",
       "    for (var i = 0; i < inline_js.length; i++) {\n",
       "      inline_js[i](window.Bokeh);\n",
       "    }\n",
       "  }\n",
       "\n",
       "  if (window._bokeh_is_loading === 0) {\n",
       "    console.log(\"Bokeh: BokehJS loaded, going straight to plotting\");\n",
       "    run_inline_js();\n",
       "  } else {\n",
       "    load_libs(js_urls, function() {\n",
       "      console.log(\"Bokeh: BokehJS plotting callback run at\", now());\n",
       "      run_inline_js();\n",
       "    });\n",
       "  }\n",
       "}(this));"
      ]
     },
     "metadata": {},
     "output_type": "display_data"
    },
    {
     "data": {
      "text/html": [
       "\n",
       "\n",
       "    <div class=\"plotdiv\" id=\"0cebaca2-9b18-4444-bc46-c9b4b0b75e44\"></div>\n",
       "<script type=\"text/javascript\">\n",
       "  \n",
       "  (function(global) {\n",
       "    function now() {\n",
       "      return new Date();\n",
       "    }\n",
       "  \n",
       "    if (typeof (window._bokeh_onload_callbacks) === \"undefined\") {\n",
       "      window._bokeh_onload_callbacks = [];\n",
       "    }\n",
       "  \n",
       "    function run_callbacks() {\n",
       "      window._bokeh_onload_callbacks.forEach(function(callback) { callback() });\n",
       "      delete window._bokeh_onload_callbacks\n",
       "      console.info(\"Bokeh: all callbacks have finished\");\n",
       "    }\n",
       "  \n",
       "    function load_libs(js_urls, callback) {\n",
       "      window._bokeh_onload_callbacks.push(callback);\n",
       "      if (window._bokeh_is_loading > 0) {\n",
       "        console.log(\"Bokeh: BokehJS is being loaded, scheduling callback at\", now());\n",
       "        return null;\n",
       "      }\n",
       "      if (js_urls == null || js_urls.length === 0) {\n",
       "        run_callbacks();\n",
       "        return null;\n",
       "      }\n",
       "      console.log(\"Bokeh: BokehJS not loaded, scheduling load and callback at\", now());\n",
       "      window._bokeh_is_loading = js_urls.length;\n",
       "      for (var i = 0; i < js_urls.length; i++) {\n",
       "        var url = js_urls[i];\n",
       "        var s = document.createElement('script');\n",
       "        s.src = url;\n",
       "        s.async = false;\n",
       "        s.onreadystatechange = s.onload = function() {\n",
       "          window._bokeh_is_loading--;\n",
       "          if (window._bokeh_is_loading === 0) {\n",
       "            console.log(\"Bokeh: all BokehJS libraries loaded\");\n",
       "            run_callbacks()\n",
       "          }\n",
       "        };\n",
       "        s.onerror = function() {\n",
       "          console.warn(\"failed to load library \" + url);\n",
       "        };\n",
       "        console.log(\"Bokeh: injecting script tag for BokehJS library: \", url);\n",
       "        document.getElementsByTagName(\"head\")[0].appendChild(s);\n",
       "      }\n",
       "    };var element = document.getElementById(\"0cebaca2-9b18-4444-bc46-c9b4b0b75e44\");\n",
       "    if (element == null) {\n",
       "      console.log(\"Bokeh: ERROR: autoload.js configured with elementid '0cebaca2-9b18-4444-bc46-c9b4b0b75e44' but no matching script tag was found. \")\n",
       "      return false;\n",
       "    }\n",
       "  \n",
       "    var js_urls = [];\n",
       "  \n",
       "    var inline_js = [\n",
       "      function(Bokeh) {\n",
       "        Bokeh.$(function() {\n",
       "            var docs_json = {\"b549789a-df09-4aaa-9b74-5169b6212e1f\":{\"roots\":{\"references\":[{\"attributes\":{\"axis_label\":\"Anzahl\",\"formatter\":{\"id\":\"699aeb2a-40b4-48c8-8429-50607ea06931\",\"type\":\"BasicTickFormatter\"},\"plot\":{\"id\":\"0bdb6d28-7013-48d9-9896-d606ef0d1946\",\"subtype\":\"Figure\",\"type\":\"Plot\"},\"ticker\":{\"id\":\"6832e9ac-4016-47fd-abc9-657165c9d62b\",\"type\":\"BasicTicker\"}},\"id\":\"540712c8-7319-4d8b-94e6-8f122b17a383\",\"type\":\"LinearAxis\"},{\"attributes\":{\"dimension\":1,\"plot\":{\"id\":\"0bdb6d28-7013-48d9-9896-d606ef0d1946\",\"subtype\":\"Figure\",\"type\":\"Plot\"},\"ticker\":{\"id\":\"6832e9ac-4016-47fd-abc9-657165c9d62b\",\"type\":\"BasicTicker\"}},\"id\":\"704eec7a-92b6-45ce-b0be-aa1b13851116\",\"type\":\"Grid\"},{\"attributes\":{\"plot\":{\"id\":\"0bdb6d28-7013-48d9-9896-d606ef0d1946\",\"subtype\":\"Figure\",\"type\":\"Plot\"}},\"id\":\"0617b030-c7ce-4445-8dd6-b98a8bcd24b0\",\"type\":\"WheelZoomTool\"},{\"attributes\":{\"plot\":{\"id\":\"0bdb6d28-7013-48d9-9896-d606ef0d1946\",\"subtype\":\"Figure\",\"type\":\"Plot\"}},\"id\":\"8dc76d32-16e2-4939-867a-a522846bc96a\",\"type\":\"PreviewSaveTool\"},{\"attributes\":{\"overlay\":{\"id\":\"69239d59-aa8b-4264-93e0-c90d77848104\",\"type\":\"BoxAnnotation\"},\"plot\":{\"id\":\"0bdb6d28-7013-48d9-9896-d606ef0d1946\",\"subtype\":\"Figure\",\"type\":\"Plot\"}},\"id\":\"746e902a-704e-4b72-a796-551d484e006e\",\"type\":\"BoxZoomTool\"},{\"attributes\":{},\"id\":\"d6ca6d78-24e7-4f35-98de-7b0a326948e5\",\"type\":\"BasicTicker\"},{\"attributes\":{},\"id\":\"6832e9ac-4016-47fd-abc9-657165c9d62b\",\"type\":\"BasicTicker\"},{\"attributes\":{\"callback\":null},\"id\":\"5be86e3b-52d7-4e9b-a6f7-145bc89bef48\",\"type\":\"DataRange1d\"},{\"attributes\":{\"callback\":null},\"id\":\"68438cd3-bc97-4450-b85a-9432662d1cd4\",\"type\":\"DataRange1d\"},{\"attributes\":{\"axis_label\":\"Jahr\",\"formatter\":{\"id\":\"aa9b5bc8-5aa0-451b-b969-2c1176bcb433\",\"type\":\"BasicTickFormatter\"},\"plot\":{\"id\":\"0bdb6d28-7013-48d9-9896-d606ef0d1946\",\"subtype\":\"Figure\",\"type\":\"Plot\"},\"ticker\":{\"id\":\"d6ca6d78-24e7-4f35-98de-7b0a326948e5\",\"type\":\"BasicTicker\"}},\"id\":\"8f6c871d-63fa-4477-afd4-2806a15f9b37\",\"type\":\"LinearAxis\"},{\"attributes\":{\"bottom_units\":\"screen\",\"fill_alpha\":{\"value\":0.5},\"fill_color\":{\"value\":\"lightgrey\"},\"left_units\":\"screen\",\"level\":\"overlay\",\"line_alpha\":{\"value\":1.0},\"line_color\":{\"value\":\"black\"},\"line_dash\":[4,4],\"line_width\":{\"value\":2},\"plot\":null,\"render_mode\":\"css\",\"right_units\":\"screen\",\"top_units\":\"screen\"},\"id\":\"69239d59-aa8b-4264-93e0-c90d77848104\",\"type\":\"BoxAnnotation\"},{\"attributes\":{\"below\":[{\"id\":\"8f6c871d-63fa-4477-afd4-2806a15f9b37\",\"type\":\"LinearAxis\"}],\"left\":[{\"id\":\"540712c8-7319-4d8b-94e6-8f122b17a383\",\"type\":\"LinearAxis\"}],\"renderers\":[{\"id\":\"8f6c871d-63fa-4477-afd4-2806a15f9b37\",\"type\":\"LinearAxis\"},{\"id\":\"f59de6f3-dea7-4e4e-9757-42b61724bb34\",\"type\":\"Grid\"},{\"id\":\"540712c8-7319-4d8b-94e6-8f122b17a383\",\"type\":\"LinearAxis\"},{\"id\":\"704eec7a-92b6-45ce-b0be-aa1b13851116\",\"type\":\"Grid\"},{\"id\":\"69239d59-aa8b-4264-93e0-c90d77848104\",\"type\":\"BoxAnnotation\"},{\"id\":\"cc4897f3-04aa-4a93-a751-ecc25c153d68\",\"type\":\"Legend\"},{\"id\":\"f2cacbc4-e919-4fb3-a854-28d0c06792f4\",\"type\":\"GlyphRenderer\"}],\"title\":\"simple line example\",\"tool_events\":{\"id\":\"bcfefb9c-1e98-4f72-a3b0-e07414d5156c\",\"type\":\"ToolEvents\"},\"tools\":[{\"id\":\"a585e6d0-f02b-4005-84ec-6dabe848818f\",\"type\":\"PanTool\"},{\"id\":\"0617b030-c7ce-4445-8dd6-b98a8bcd24b0\",\"type\":\"WheelZoomTool\"},{\"id\":\"746e902a-704e-4b72-a796-551d484e006e\",\"type\":\"BoxZoomTool\"},{\"id\":\"8dc76d32-16e2-4939-867a-a522846bc96a\",\"type\":\"PreviewSaveTool\"},{\"id\":\"05b0d3e6-fe62-4f23-8917-8d777229398c\",\"type\":\"ResizeTool\"},{\"id\":\"f02360b1-0b46-42bb-8cd5-a721827510a7\",\"type\":\"ResetTool\"},{\"id\":\"4a9284f8-e911-46ba-96ec-adc566d975f2\",\"type\":\"HelpTool\"}],\"x_range\":{\"id\":\"68438cd3-bc97-4450-b85a-9432662d1cd4\",\"type\":\"DataRange1d\"},\"y_range\":{\"id\":\"5be86e3b-52d7-4e9b-a6f7-145bc89bef48\",\"type\":\"DataRange1d\"}},\"id\":\"0bdb6d28-7013-48d9-9896-d606ef0d1946\",\"subtype\":\"Figure\",\"type\":\"Plot\"},{\"attributes\":{\"plot\":{\"id\":\"0bdb6d28-7013-48d9-9896-d606ef0d1946\",\"subtype\":\"Figure\",\"type\":\"Plot\"}},\"id\":\"a585e6d0-f02b-4005-84ec-6dabe848818f\",\"type\":\"PanTool\"},{\"attributes\":{},\"id\":\"aa9b5bc8-5aa0-451b-b969-2c1176bcb433\",\"type\":\"BasicTickFormatter\"},{\"attributes\":{},\"id\":\"699aeb2a-40b4-48c8-8429-50607ea06931\",\"type\":\"BasicTickFormatter\"},{\"attributes\":{\"plot\":{\"id\":\"0bdb6d28-7013-48d9-9896-d606ef0d1946\",\"subtype\":\"Figure\",\"type\":\"Plot\"}},\"id\":\"05b0d3e6-fe62-4f23-8917-8d777229398c\",\"type\":\"ResizeTool\"},{\"attributes\":{\"line_alpha\":{\"value\":0.1},\"line_color\":{\"value\":\"#1f77b4\"},\"line_width\":{\"value\":2},\"x\":{\"field\":\"x\"},\"y\":{\"field\":\"y\"}},\"id\":\"ef6f9455-ea0c-444b-b8c6-bf79b1e20645\",\"type\":\"Line\"},{\"attributes\":{\"plot\":{\"id\":\"0bdb6d28-7013-48d9-9896-d606ef0d1946\",\"subtype\":\"Figure\",\"type\":\"Plot\"}},\"id\":\"f02360b1-0b46-42bb-8cd5-a721827510a7\",\"type\":\"ResetTool\"},{\"attributes\":{\"callback\":null,\"column_names\":[\"x\",\"y\"],\"data\":{\"x\":[2009,2010,2011,2012,2013,2014,2015],\"y\":[37,35,49,30,43,30,30]}},\"id\":\"2b38033e-1858-4379-9c9a-e52af546fc68\",\"type\":\"ColumnDataSource\"},{\"attributes\":{\"plot\":{\"id\":\"0bdb6d28-7013-48d9-9896-d606ef0d1946\",\"subtype\":\"Figure\",\"type\":\"Plot\"}},\"id\":\"4a9284f8-e911-46ba-96ec-adc566d975f2\",\"type\":\"HelpTool\"},{\"attributes\":{\"legends\":[[\"Anzahl Name Sophie\",[{\"id\":\"f2cacbc4-e919-4fb3-a854-28d0c06792f4\",\"type\":\"GlyphRenderer\"}]]],\"plot\":{\"id\":\"0bdb6d28-7013-48d9-9896-d606ef0d1946\",\"subtype\":\"Figure\",\"type\":\"Plot\"}},\"id\":\"cc4897f3-04aa-4a93-a751-ecc25c153d68\",\"type\":\"Legend\"},{\"attributes\":{\"data_source\":{\"id\":\"2b38033e-1858-4379-9c9a-e52af546fc68\",\"type\":\"ColumnDataSource\"},\"glyph\":{\"id\":\"2327bccf-9e10-48d7-99ef-3bebc56f433f\",\"type\":\"Line\"},\"hover_glyph\":null,\"nonselection_glyph\":{\"id\":\"ef6f9455-ea0c-444b-b8c6-bf79b1e20645\",\"type\":\"Line\"},\"selection_glyph\":null},\"id\":\"f2cacbc4-e919-4fb3-a854-28d0c06792f4\",\"type\":\"GlyphRenderer\"},{\"attributes\":{\"plot\":{\"id\":\"0bdb6d28-7013-48d9-9896-d606ef0d1946\",\"subtype\":\"Figure\",\"type\":\"Plot\"},\"ticker\":{\"id\":\"d6ca6d78-24e7-4f35-98de-7b0a326948e5\",\"type\":\"BasicTicker\"}},\"id\":\"f59de6f3-dea7-4e4e-9757-42b61724bb34\",\"type\":\"Grid\"},{\"attributes\":{\"line_color\":{\"value\":\"#1f77b4\"},\"line_width\":{\"value\":2},\"x\":{\"field\":\"x\"},\"y\":{\"field\":\"y\"}},\"id\":\"2327bccf-9e10-48d7-99ef-3bebc56f433f\",\"type\":\"Line\"},{\"attributes\":{},\"id\":\"bcfefb9c-1e98-4f72-a3b0-e07414d5156c\",\"type\":\"ToolEvents\"}],\"root_ids\":[\"0bdb6d28-7013-48d9-9896-d606ef0d1946\"]},\"title\":\"Bokeh Application\",\"version\":\"0.11.1\"}};\n",
       "            var render_items = [{\"docid\":\"b549789a-df09-4aaa-9b74-5169b6212e1f\",\"elementid\":\"0cebaca2-9b18-4444-bc46-c9b4b0b75e44\",\"modelid\":\"0bdb6d28-7013-48d9-9896-d606ef0d1946\",\"notebook_comms_target\":\"66f9c868-0ffa-4eb2-94d2-f99a5f13ae46\"}];\n",
       "            \n",
       "            Bokeh.embed.embed_items(docs_json, render_items);\n",
       "        });\n",
       "      },\n",
       "      function(Bokeh) {\n",
       "      }\n",
       "    ];\n",
       "  \n",
       "    function run_inline_js() {\n",
       "      for (var i = 0; i < inline_js.length; i++) {\n",
       "        inline_js[i](window.Bokeh);\n",
       "      }\n",
       "    }\n",
       "  \n",
       "    if (window._bokeh_is_loading === 0) {\n",
       "      console.log(\"Bokeh: BokehJS loaded, going straight to plotting\");\n",
       "      run_inline_js();\n",
       "    } else {\n",
       "      load_libs(js_urls, function() {\n",
       "        console.log(\"Bokeh: BokehJS plotting callback run at\", now());\n",
       "        run_inline_js();\n",
       "      });\n",
       "    }\n",
       "  }(this));\n",
       "</script>"
      ]
     },
     "metadata": {},
     "output_type": "display_data"
    },
    {
     "data": {
      "text/html": [
       "<p><code>&lt;Bokeh Notebook handle for <strong>In[43]</strong>&gt;</code></p>"
      ],
      "text/plain": [
       "<bokeh.io._CommsHandle at 0xab96ff4c>"
      ]
     },
     "execution_count": 43,
     "metadata": {},
     "output_type": "execute_result"
    }
   ],
   "source": [
    "from bokeh.plotting import figure, output_file, show\n",
    "\n",
    "# prepare some data\n",
    "y = sophie['anzahl']\n",
    "x = sophie['jahr']\n",
    "\n",
    "# output to static HTML file\n",
    "output_notebook()\n",
    "\n",
    "# create a new plot with a title and axis labels\n",
    "p = figure(title=\"simple line example\", x_axis_label='Jahr', y_axis_label='Anzahl')\n",
    "\n",
    "# add a line renderer with legend and line thickness\n",
    "p.line(x, y, legend=\"Anzahl Name Sophie\", line_width=2)\n",
    "\n",
    "# show the results\n",
    "show(p)"
   ]
  },
  {
   "cell_type": "code",
   "execution_count": 44,
   "metadata": {
    "collapsed": false
   },
   "outputs": [
    {
     "data": {
      "text/html": [
       "<div>\n",
       "<table border=\"1\" class=\"dataframe\">\n",
       "  <thead>\n",
       "    <tr style=\"text-align: right;\">\n",
       "      <th></th>\n",
       "      <th>anzahl</th>\n",
       "      <th>geschlecht</th>\n",
       "      <th>jahr</th>\n",
       "      <th>rang</th>\n",
       "      <th>vorname</th>\n",
       "    </tr>\n",
       "  </thead>\n",
       "  <tbody>\n",
       "    <tr>\n",
       "      <th>30</th>\n",
       "      <td>41</td>\n",
       "      <td>w</td>\n",
       "      <td>2010</td>\n",
       "      <td>1</td>\n",
       "      <td>Marie</td>\n",
       "    </tr>\n",
       "    <tr>\n",
       "      <th>61</th>\n",
       "      <td>37</td>\n",
       "      <td>w</td>\n",
       "      <td>2011</td>\n",
       "      <td>2</td>\n",
       "      <td>Marie</td>\n",
       "    </tr>\n",
       "    <tr>\n",
       "      <th>90</th>\n",
       "      <td>45</td>\n",
       "      <td>w</td>\n",
       "      <td>2012</td>\n",
       "      <td>1</td>\n",
       "      <td>Marie</td>\n",
       "    </tr>\n",
       "    <tr>\n",
       "      <th>121</th>\n",
       "      <td>40</td>\n",
       "      <td>w</td>\n",
       "      <td>2013</td>\n",
       "      <td>2</td>\n",
       "      <td>Marie</td>\n",
       "    </tr>\n",
       "    <tr>\n",
       "      <th>300</th>\n",
       "      <td>35</td>\n",
       "      <td>w</td>\n",
       "      <td>2014</td>\n",
       "      <td>1</td>\n",
       "      <td>Marie</td>\n",
       "    </tr>\n",
       "    <tr>\n",
       "      <th>360</th>\n",
       "      <td>35</td>\n",
       "      <td>w</td>\n",
       "      <td>2015</td>\n",
       "      <td>1</td>\n",
       "      <td>Marie</td>\n",
       "    </tr>\n",
       "    <tr>\n",
       "      <th>0</th>\n",
       "      <td>37</td>\n",
       "      <td>w</td>\n",
       "      <td>2009</td>\n",
       "      <td>1</td>\n",
       "      <td>Sophie</td>\n",
       "    </tr>\n",
       "    <tr>\n",
       "      <th>31</th>\n",
       "      <td>35</td>\n",
       "      <td>w</td>\n",
       "      <td>2010</td>\n",
       "      <td>2</td>\n",
       "      <td>Sophie</td>\n",
       "    </tr>\n",
       "    <tr>\n",
       "      <th>60</th>\n",
       "      <td>49</td>\n",
       "      <td>w</td>\n",
       "      <td>2011</td>\n",
       "      <td>1</td>\n",
       "      <td>Sophie</td>\n",
       "    </tr>\n",
       "    <tr>\n",
       "      <th>91</th>\n",
       "      <td>30</td>\n",
       "      <td>w</td>\n",
       "      <td>2012</td>\n",
       "      <td>2</td>\n",
       "      <td>Sophie</td>\n",
       "    </tr>\n",
       "    <tr>\n",
       "      <th>120</th>\n",
       "      <td>43</td>\n",
       "      <td>w</td>\n",
       "      <td>2013</td>\n",
       "      <td>1</td>\n",
       "      <td>Sophie</td>\n",
       "    </tr>\n",
       "    <tr>\n",
       "      <th>301</th>\n",
       "      <td>30</td>\n",
       "      <td>w</td>\n",
       "      <td>2014</td>\n",
       "      <td>2</td>\n",
       "      <td>Sophie</td>\n",
       "    </tr>\n",
       "    <tr>\n",
       "      <th>361</th>\n",
       "      <td>30</td>\n",
       "      <td>w</td>\n",
       "      <td>2015</td>\n",
       "      <td>2</td>\n",
       "      <td>Sophie</td>\n",
       "    </tr>\n",
       "  </tbody>\n",
       "</table>\n",
       "</div>"
      ],
      "text/plain": [
       "     anzahl geschlecht  jahr  rang vorname\n",
       "30       41          w  2010     1   Marie\n",
       "61       37          w  2011     2   Marie\n",
       "90       45          w  2012     1   Marie\n",
       "121      40          w  2013     2   Marie\n",
       "300      35          w  2014     1   Marie\n",
       "360      35          w  2015     1   Marie\n",
       "0        37          w  2009     1  Sophie\n",
       "31       35          w  2010     2  Sophie\n",
       "60       49          w  2011     1  Sophie\n",
       "91       30          w  2012     2  Sophie\n",
       "120      43          w  2013     1  Sophie\n",
       "301      30          w  2014     2  Sophie\n",
       "361      30          w  2015     2  Sophie"
      ]
     },
     "execution_count": 44,
     "metadata": {},
     "output_type": "execute_result"
    }
   ],
   "source": [
    "sophie_marie = names[(names['vorname'] == 'Sophie') | (names['vorname'] == 'Marie')]\n",
    "sophie_marie.sort_values('vorname')"
   ]
  },
  {
   "cell_type": "code",
   "execution_count": 45,
   "metadata": {
    "collapsed": false
   },
   "outputs": [
    {
     "name": "stdout",
     "output_type": "stream",
     "text": [
      "Bitte gib deinen Namen ein: \n"
     ]
    },
    {
     "data": {
      "text/html": [
       "<div>\n",
       "<table border=\"1\" class=\"dataframe\">\n",
       "  <thead>\n",
       "    <tr style=\"text-align: right;\">\n",
       "      <th></th>\n",
       "      <th>anzahl</th>\n",
       "      <th>geschlecht</th>\n",
       "      <th>jahr</th>\n",
       "      <th>rang</th>\n",
       "      <th>vorname</th>\n",
       "    </tr>\n",
       "  </thead>\n",
       "  <tbody>\n",
       "  </tbody>\n",
       "</table>\n",
       "</div>"
      ],
      "text/plain": [
       "Empty DataFrame\n",
       "Columns: [anzahl, geschlecht, jahr, rang, vorname]\n",
       "Index: []"
      ]
     },
     "execution_count": 45,
     "metadata": {},
     "output_type": "execute_result"
    }
   ],
   "source": [
    "name = input('Bitte gib deinen Namen ein: ')\n",
    "Mein_Name = names[(names['vorname'] == name)]\n",
    "Mein_Name"
   ]
  },
  {
   "cell_type": "code",
   "execution_count": null,
   "metadata": {
    "collapsed": true
   },
   "outputs": [],
   "source": []
  },
  {
   "cell_type": "code",
   "execution_count": 46,
   "metadata": {
    "collapsed": false
   },
   "outputs": [
    {
     "data": {
      "text/html": [
       "<div>\n",
       "<table border=\"1\" class=\"dataframe\">\n",
       "  <thead>\n",
       "    <tr style=\"text-align: right;\">\n",
       "      <th>geschlecht</th>\n",
       "      <th>m</th>\n",
       "      <th>w</th>\n",
       "    </tr>\n",
       "    <tr>\n",
       "      <th>jahr</th>\n",
       "      <th></th>\n",
       "      <th></th>\n",
       "    </tr>\n",
       "  </thead>\n",
       "  <tbody>\n",
       "    <tr>\n",
       "      <th>2009</th>\n",
       "      <td>348</td>\n",
       "      <td>318</td>\n",
       "    </tr>\n",
       "    <tr>\n",
       "      <th>2010</th>\n",
       "      <td>346</td>\n",
       "      <td>358</td>\n",
       "    </tr>\n",
       "    <tr>\n",
       "      <th>2011</th>\n",
       "      <td>342</td>\n",
       "      <td>378</td>\n",
       "    </tr>\n",
       "    <tr>\n",
       "      <th>2012</th>\n",
       "      <td>328</td>\n",
       "      <td>375</td>\n",
       "    </tr>\n",
       "    <tr>\n",
       "      <th>2013</th>\n",
       "      <td>344</td>\n",
       "      <td>363</td>\n",
       "    </tr>\n",
       "    <tr>\n",
       "      <th>2014</th>\n",
       "      <td>395</td>\n",
       "      <td>388</td>\n",
       "    </tr>\n",
       "    <tr>\n",
       "      <th>2015</th>\n",
       "      <td>395</td>\n",
       "      <td>388</td>\n",
       "    </tr>\n",
       "  </tbody>\n",
       "</table>\n",
       "</div>"
      ],
      "text/plain": [
       "geschlecht    m    w\n",
       "jahr                \n",
       "2009        348  318\n",
       "2010        346  358\n",
       "2011        342  378\n",
       "2012        328  375\n",
       "2013        344  363\n",
       "2014        395  388\n",
       "2015        395  388"
      ]
     },
     "execution_count": 46,
     "metadata": {},
     "output_type": "execute_result"
    }
   ],
   "source": [
    "sum_anzahl_top30 = names.pivot_table(values='anzahl', index='jahr', columns='geschlecht', aggfunc=sum)\n",
    "sum_anzahl_top30"
   ]
  },
  {
   "cell_type": "code",
   "execution_count": 47,
   "metadata": {
    "collapsed": false
   },
   "outputs": [
    {
     "data": {
      "text/plain": [
       "<matplotlib.axes._subplots.AxesSubplot at 0xab97ad4c>"
      ]
     },
     "execution_count": 47,
     "metadata": {},
     "output_type": "execute_result"
    },
    {
     "data": {
      "image/png": "[encoded data removed]",
      "text/plain": [
       "<matplotlib.figure.Figure at 0xaba2550c>"
      ]
     },
     "metadata": {},
     "output_type": "display_data"
    }
   ],
   "source": [
    "sum_anzahl_top30.plot(title='Anzahl der Geburten nach Geschlecht und Jahr in den Top 30 Namen aus Moers')"
   ]
  },
  {
   "cell_type": "code",
   "execution_count": 48,
   "metadata": {
    "collapsed": false
   },
   "outputs": [
    {
     "data": {
      "text/html": [
       "<div>\n",
       "<table border=\"1\" class=\"dataframe\">\n",
       "  <thead>\n",
       "    <tr style=\"text-align: right;\">\n",
       "      <th>vorname</th>\n",
       "      <th>Linus</th>\n",
       "      <th>Noel</th>\n",
       "      <th>Aaron</th>\n",
       "      <th>Adrian</th>\n",
       "      <th>Alexander</th>\n",
       "      <th>Alexander</th>\n",
       "      <th>Ali</th>\n",
       "      <th>Alina</th>\n",
       "      <th>Amalia</th>\n",
       "      <th>Amelie</th>\n",
       "      <th>...</th>\n",
       "      <th>Sarah</th>\n",
       "      <th>Simon</th>\n",
       "      <th>Sofia</th>\n",
       "      <th>Sofie</th>\n",
       "      <th>Sophia</th>\n",
       "      <th>Sophie</th>\n",
       "      <th>Tim</th>\n",
       "      <th>Tom</th>\n",
       "      <th>Tom</th>\n",
       "      <th>Vincent</th>\n",
       "    </tr>\n",
       "    <tr>\n",
       "      <th>jahr</th>\n",
       "      <th></th>\n",
       "      <th></th>\n",
       "      <th></th>\n",
       "      <th></th>\n",
       "      <th></th>\n",
       "      <th></th>\n",
       "      <th></th>\n",
       "      <th></th>\n",
       "      <th></th>\n",
       "      <th></th>\n",
       "      <th></th>\n",
       "      <th></th>\n",
       "      <th></th>\n",
       "      <th></th>\n",
       "      <th></th>\n",
       "      <th></th>\n",
       "      <th></th>\n",
       "      <th></th>\n",
       "      <th></th>\n",
       "      <th></th>\n",
       "      <th></th>\n",
       "    </tr>\n",
       "  </thead>\n",
       "  <tbody>\n",
       "    <tr>\n",
       "      <th>2009</th>\n",
       "      <td>7.0</td>\n",
       "      <td>8.0</td>\n",
       "      <td>NaN</td>\n",
       "      <td>NaN</td>\n",
       "      <td>NaN</td>\n",
       "      <td>14.0</td>\n",
       "      <td>NaN</td>\n",
       "      <td>NaN</td>\n",
       "      <td>NaN</td>\n",
       "      <td>NaN</td>\n",
       "      <td>...</td>\n",
       "      <td>9.0</td>\n",
       "      <td>NaN</td>\n",
       "      <td>NaN</td>\n",
       "      <td>NaN</td>\n",
       "      <td>7.0</td>\n",
       "      <td>37.0</td>\n",
       "      <td>8.0</td>\n",
       "      <td>NaN</td>\n",
       "      <td>9.0</td>\n",
       "      <td>NaN</td>\n",
       "    </tr>\n",
       "    <tr>\n",
       "      <th>2010</th>\n",
       "      <td>NaN</td>\n",
       "      <td>NaN</td>\n",
       "      <td>NaN</td>\n",
       "      <td>7.0</td>\n",
       "      <td>22.0</td>\n",
       "      <td>NaN</td>\n",
       "      <td>7.0</td>\n",
       "      <td>NaN</td>\n",
       "      <td>NaN</td>\n",
       "      <td>9.0</td>\n",
       "      <td>...</td>\n",
       "      <td>NaN</td>\n",
       "      <td>9.0</td>\n",
       "      <td>NaN</td>\n",
       "      <td>NaN</td>\n",
       "      <td>13.0</td>\n",
       "      <td>35.0</td>\n",
       "      <td>13.0</td>\n",
       "      <td>9.0</td>\n",
       "      <td>NaN</td>\n",
       "      <td>NaN</td>\n",
       "    </tr>\n",
       "    <tr>\n",
       "      <th>2011</th>\n",
       "      <td>NaN</td>\n",
       "      <td>NaN</td>\n",
       "      <td>NaN</td>\n",
       "      <td>NaN</td>\n",
       "      <td>18.0</td>\n",
       "      <td>NaN</td>\n",
       "      <td>NaN</td>\n",
       "      <td>NaN</td>\n",
       "      <td>NaN</td>\n",
       "      <td>7.0</td>\n",
       "      <td>...</td>\n",
       "      <td>NaN</td>\n",
       "      <td>NaN</td>\n",
       "      <td>NaN</td>\n",
       "      <td>8.0</td>\n",
       "      <td>13.0</td>\n",
       "      <td>49.0</td>\n",
       "      <td>12.0</td>\n",
       "      <td>9.0</td>\n",
       "      <td>NaN</td>\n",
       "      <td>7.0</td>\n",
       "    </tr>\n",
       "    <tr>\n",
       "      <th>2012</th>\n",
       "      <td>NaN</td>\n",
       "      <td>NaN</td>\n",
       "      <td>7.0</td>\n",
       "      <td>8.0</td>\n",
       "      <td>13.0</td>\n",
       "      <td>NaN</td>\n",
       "      <td>NaN</td>\n",
       "      <td>NaN</td>\n",
       "      <td>NaN</td>\n",
       "      <td>6.0</td>\n",
       "      <td>...</td>\n",
       "      <td>NaN</td>\n",
       "      <td>7.0</td>\n",
       "      <td>NaN</td>\n",
       "      <td>NaN</td>\n",
       "      <td>12.0</td>\n",
       "      <td>30.0</td>\n",
       "      <td>7.0</td>\n",
       "      <td>NaN</td>\n",
       "      <td>NaN</td>\n",
       "      <td>NaN</td>\n",
       "    </tr>\n",
       "    <tr>\n",
       "      <th>2013</th>\n",
       "      <td>NaN</td>\n",
       "      <td>NaN</td>\n",
       "      <td>NaN</td>\n",
       "      <td>NaN</td>\n",
       "      <td>12.0</td>\n",
       "      <td>NaN</td>\n",
       "      <td>7.0</td>\n",
       "      <td>NaN</td>\n",
       "      <td>NaN</td>\n",
       "      <td>NaN</td>\n",
       "      <td>...</td>\n",
       "      <td>NaN</td>\n",
       "      <td>NaN</td>\n",
       "      <td>NaN</td>\n",
       "      <td>NaN</td>\n",
       "      <td>13.0</td>\n",
       "      <td>43.0</td>\n",
       "      <td>8.0</td>\n",
       "      <td>9.0</td>\n",
       "      <td>NaN</td>\n",
       "      <td>NaN</td>\n",
       "    </tr>\n",
       "    <tr>\n",
       "      <th>2014</th>\n",
       "      <td>NaN</td>\n",
       "      <td>NaN</td>\n",
       "      <td>NaN</td>\n",
       "      <td>NaN</td>\n",
       "      <td>32.0</td>\n",
       "      <td>NaN</td>\n",
       "      <td>7.0</td>\n",
       "      <td>7.0</td>\n",
       "      <td>6.0</td>\n",
       "      <td>12.0</td>\n",
       "      <td>...</td>\n",
       "      <td>NaN</td>\n",
       "      <td>NaN</td>\n",
       "      <td>9.0</td>\n",
       "      <td>NaN</td>\n",
       "      <td>11.0</td>\n",
       "      <td>30.0</td>\n",
       "      <td>10.0</td>\n",
       "      <td>9.0</td>\n",
       "      <td>NaN</td>\n",
       "      <td>NaN</td>\n",
       "    </tr>\n",
       "    <tr>\n",
       "      <th>2015</th>\n",
       "      <td>NaN</td>\n",
       "      <td>NaN</td>\n",
       "      <td>NaN</td>\n",
       "      <td>NaN</td>\n",
       "      <td>32.0</td>\n",
       "      <td>NaN</td>\n",
       "      <td>7.0</td>\n",
       "      <td>7.0</td>\n",
       "      <td>6.0</td>\n",
       "      <td>12.0</td>\n",
       "      <td>...</td>\n",
       "      <td>NaN</td>\n",
       "      <td>NaN</td>\n",
       "      <td>9.0</td>\n",
       "      <td>NaN</td>\n",
       "      <td>11.0</td>\n",
       "      <td>30.0</td>\n",
       "      <td>10.0</td>\n",
       "      <td>9.0</td>\n",
       "      <td>NaN</td>\n",
       "      <td>NaN</td>\n",
       "    </tr>\n",
       "  </tbody>\n",
       "</table>\n",
       "<p>7 rows × 161 columns</p>\n",
       "</div>"
      ],
      "text/plain": [
       "vorname   Linus   Noel  Aaron  Adrian  Alexander  Alexander    Ali  Alina  \\\n",
       "jahr                                                                        \n",
       "2009        7.0    8.0    NaN     NaN        NaN         14.0  NaN    NaN   \n",
       "2010        NaN    NaN    NaN     7.0       22.0          NaN  7.0    NaN   \n",
       "2011        NaN    NaN    NaN     NaN       18.0          NaN  NaN    NaN   \n",
       "2012        NaN    NaN    7.0     8.0       13.0          NaN  NaN    NaN   \n",
       "2013        NaN    NaN    NaN     NaN       12.0          NaN  7.0    NaN   \n",
       "2014        NaN    NaN    NaN     NaN       32.0          NaN  7.0    7.0   \n",
       "2015        NaN    NaN    NaN     NaN       32.0          NaN  7.0    7.0   \n",
       "\n",
       "vorname  Amalia  Amelie   ...     Sarah    Simon  Sofia  Sofie  Sophia  \\\n",
       "jahr                      ...                                            \n",
       "2009        NaN     NaN   ...         9.0    NaN    NaN    NaN     7.0   \n",
       "2010        NaN     9.0   ...         NaN    9.0    NaN    NaN    13.0   \n",
       "2011        NaN     7.0   ...         NaN    NaN    NaN    8.0    13.0   \n",
       "2012        NaN     6.0   ...         NaN    7.0    NaN    NaN    12.0   \n",
       "2013        NaN     NaN   ...         NaN    NaN    NaN    NaN    13.0   \n",
       "2014        6.0    12.0   ...         NaN    NaN    9.0    NaN    11.0   \n",
       "2015        6.0    12.0   ...         NaN    NaN    9.0    NaN    11.0   \n",
       "\n",
       "vorname  Sophie   Tim  Tom  Tom    Vincent  \n",
       "jahr                                        \n",
       "2009       37.0   8.0  NaN    9.0      NaN  \n",
       "2010       35.0  13.0  9.0    NaN      NaN  \n",
       "2011       49.0  12.0  9.0    NaN      7.0  \n",
       "2012       30.0   7.0  NaN    NaN      NaN  \n",
       "2013       43.0   8.0  9.0    NaN      NaN  \n",
       "2014       30.0  10.0  9.0    NaN      NaN  \n",
       "2015       30.0  10.0  9.0    NaN      NaN  \n",
       "\n",
       "[7 rows x 161 columns]"
      ]
     },
     "execution_count": 48,
     "metadata": {},
     "output_type": "execute_result"
    }
   ],
   "source": [
    "namen1 = names.pivot_table(values='anzahl', index='jahr', columns='vorname', aggfunc=sum)\n",
    "namen1"
   ]
  },
  {
   "cell_type": "code",
   "execution_count": 49,
   "metadata": {
    "collapsed": false
   },
   "outputs": [
    {
     "data": {
      "text/plain": [
       "Index([' Linus', ' Noel', 'Aaron', 'Adrian', 'Alexander', 'Alexander  ', 'Ali',\n",
       "       'Alina', 'Amalia', 'Amelie',\n",
       "       ...\n",
       "       'Sarah  ', 'Simon', 'Sofia', 'Sofie', 'Sophia', 'Sophie', 'Tim', 'Tom',\n",
       "       'Tom  ', 'Vincent'],\n",
       "      dtype='object', name='vorname', length=161)"
      ]
     },
     "execution_count": 49,
     "metadata": {},
     "output_type": "execute_result"
    }
   ],
   "source": [
    "namen1.columns"
   ]
  },
  {
   "cell_type": "code",
   "execution_count": 50,
   "metadata": {
    "collapsed": true
   },
   "outputs": [],
   "source": [
    "top_namen = namen1[['Marie', 'Alexander', 'Tom']]"
   ]
  },
  {
   "cell_type": "code",
   "execution_count": 51,
   "metadata": {
    "collapsed": false
   },
   "outputs": [
    {
     "data": {
      "text/plain": [
       "array([<matplotlib.axes._subplots.AxesSubplot object at 0xab8f89ec>,\n",
       "       <matplotlib.axes._subplots.AxesSubplot object at 0xab8d8dac>,\n",
       "       <matplotlib.axes._subplots.AxesSubplot object at 0xab87fd4c>], dtype=object)"
      ]
     },
     "execution_count": 51,
     "metadata": {},
     "output_type": "execute_result"
    },
    {
     "data": {
      "image/png": "[encoded data removed]",
      "text/plain": [
       "<matplotlib.figure.Figure at 0xab8b69ac>"
      ]
     },
     "metadata": {},
     "output_type": "display_data"
    }
   ],
   "source": [
    "top_namen.plot(subplots=True, figsize=(12,10), grid=False, title='Anzahl Namensträger pro Jahr')"
   ]
  }
 ],
 "metadata": {
  "kernelspec": {
   "display_name": "Python 3",
   "language": "python",
   "name": "python3"
  },
  "language_info": {
   "codemirror_mode": {
    "name": "ipython",
    "version": 3
   },
   "file_extension": ".py",
   "mimetype": "text/x-python",
   "name": "python",
   "nbconvert_exporter": "python",
   "pygments_lexer": "ipython3",
   "version": "3.4.2"
  }
 },
 "nbformat": 4,
 "nbformat_minor": 0
}
